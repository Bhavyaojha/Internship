{
 "cells": [
  {
   "cell_type": "code",
   "execution_count": 112,
   "id": "09f29509",
   "metadata": {},
   "outputs": [],
   "source": [
    "#QUES NO .01\n",
    "import selenium\n",
    "from selenium import webdriver\n",
    "import pandas as pd\n",
    "import warnings\n",
    "warnings.filterwarnings('ignore')\n"
   ]
  },
  {
   "cell_type": "code",
   "execution_count": 113,
   "id": "e0a29250",
   "metadata": {},
   "outputs": [],
   "source": [
    "driver = webdriver.Chrome(r'C:\\Users\\BHAVYA OJHA\\OneDrive\\Documents\\Downloads\\chromedriver_win32 (2)\\chromedriver.exe')"
   ]
  },
  {
   "cell_type": "code",
   "execution_count": 114,
   "id": "fd64885f",
   "metadata": {},
   "outputs": [],
   "source": [
    "url='https://www.naukri.com/'\n",
    "driver.get(url)"
   ]
  },
  {
   "cell_type": "code",
   "execution_count": 115,
   "id": "2648a85d",
   "metadata": {},
   "outputs": [],
   "source": [
    "from selenium.webdriver.common.by import By"
   ]
  },
  {
   "cell_type": "code",
   "execution_count": 116,
   "id": "ce2acd2f",
   "metadata": {},
   "outputs": [
    {
     "data": {
      "text/plain": [
       "<selenium.webdriver.remote.webelement.WebElement (session=\"c26b91ab42db92afc1e21ac8a294a576\", element=\"85f22dc9-6449-4100-b640-8c374855605d\")>"
      ]
     },
     "execution_count": 116,
     "metadata": {},
     "output_type": "execute_result"
    }
   ],
   "source": [
    "search_jobs = driver.find_element(By.CLASS_NAME,'suggestor-input')\n",
    "search_jobs"
   ]
  },
  {
   "cell_type": "code",
   "execution_count": 117,
   "id": "4d02a565",
   "metadata": {},
   "outputs": [],
   "source": [
    "search_jobs.send_keys('Data Analyst')"
   ]
  },
  {
   "cell_type": "code",
   "execution_count": 118,
   "id": "7875bd9d",
   "metadata": {},
   "outputs": [
    {
     "data": {
      "text/plain": [
       "<selenium.webdriver.remote.webelement.WebElement (session=\"c26b91ab42db92afc1e21ac8a294a576\", element=\"504b22eb-4e43-4f45-9f25-f60f9384f3a9\")>"
      ]
     },
     "execution_count": 118,
     "metadata": {},
     "output_type": "execute_result"
    }
   ],
   "source": [
    "search_locn= driver.find_element(By.XPATH,'/html/body/div[1]/div[2]/div[3]/div/div/div[5]/div/div/div/input')\n",
    "search_locn"
   ]
  },
  {
   "cell_type": "code",
   "execution_count": 119,
   "id": "590faff9",
   "metadata": {},
   "outputs": [],
   "source": [
    "search_locn.send_keys('Bangalore')"
   ]
  },
  {
   "cell_type": "code",
   "execution_count": 120,
   "id": "9d5b52a5",
   "metadata": {},
   "outputs": [
    {
     "data": {
      "text/plain": [
       "<selenium.webdriver.remote.webelement.WebElement (session=\"c26b91ab42db92afc1e21ac8a294a576\", element=\"fc6a4da1-44df-4f06-923f-38ba8a116cec\")>"
      ]
     },
     "execution_count": 120,
     "metadata": {},
     "output_type": "execute_result"
    }
   ],
   "source": [
    "search_btn= driver.find_element (By.XPATH,'/html/body/div[1]/div[2]/div[3]/div/div/div[6]')\n",
    "search_btn"
   ]
  },
  {
   "cell_type": "code",
   "execution_count": 121,
   "id": "9e67a803",
   "metadata": {},
   "outputs": [],
   "source": [
    "search_btn.click()"
   ]
  },
  {
   "cell_type": "code",
   "execution_count": 122,
   "id": "45416478",
   "metadata": {},
   "outputs": [
    {
     "data": {
      "text/plain": [
       "0"
      ]
     },
     "execution_count": 122,
     "metadata": {},
     "output_type": "execute_result"
    }
   ],
   "source": [
    "title_tags = driver.find_elements (By.XPATH,'//a[@class=\"title fw500 ellipsis\"]')\n",
    "len (title_tags)"
   ]
  },
  {
   "cell_type": "code",
   "execution_count": 123,
   "id": "909054e3",
   "metadata": {},
   "outputs": [
    {
     "data": {
      "text/plain": [
       "0"
      ]
     },
     "execution_count": 123,
     "metadata": {},
     "output_type": "execute_result"
    }
   ],
   "source": [
    "job_titles = []\n",
    "for i in title_tags:\n",
    "    job_titles.append(i.text)\n",
    "len (job_titles)"
   ]
  },
  {
   "cell_type": "code",
   "execution_count": 124,
   "id": "a86408fc",
   "metadata": {},
   "outputs": [
    {
     "data": {
      "text/plain": [
       "[]"
      ]
     },
     "execution_count": 124,
     "metadata": {},
     "output_type": "execute_result"
    }
   ],
   "source": [
    "job_titles"
   ]
  },
  {
   "cell_type": "code",
   "execution_count": 125,
   "id": "9a30b665",
   "metadata": {},
   "outputs": [
    {
     "data": {
      "text/plain": [
       "20"
      ]
     },
     "execution_count": 125,
     "metadata": {},
     "output_type": "execute_result"
    }
   ],
   "source": [
    "loc_tags = driver.find_elements (By.XPATH,'//li[@class=\"fleft grey-text br2 placeHolderLi location\"]')\n",
    "len(loc_tags)"
   ]
  },
  {
   "cell_type": "code",
   "execution_count": 126,
   "id": "50636843",
   "metadata": {},
   "outputs": [
    {
     "data": {
      "text/plain": [
       "20"
      ]
     },
     "execution_count": 126,
     "metadata": {},
     "output_type": "execute_result"
    }
   ],
   "source": [
    "Location = []\n",
    "for i in loc_tags:\n",
    "    Location.append(i.text)\n",
    "len (Location)"
   ]
  },
  {
   "cell_type": "code",
   "execution_count": 127,
   "id": "f77ad2dc",
   "metadata": {},
   "outputs": [
    {
     "data": {
      "text/plain": [
       "['Bangalore/Bengaluru, karnataka\\n(WFH during Covid)',\n",
       " 'Bangalore/Bengaluru',\n",
       " 'Bangalore/Bengaluru, Pune, Chennai',\n",
       " 'Bangalore/Bengaluru, Ahmedabad',\n",
       " 'Bangalore/Bengaluru',\n",
       " 'Bangalore/Bengaluru(Old Madras Road)',\n",
       " 'Bangalore/Bengaluru, Noida, Hyderabad/Secunderabad, Gurgaon/Gurugram, Chennai, Mumbai (All Areas), Pune',\n",
       " 'Bangalore/Bengaluru',\n",
       " 'Bangalore/Bengaluru',\n",
       " 'Bangalore/Bengaluru',\n",
       " 'Bangalore/Bengaluru',\n",
       " 'Bangalore/Bengaluru',\n",
       " 'Bangalore/Bengaluru',\n",
       " 'Bangalore/Bengaluru',\n",
       " 'Bangalore/Bengaluru, Kolkata, New Delhi, Hyderabad/Secunderabad, Chennai, Mumbai (All Areas)',\n",
       " 'Bangalore/Bengaluru, Mumbai, Hyderabad/Secunderabad, Pune, Chennai, Ahmedabad',\n",
       " 'Bangalore/Bengaluru',\n",
       " 'Bangalore/Bengaluru',\n",
       " 'Bangalore/Bengaluru',\n",
       " 'Bangalore/Bengaluru']"
      ]
     },
     "execution_count": 127,
     "metadata": {},
     "output_type": "execute_result"
    }
   ],
   "source": [
    "Location"
   ]
  },
  {
   "cell_type": "code",
   "execution_count": 128,
   "id": "9e519041",
   "metadata": {},
   "outputs": [
    {
     "data": {
      "text/plain": [
       "20"
      ]
     },
     "execution_count": 128,
     "metadata": {},
     "output_type": "execute_result"
    }
   ],
   "source": [
    "comp_name = driver.find_elements(By.XPATH,'//a[@class=\"subTitle ellipsis fleft\"]')\n",
    "len(comp_name)"
   ]
  },
  {
   "cell_type": "code",
   "execution_count": 129,
   "id": "c61158eb",
   "metadata": {},
   "outputs": [
    {
     "data": {
      "text/plain": [
       "20"
      ]
     },
     "execution_count": 129,
     "metadata": {},
     "output_type": "execute_result"
    }
   ],
   "source": [
    "company_name = []\n",
    "for i in comp_name:\n",
    "    company_name.append(i.text)\n",
    "len (company_name)"
   ]
  },
  {
   "cell_type": "code",
   "execution_count": 130,
   "id": "60cdd555",
   "metadata": {},
   "outputs": [
    {
     "data": {
      "text/plain": [
       "['Collabera',\n",
       " 'Thomson Reuters',\n",
       " 'Capco',\n",
       " 'CURise Analytics Pvt. Ltd.',\n",
       " 'Thomson Reuters',\n",
       " 'KrazyBee',\n",
       " 'Wipro',\n",
       " 'Optum',\n",
       " 'Optum',\n",
       " 'Meesho',\n",
       " 'Nuance India',\n",
       " 'Cerner',\n",
       " 'Wells Fargo',\n",
       " 'Happay-Expense Management Solution for Businesses',\n",
       " 'Kititan Co., Ltd',\n",
       " 'Artech infosystem',\n",
       " \"Moody's\",\n",
       " \"Moody's\",\n",
       " \"Moody's\",\n",
       " 'Schneider Electric']"
      ]
     },
     "execution_count": 130,
     "metadata": {},
     "output_type": "execute_result"
    }
   ],
   "source": [
    "company_name"
   ]
  },
  {
   "cell_type": "code",
   "execution_count": 131,
   "id": "2dcc851e",
   "metadata": {},
   "outputs": [
    {
     "data": {
      "text/plain": [
       "20"
      ]
     },
     "execution_count": 131,
     "metadata": {},
     "output_type": "execute_result"
    }
   ],
   "source": [
    "exp_tags = driver.find_elements (By.XPATH,'//li[@class=\"fleft grey-text br2 placeHolderLi experience\"]')\n",
    "len(exp_tags)"
   ]
  },
  {
   "cell_type": "code",
   "execution_count": 132,
   "id": "a8ba57db",
   "metadata": {},
   "outputs": [
    {
     "data": {
      "text/plain": [
       "20"
      ]
     },
     "execution_count": 132,
     "metadata": {},
     "output_type": "execute_result"
    }
   ],
   "source": [
    "expiernce = []\n",
    "for i in exp_tags:\n",
    "    expiernce.append(i.text)\n",
    "len (expiernce)"
   ]
  },
  {
   "cell_type": "code",
   "execution_count": 133,
   "id": "54af95e3",
   "metadata": {},
   "outputs": [
    {
     "data": {
      "text/plain": [
       "['6-11 Yrs',\n",
       " '5-8 Yrs',\n",
       " '7-12 Yrs',\n",
       " '0-2 Yrs',\n",
       " '2-3 Yrs',\n",
       " '3-6 Yrs',\n",
       " '4-9 Yrs',\n",
       " '2-7 Yrs',\n",
       " '1-4 Yrs',\n",
       " '3-6 Yrs',\n",
       " '3-8 Yrs',\n",
       " '2-4 Yrs',\n",
       " '4-7 Yrs',\n",
       " '1-2 Yrs',\n",
       " '5-10 Yrs',\n",
       " '1-6 Yrs',\n",
       " '1-3 Yrs',\n",
       " '3-5 Yrs',\n",
       " '1-3 Yrs',\n",
       " '3-6 Yrs']"
      ]
     },
     "execution_count": 133,
     "metadata": {},
     "output_type": "execute_result"
    }
   ],
   "source": [
    "expiernce"
   ]
  },
  {
   "cell_type": "code",
   "execution_count": 134,
   "id": "fd842545",
   "metadata": {},
   "outputs": [
    {
     "data": {
      "text/plain": [
       "(0, 20, 20, 20)"
      ]
     },
     "execution_count": 134,
     "metadata": {},
     "output_type": "execute_result"
    }
   ],
   "source": [
    "len(job_titles),len(company_name),len(expiernce),len(Location)"
   ]
  },
  {
   "cell_type": "code",
   "execution_count": 135,
   "id": "2d53990e",
   "metadata": {},
   "outputs": [
    {
     "data": {
      "text/html": [
       "<div>\n",
       "<style scoped>\n",
       "    .dataframe tbody tr th:only-of-type {\n",
       "        vertical-align: middle;\n",
       "    }\n",
       "\n",
       "    .dataframe tbody tr th {\n",
       "        vertical-align: top;\n",
       "    }\n",
       "\n",
       "    .dataframe thead th {\n",
       "        text-align: right;\n",
       "    }\n",
       "</style>\n",
       "<table border=\"1\" class=\"dataframe\">\n",
       "  <thead>\n",
       "    <tr style=\"text-align: right;\">\n",
       "      <th></th>\n",
       "      <th>Job Titles</th>\n",
       "      <th>Company</th>\n",
       "      <th>Experince</th>\n",
       "      <th>Location</th>\n",
       "    </tr>\n",
       "  </thead>\n",
       "  <tbody>\n",
       "    <tr>\n",
       "      <th>0</th>\n",
       "      <td>NaN</td>\n",
       "      <td>Collabera</td>\n",
       "      <td>6-11 Yrs</td>\n",
       "      <td>Bangalore/Bengaluru, karnataka\\n(WFH during Co...</td>\n",
       "    </tr>\n",
       "    <tr>\n",
       "      <th>1</th>\n",
       "      <td>NaN</td>\n",
       "      <td>Thomson Reuters</td>\n",
       "      <td>5-8 Yrs</td>\n",
       "      <td>Bangalore/Bengaluru</td>\n",
       "    </tr>\n",
       "    <tr>\n",
       "      <th>2</th>\n",
       "      <td>NaN</td>\n",
       "      <td>Capco</td>\n",
       "      <td>7-12 Yrs</td>\n",
       "      <td>Bangalore/Bengaluru, Pune, Chennai</td>\n",
       "    </tr>\n",
       "    <tr>\n",
       "      <th>3</th>\n",
       "      <td>NaN</td>\n",
       "      <td>CURise Analytics Pvt. Ltd.</td>\n",
       "      <td>0-2 Yrs</td>\n",
       "      <td>Bangalore/Bengaluru, Ahmedabad</td>\n",
       "    </tr>\n",
       "    <tr>\n",
       "      <th>4</th>\n",
       "      <td>NaN</td>\n",
       "      <td>Thomson Reuters</td>\n",
       "      <td>2-3 Yrs</td>\n",
       "      <td>Bangalore/Bengaluru</td>\n",
       "    </tr>\n",
       "    <tr>\n",
       "      <th>5</th>\n",
       "      <td>NaN</td>\n",
       "      <td>KrazyBee</td>\n",
       "      <td>3-6 Yrs</td>\n",
       "      <td>Bangalore/Bengaluru(Old Madras Road)</td>\n",
       "    </tr>\n",
       "    <tr>\n",
       "      <th>6</th>\n",
       "      <td>NaN</td>\n",
       "      <td>Wipro</td>\n",
       "      <td>4-9 Yrs</td>\n",
       "      <td>Bangalore/Bengaluru, Noida, Hyderabad/Secunder...</td>\n",
       "    </tr>\n",
       "    <tr>\n",
       "      <th>7</th>\n",
       "      <td>NaN</td>\n",
       "      <td>Optum</td>\n",
       "      <td>2-7 Yrs</td>\n",
       "      <td>Bangalore/Bengaluru</td>\n",
       "    </tr>\n",
       "    <tr>\n",
       "      <th>8</th>\n",
       "      <td>NaN</td>\n",
       "      <td>Optum</td>\n",
       "      <td>1-4 Yrs</td>\n",
       "      <td>Bangalore/Bengaluru</td>\n",
       "    </tr>\n",
       "    <tr>\n",
       "      <th>9</th>\n",
       "      <td>NaN</td>\n",
       "      <td>Meesho</td>\n",
       "      <td>3-6 Yrs</td>\n",
       "      <td>Bangalore/Bengaluru</td>\n",
       "    </tr>\n",
       "  </tbody>\n",
       "</table>\n",
       "</div>"
      ],
      "text/plain": [
       "   Job Titles                     Company Experince  \\\n",
       "0         NaN                   Collabera  6-11 Yrs   \n",
       "1         NaN             Thomson Reuters   5-8 Yrs   \n",
       "2         NaN                       Capco  7-12 Yrs   \n",
       "3         NaN  CURise Analytics Pvt. Ltd.   0-2 Yrs   \n",
       "4         NaN             Thomson Reuters   2-3 Yrs   \n",
       "5         NaN                    KrazyBee   3-6 Yrs   \n",
       "6         NaN                       Wipro   4-9 Yrs   \n",
       "7         NaN                       Optum   2-7 Yrs   \n",
       "8         NaN                       Optum   1-4 Yrs   \n",
       "9         NaN                      Meesho   3-6 Yrs   \n",
       "\n",
       "                                            Location  \n",
       "0  Bangalore/Bengaluru, karnataka\\n(WFH during Co...  \n",
       "1                                Bangalore/Bengaluru  \n",
       "2                 Bangalore/Bengaluru, Pune, Chennai  \n",
       "3                     Bangalore/Bengaluru, Ahmedabad  \n",
       "4                                Bangalore/Bengaluru  \n",
       "5               Bangalore/Bengaluru(Old Madras Road)  \n",
       "6  Bangalore/Bengaluru, Noida, Hyderabad/Secunder...  \n",
       "7                                Bangalore/Bengaluru  \n",
       "8                                Bangalore/Bengaluru  \n",
       "9                                Bangalore/Bengaluru  "
      ]
     },
     "execution_count": 135,
     "metadata": {},
     "output_type": "execute_result"
    }
   ],
   "source": [
    "jobs =  pd.DataFrame()\n",
    "jobs['Job Titles'] =job_titles\n",
    "jobs['Company'] =company_name\n",
    "jobs['Experince'] =expiernce\n",
    "jobs['Location'] = Location\n",
    "jobs[:10]"
   ]
  },
  {
   "cell_type": "code",
   "execution_count": 136,
   "id": "f224fdba",
   "metadata": {},
   "outputs": [],
   "source": [
    "#QUES NO 02\n",
    "import selenium\n",
    "from selenium import webdriver\n",
    "import pandas as pd\n",
    "import warnings\n",
    "warnings.filterwarnings('ignore')"
   ]
  },
  {
   "cell_type": "code",
   "execution_count": 460,
   "id": "44329b92",
   "metadata": {},
   "outputs": [],
   "source": [
    "driver = webdriver.Chrome(r'C:\\Users\\BHAVYA OJHA\\OneDrive\\Documents\\Downloads\\chromedriver_win32 (2)\\chromedriver.exe')"
   ]
  },
  {
   "cell_type": "code",
   "execution_count": 461,
   "id": "902f70a8",
   "metadata": {},
   "outputs": [],
   "source": [
    "url='https://www.naukri.com/'\n",
    "driver.get(url)"
   ]
  },
  {
   "cell_type": "code",
   "execution_count": 462,
   "id": "2bf9d7a0",
   "metadata": {},
   "outputs": [],
   "source": [
    "from selenium.webdriver.common.by import By"
   ]
  },
  {
   "cell_type": "code",
   "execution_count": 463,
   "id": "74c72d5f",
   "metadata": {},
   "outputs": [
    {
     "data": {
      "text/plain": [
       "<selenium.webdriver.remote.webelement.WebElement (session=\"28c035978b512a9fd9ecc50194677349\", element=\"cdfb7e52-a813-4f28-a9b1-bfdffffd607a\")>"
      ]
     },
     "execution_count": 463,
     "metadata": {},
     "output_type": "execute_result"
    }
   ],
   "source": [
    "search_jobs = driver.find_element(By.CLASS_NAME,'suggestor-input')\n",
    "search_jobs"
   ]
  },
  {
   "cell_type": "code",
   "execution_count": 464,
   "id": "1e6e71f0",
   "metadata": {},
   "outputs": [],
   "source": [
    "search_jobs.send_keys('Data Scientist')"
   ]
  },
  {
   "cell_type": "code",
   "execution_count": 465,
   "id": "d849de90",
   "metadata": {},
   "outputs": [
    {
     "data": {
      "text/plain": [
       "<selenium.webdriver.remote.webelement.WebElement (session=\"28c035978b512a9fd9ecc50194677349\", element=\"d9e0930f-ac00-482c-9dc1-092ef32a046e\")>"
      ]
     },
     "execution_count": 465,
     "metadata": {},
     "output_type": "execute_result"
    }
   ],
   "source": [
    "search_locn= driver.find_element(By.XPATH,'/html/body/div[1]/div[2]/div[3]/div/div/div[5]/div/div/div/input')\n",
    "search_locn"
   ]
  },
  {
   "cell_type": "code",
   "execution_count": 466,
   "id": "68618a5b",
   "metadata": {},
   "outputs": [],
   "source": [
    "search_locn.send_keys('Bangalore')"
   ]
  },
  {
   "cell_type": "code",
   "execution_count": 467,
   "id": "76bd39c8",
   "metadata": {},
   "outputs": [
    {
     "data": {
      "text/plain": [
       "<selenium.webdriver.remote.webelement.WebElement (session=\"28c035978b512a9fd9ecc50194677349\", element=\"d977b25e-7eba-49ca-bf3e-5c9cafc56b41\")>"
      ]
     },
     "execution_count": 467,
     "metadata": {},
     "output_type": "execute_result"
    }
   ],
   "source": [
    "search_btn= driver.find_element (By.XPATH,'/html/body/div[1]/div[2]/div[3]/div/div/div[6]')\n",
    "search_btn"
   ]
  },
  {
   "cell_type": "code",
   "execution_count": 468,
   "id": "9d127ff0",
   "metadata": {},
   "outputs": [],
   "source": [
    "search_btn.click()"
   ]
  },
  {
   "cell_type": "code",
   "execution_count": 470,
   "id": "08c6a3fb",
   "metadata": {},
   "outputs": [
    {
     "data": {
      "text/plain": [
       "20"
      ]
     },
     "execution_count": 470,
     "metadata": {},
     "output_type": "execute_result"
    }
   ],
   "source": [
    "title_tags = driver.find_elements (By.XPATH,'//a[@class=\"title fw500 ellipsis\"]')\n",
    "len (title_tags)"
   ]
  },
  {
   "cell_type": "code",
   "execution_count": 471,
   "id": "c349eb2b",
   "metadata": {},
   "outputs": [
    {
     "data": {
      "text/plain": [
       "20"
      ]
     },
     "execution_count": 471,
     "metadata": {},
     "output_type": "execute_result"
    }
   ],
   "source": [
    "job_titles = []\n",
    "for i in title_tags:\n",
    "    job_titles.append(i.text)\n",
    "len (job_titles)"
   ]
  },
  {
   "cell_type": "code",
   "execution_count": 472,
   "id": "2c2852a3",
   "metadata": {},
   "outputs": [
    {
     "data": {
      "text/plain": [
       "['Data Scientist/ Senior Data Scientist',\n",
       " 'Urgent Job Opening For AI Practitioner - Data Science at Wipro Holmes',\n",
       " 'Hiring For Senior Data Scientist',\n",
       " 'Dataiku Consultant',\n",
       " 'Data Scientist',\n",
       " 'Data & Analytics Tech - Informatica Cloud- Senior Associate',\n",
       " 'Data Scientist: Advanced Analytics',\n",
       " 'Research Scientist',\n",
       " 'Principal - Data Scientist',\n",
       " 'Research and Development -AI/ML -(PhD )',\n",
       " 'Opportunity For Data Scientist - Female Candidates ONLY',\n",
       " 'Senior Data Science Engineer',\n",
       " 'Data Science - Engineering Manager',\n",
       " 'Data Scientist',\n",
       " 'EY GBS - Assistant Director - Data Science (10+ years), Bangalore',\n",
       " 'Data Scientist',\n",
       " 'Data Scientist, Personalization',\n",
       " 'AWS Sagemaker',\n",
       " 'Data Scientist',\n",
       " 'Data Scientist: Artificial Intelligence']"
      ]
     },
     "execution_count": 472,
     "metadata": {},
     "output_type": "execute_result"
    }
   ],
   "source": [
    "job_titles"
   ]
  },
  {
   "cell_type": "code",
   "execution_count": 473,
   "id": "8c2dc057",
   "metadata": {},
   "outputs": [
    {
     "data": {
      "text/plain": [
       "20"
      ]
     },
     "execution_count": 473,
     "metadata": {},
     "output_type": "execute_result"
    }
   ],
   "source": [
    "loc_tags = driver.find_elements (By.XPATH,'//li[@class=\"fleft grey-text br2 placeHolderLi location\"]')\n",
    "len(loc_tags)"
   ]
  },
  {
   "cell_type": "code",
   "execution_count": 474,
   "id": "21c3dc51",
   "metadata": {},
   "outputs": [
    {
     "data": {
      "text/plain": [
       "20"
      ]
     },
     "execution_count": 474,
     "metadata": {},
     "output_type": "execute_result"
    }
   ],
   "source": [
    "Location = []\n",
    "for i in loc_tags:\n",
    "    Location.append(i.text)\n",
    "len (Location)"
   ]
  },
  {
   "cell_type": "code",
   "execution_count": 475,
   "id": "fbb19b06",
   "metadata": {},
   "outputs": [
    {
     "data": {
      "text/plain": [
       "['Bangalore/Bengaluru, Pune, Gurgaon/Gurugram, Chennai, Mumbai (All Areas)',\n",
       " 'Bangalore/Bengaluru, Kochi/Cochin, New Delhi, Coimbatore, Chennai, Pune, Mumbai, Hyderabad',\n",
       " 'Bangalore/Bengaluru, Pune',\n",
       " 'Bangalore/Bengaluru, Pune, Chennai',\n",
       " 'Bangalore/Bengaluru',\n",
       " 'Bangalore/Bengaluru',\n",
       " 'Bangalore/Bengaluru',\n",
       " 'Bangalore/Bengaluru',\n",
       " 'Bangalore/Bengaluru',\n",
       " 'Bangalore/Bengaluru, Noida, Hyderabad/Secunderabad, Pune, Gurgaon/Gurugram, Chennai, Delhi / NCR',\n",
       " 'Bangalore/Bengaluru, Gurgaon/Gurugram, Mumbai (All Areas)',\n",
       " 'Bangalore/Bengaluru, Gurgaon/Gurugram, Mumbai (All Areas)',\n",
       " 'Bangalore/Bengaluru, Noida, Mumbai',\n",
       " 'Bangalore/Bengaluru, Mumbai (All Areas)',\n",
       " 'Bangalore/Bengaluru',\n",
       " 'Bangalore/Bengaluru',\n",
       " 'Bangalore/Bengaluru',\n",
       " 'Bangalore/Bengaluru\\n(WFH during Covid)',\n",
       " 'Bangalore/Bengaluru\\n(WFH during Covid)',\n",
       " 'Bangalore/Bengaluru']"
      ]
     },
     "execution_count": 475,
     "metadata": {},
     "output_type": "execute_result"
    }
   ],
   "source": [
    "Location"
   ]
  },
  {
   "cell_type": "code",
   "execution_count": 476,
   "id": "396a6be8",
   "metadata": {},
   "outputs": [
    {
     "data": {
      "text/plain": [
       "20"
      ]
     },
     "execution_count": 476,
     "metadata": {},
     "output_type": "execute_result"
    }
   ],
   "source": [
    "comp_name = driver.find_elements(By.XPATH,'//a[@class=\"subTitle ellipsis fleft\"]')\n",
    "len(comp_name)"
   ]
  },
  {
   "cell_type": "code",
   "execution_count": 477,
   "id": "2f4c6a35",
   "metadata": {},
   "outputs": [
    {
     "data": {
      "text/plain": [
       "20"
      ]
     },
     "execution_count": 477,
     "metadata": {},
     "output_type": "execute_result"
    }
   ],
   "source": [
    "company_name = []\n",
    "for i in comp_name:\n",
    "    company_name.append(i.text)\n",
    "len (company_name)"
   ]
  },
  {
   "cell_type": "code",
   "execution_count": 478,
   "id": "472d8753",
   "metadata": {},
   "outputs": [
    {
     "data": {
      "text/plain": [
       "['Fractal Analytics',\n",
       " 'Wipro',\n",
       " 'TATA CONSULTANCY SERVICES (TCS)',\n",
       " 'Wipro',\n",
       " 'Applied Materials',\n",
       " 'PwC',\n",
       " 'IBM',\n",
       " 'IBM',\n",
       " 'Schneider Electric',\n",
       " 'EXL',\n",
       " 'PayU',\n",
       " 'Fractal Analytics',\n",
       " 'Paytm',\n",
       " 'UPL',\n",
       " 'EYGBS',\n",
       " 'IBM',\n",
       " 'Walmart',\n",
       " 'Wipro',\n",
       " 'Wipro',\n",
       " 'IBM']"
      ]
     },
     "execution_count": 478,
     "metadata": {},
     "output_type": "execute_result"
    }
   ],
   "source": [
    "company_name\n"
   ]
  },
  {
   "cell_type": "code",
   "execution_count": 479,
   "id": "55747945",
   "metadata": {},
   "outputs": [
    {
     "data": {
      "text/plain": [
       "(20, 20, 20)"
      ]
     },
     "execution_count": 479,
     "metadata": {},
     "output_type": "execute_result"
    }
   ],
   "source": [
    "len(job_titles),len(company_name),len(Location)"
   ]
  },
  {
   "cell_type": "code",
   "execution_count": 480,
   "id": "549b0c94",
   "metadata": {},
   "outputs": [
    {
     "data": {
      "text/html": [
       "<div>\n",
       "<style scoped>\n",
       "    .dataframe tbody tr th:only-of-type {\n",
       "        vertical-align: middle;\n",
       "    }\n",
       "\n",
       "    .dataframe tbody tr th {\n",
       "        vertical-align: top;\n",
       "    }\n",
       "\n",
       "    .dataframe thead th {\n",
       "        text-align: right;\n",
       "    }\n",
       "</style>\n",
       "<table border=\"1\" class=\"dataframe\">\n",
       "  <thead>\n",
       "    <tr style=\"text-align: right;\">\n",
       "      <th></th>\n",
       "      <th>Job Titles</th>\n",
       "      <th>Company</th>\n",
       "      <th>Location</th>\n",
       "    </tr>\n",
       "  </thead>\n",
       "  <tbody>\n",
       "    <tr>\n",
       "      <th>0</th>\n",
       "      <td>Data Scientist/ Senior Data Scientist</td>\n",
       "      <td>Fractal Analytics</td>\n",
       "      <td>Bangalore/Bengaluru, Pune, Gurgaon/Gurugram, C...</td>\n",
       "    </tr>\n",
       "    <tr>\n",
       "      <th>1</th>\n",
       "      <td>Urgent Job Opening For AI Practitioner - Data ...</td>\n",
       "      <td>Wipro</td>\n",
       "      <td>Bangalore/Bengaluru, Kochi/Cochin, New Delhi, ...</td>\n",
       "    </tr>\n",
       "    <tr>\n",
       "      <th>2</th>\n",
       "      <td>Hiring For Senior Data Scientist</td>\n",
       "      <td>TATA CONSULTANCY SERVICES (TCS)</td>\n",
       "      <td>Bangalore/Bengaluru, Pune</td>\n",
       "    </tr>\n",
       "    <tr>\n",
       "      <th>3</th>\n",
       "      <td>Dataiku Consultant</td>\n",
       "      <td>Wipro</td>\n",
       "      <td>Bangalore/Bengaluru, Pune, Chennai</td>\n",
       "    </tr>\n",
       "    <tr>\n",
       "      <th>4</th>\n",
       "      <td>Data Scientist</td>\n",
       "      <td>Applied Materials</td>\n",
       "      <td>Bangalore/Bengaluru</td>\n",
       "    </tr>\n",
       "    <tr>\n",
       "      <th>5</th>\n",
       "      <td>Data &amp; Analytics Tech - Informatica Cloud- Sen...</td>\n",
       "      <td>PwC</td>\n",
       "      <td>Bangalore/Bengaluru</td>\n",
       "    </tr>\n",
       "    <tr>\n",
       "      <th>6</th>\n",
       "      <td>Data Scientist: Advanced Analytics</td>\n",
       "      <td>IBM</td>\n",
       "      <td>Bangalore/Bengaluru</td>\n",
       "    </tr>\n",
       "    <tr>\n",
       "      <th>7</th>\n",
       "      <td>Research Scientist</td>\n",
       "      <td>IBM</td>\n",
       "      <td>Bangalore/Bengaluru</td>\n",
       "    </tr>\n",
       "    <tr>\n",
       "      <th>8</th>\n",
       "      <td>Principal - Data Scientist</td>\n",
       "      <td>Schneider Electric</td>\n",
       "      <td>Bangalore/Bengaluru</td>\n",
       "    </tr>\n",
       "    <tr>\n",
       "      <th>9</th>\n",
       "      <td>Research and Development -AI/ML -(PhD )</td>\n",
       "      <td>EXL</td>\n",
       "      <td>Bangalore/Bengaluru, Noida, Hyderabad/Secunder...</td>\n",
       "    </tr>\n",
       "  </tbody>\n",
       "</table>\n",
       "</div>"
      ],
      "text/plain": [
       "                                          Job Titles  \\\n",
       "0              Data Scientist/ Senior Data Scientist   \n",
       "1  Urgent Job Opening For AI Practitioner - Data ...   \n",
       "2                   Hiring For Senior Data Scientist   \n",
       "3                                 Dataiku Consultant   \n",
       "4                                     Data Scientist   \n",
       "5  Data & Analytics Tech - Informatica Cloud- Sen...   \n",
       "6                 Data Scientist: Advanced Analytics   \n",
       "7                                 Research Scientist   \n",
       "8                         Principal - Data Scientist   \n",
       "9            Research and Development -AI/ML -(PhD )   \n",
       "\n",
       "                           Company  \\\n",
       "0                Fractal Analytics   \n",
       "1                            Wipro   \n",
       "2  TATA CONSULTANCY SERVICES (TCS)   \n",
       "3                            Wipro   \n",
       "4                Applied Materials   \n",
       "5                              PwC   \n",
       "6                              IBM   \n",
       "7                              IBM   \n",
       "8               Schneider Electric   \n",
       "9                              EXL   \n",
       "\n",
       "                                            Location  \n",
       "0  Bangalore/Bengaluru, Pune, Gurgaon/Gurugram, C...  \n",
       "1  Bangalore/Bengaluru, Kochi/Cochin, New Delhi, ...  \n",
       "2                          Bangalore/Bengaluru, Pune  \n",
       "3                 Bangalore/Bengaluru, Pune, Chennai  \n",
       "4                                Bangalore/Bengaluru  \n",
       "5                                Bangalore/Bengaluru  \n",
       "6                                Bangalore/Bengaluru  \n",
       "7                                Bangalore/Bengaluru  \n",
       "8                                Bangalore/Bengaluru  \n",
       "9  Bangalore/Bengaluru, Noida, Hyderabad/Secunder...  "
      ]
     },
     "execution_count": 480,
     "metadata": {},
     "output_type": "execute_result"
    }
   ],
   "source": [
    "jobs =  pd.DataFrame()\n",
    "jobs['Job Titles'] =job_titles\n",
    "jobs['Company'] =company_name\n",
    "jobs['Location'] = Location\n",
    "jobs[:10]"
   ]
  },
  {
   "cell_type": "code",
   "execution_count": 157,
   "id": "b7d780b0",
   "metadata": {},
   "outputs": [],
   "source": [
    "# QUES NO 03 \n",
    "import selenium\n",
    "from selenium import webdriver\n",
    "import pandas as pd\n",
    "import warnings\n",
    "warnings.filterwarnings('ignore')"
   ]
  },
  {
   "cell_type": "code",
   "execution_count": 158,
   "id": "01858a32",
   "metadata": {},
   "outputs": [],
   "source": [
    "driver = webdriver.Chrome(r'C:\\Users\\BHAVYA OJHA\\OneDrive\\Documents\\Downloads\\chromedriver_win32 (2)\\chromedriver.exe')"
   ]
  },
  {
   "cell_type": "code",
   "execution_count": 159,
   "id": "31727806",
   "metadata": {},
   "outputs": [],
   "source": [
    "url='https://www.naukri.com/'\n",
    "driver.get(url)"
   ]
  },
  {
   "cell_type": "code",
   "execution_count": 160,
   "id": "4e09da0e",
   "metadata": {},
   "outputs": [],
   "source": [
    "from selenium.webdriver.common.by import By"
   ]
  },
  {
   "cell_type": "code",
   "execution_count": 161,
   "id": "6a0c30e8",
   "metadata": {},
   "outputs": [
    {
     "data": {
      "text/plain": [
       "<selenium.webdriver.remote.webelement.WebElement (session=\"57d220c1f41fb51677ee6c53b8837097\", element=\"a2facca4-bf56-4b9c-98a6-1c55b3a17b5c\")>"
      ]
     },
     "execution_count": 161,
     "metadata": {},
     "output_type": "execute_result"
    }
   ],
   "source": [
    "search_jobs = driver.find_element(By.CLASS_NAME,'suggestor-input')\n",
    "search_jobs"
   ]
  },
  {
   "cell_type": "code",
   "execution_count": 162,
   "id": "90f836c8",
   "metadata": {},
   "outputs": [],
   "source": [
    "search_jobs.send_keys('Data Scientist')"
   ]
  },
  {
   "cell_type": "code",
   "execution_count": 163,
   "id": "5ce3dea0",
   "metadata": {},
   "outputs": [
    {
     "data": {
      "text/plain": [
       "<selenium.webdriver.remote.webelement.WebElement (session=\"57d220c1f41fb51677ee6c53b8837097\", element=\"e78f1260-0faf-424e-8c6e-0d5ed6519a69\")>"
      ]
     },
     "execution_count": 163,
     "metadata": {},
     "output_type": "execute_result"
    }
   ],
   "source": [
    "search_btn= driver.find_element (By.XPATH,'/html/body/div[1]/div[2]/div[3]/div/div/div[6]')\n",
    "search_btn"
   ]
  },
  {
   "cell_type": "code",
   "execution_count": 164,
   "id": "ceb31a84",
   "metadata": {},
   "outputs": [],
   "source": [
    "search_btn.click()"
   ]
  },
  {
   "cell_type": "code",
   "execution_count": 166,
   "id": "1973e01b",
   "metadata": {},
   "outputs": [],
   "source": [
    "loc_btn= driver.find_element(By.XPATH,'//i[@class=\"fleft naukicon naukicon-checkbox\"]')                         \n",
    "                              "
   ]
  },
  {
   "cell_type": "code",
   "execution_count": 167,
   "id": "d8dbbdea",
   "metadata": {},
   "outputs": [],
   "source": [
    "sal_btn= driver.find_element(By.XPATH,'//i[@class=\"fleft naukicon naukicon-checkbox\"]')                         \n"
   ]
  },
  {
   "cell_type": "code",
   "execution_count": 168,
   "id": "533de38e",
   "metadata": {},
   "outputs": [
    {
     "data": {
      "text/plain": [
       "20"
      ]
     },
     "execution_count": 168,
     "metadata": {},
     "output_type": "execute_result"
    }
   ],
   "source": [
    "title_tags = driver.find_elements (By.XPATH,'//a[@class=\"title fw500 ellipsis\"]')\n",
    "len (title_tags)"
   ]
  },
  {
   "cell_type": "code",
   "execution_count": 169,
   "id": "c2bf3aac",
   "metadata": {},
   "outputs": [
    {
     "data": {
      "text/plain": [
       "20"
      ]
     },
     "execution_count": 169,
     "metadata": {},
     "output_type": "execute_result"
    }
   ],
   "source": [
    "job_titles = []\n",
    "for i in title_tags:\n",
    "    job_titles.append(i.text)\n",
    "len (job_titles)"
   ]
  },
  {
   "cell_type": "code",
   "execution_count": 170,
   "id": "8f9d6ebc",
   "metadata": {},
   "outputs": [
    {
     "data": {
      "text/plain": [
       "['Data Scientist/ Senior Data Scientist',\n",
       " 'Urgent Job Opening For AI Practitioner - Data Science at Wipro Holmes',\n",
       " 'Research and Development -AI/ML -(PhD )',\n",
       " 'Senior Data Science Engineer',\n",
       " 'Data Science - Engineering Manager',\n",
       " 'Opportunity For Data Scientist - Female Candidates ONLY',\n",
       " 'DigitalBCG GAMMA Data Scientist',\n",
       " 'Data Scientist - Noida/Bangalore',\n",
       " 'Data Scientist',\n",
       " 'Data Scientist: Artificial Intelligence',\n",
       " 'Data Scientist',\n",
       " 'Data Scientist: Advanced Analytics',\n",
       " 'Data Science - Lead Data Scientist',\n",
       " 'Associate Data Scientist - Automotive Supply Chain & Technology',\n",
       " 'Data Scientist: Advanced Analytics',\n",
       " 'Data Scientist - Python/Machine Learning',\n",
       " 'Senior Associate - Data Science',\n",
       " 'Data Science Engineer - Gurgaon - Hybrid',\n",
       " 'DigitalBCG | GAMMA Data Scientist',\n",
       " 'Data Scientist- Forecasting and R or Python']"
      ]
     },
     "execution_count": 170,
     "metadata": {},
     "output_type": "execute_result"
    }
   ],
   "source": [
    "job_titles "
   ]
  },
  {
   "cell_type": "code",
   "execution_count": 171,
   "id": "8d1db310",
   "metadata": {},
   "outputs": [
    {
     "data": {
      "text/plain": [
       "20"
      ]
     },
     "execution_count": 171,
     "metadata": {},
     "output_type": "execute_result"
    }
   ],
   "source": [
    "loc_tags = driver.find_elements (By.XPATH,'//li[@class=\"fleft grey-text br2 placeHolderLi location\"]')\n",
    "len(loc_tags)"
   ]
  },
  {
   "cell_type": "code",
   "execution_count": 172,
   "id": "8c57b768",
   "metadata": {},
   "outputs": [
    {
     "data": {
      "text/plain": [
       "20"
      ]
     },
     "execution_count": 172,
     "metadata": {},
     "output_type": "execute_result"
    }
   ],
   "source": [
    "Location = []\n",
    "for i in loc_tags:\n",
    "    Location.append(i.text)\n",
    "len (Location)"
   ]
  },
  {
   "cell_type": "code",
   "execution_count": 173,
   "id": "9724f2a3",
   "metadata": {},
   "outputs": [
    {
     "data": {
      "text/plain": [
       "['Pune, Gurgaon/Gurugram, Chennai, Bangalore/Bengaluru, Mumbai (All Areas)',\n",
       " 'Kochi/Cochin, New Delhi, Bangalore/Bengaluru, Coimbatore, Chennai, Pune, Mumbai, Hyderabad',\n",
       " 'Noida, Hyderabad/Secunderabad, Pune, Gurgaon/Gurugram, Chennai, Bangalore/Bengaluru, Delhi / NCR',\n",
       " 'Gurgaon/Gurugram, Bangalore/Bengaluru, Mumbai (All Areas)',\n",
       " 'Noida, Mumbai, Bangalore/Bengaluru',\n",
       " 'Gurgaon/Gurugram, Bangalore/Bengaluru, Mumbai (All Areas)',\n",
       " 'New Delhi, Bangalore/Bengaluru',\n",
       " 'Noida, Bangalore/Bengaluru',\n",
       " 'Gurgaon/Gurugram, Bangalore/Bengaluru',\n",
       " 'Gurgaon/Gurugram',\n",
       " 'Gurgaon/Gurugram',\n",
       " 'Gurgaon/Gurugram',\n",
       " 'Noida, Bangalore/Bengaluru',\n",
       " 'Gurgaon/Gurugram, Bangalore/Bengaluru',\n",
       " 'Gurgaon/Gurugram',\n",
       " 'Kolkata, Mumbai, Hyderabad/Secunderabad, Pune, Chennai, Ahmedabad, Bangalore/Bengaluru, Delhi / NCR',\n",
       " 'Mumbai, Hyderabad/Secunderabad, Gurgaon/Gurugram, Bangalore/Bengaluru',\n",
       " 'Gurgaon/Gurugram',\n",
       " 'New Delhi',\n",
       " 'Noida']"
      ]
     },
     "execution_count": 173,
     "metadata": {},
     "output_type": "execute_result"
    }
   ],
   "source": [
    "Location"
   ]
  },
  {
   "cell_type": "code",
   "execution_count": 174,
   "id": "334950b1",
   "metadata": {},
   "outputs": [
    {
     "data": {
      "text/plain": [
       "20"
      ]
     },
     "execution_count": 174,
     "metadata": {},
     "output_type": "execute_result"
    }
   ],
   "source": [
    "comp_name = driver.find_elements(By.XPATH,'//a[@class=\"subTitle ellipsis fleft\"]')\n",
    "len(comp_name)"
   ]
  },
  {
   "cell_type": "code",
   "execution_count": 175,
   "id": "daf5ec04",
   "metadata": {},
   "outputs": [
    {
     "data": {
      "text/plain": [
       "20"
      ]
     },
     "execution_count": 175,
     "metadata": {},
     "output_type": "execute_result"
    }
   ],
   "source": [
    "company_name = []\n",
    "for i in comp_name:\n",
    "    company_name.append(i.text)\n",
    "len (company_name)"
   ]
  },
  {
   "cell_type": "code",
   "execution_count": 176,
   "id": "e5499c66",
   "metadata": {},
   "outputs": [
    {
     "data": {
      "text/plain": [
       "['Fractal Analytics',\n",
       " 'Wipro',\n",
       " 'EXL',\n",
       " 'Fractal Analytics',\n",
       " 'Paytm',\n",
       " 'PayU',\n",
       " 'Boston Consulting Group',\n",
       " 'EXL',\n",
       " 'EXL',\n",
       " 'IBM',\n",
       " 'Teleperformance (TP)',\n",
       " 'IBM',\n",
       " 'Paytm',\n",
       " 'IHS Markit',\n",
       " 'IBM',\n",
       " 'Accubits Technologies',\n",
       " 'Black Turtle',\n",
       " 'Ofb Tech',\n",
       " 'Boston Consulting Group',\n",
       " 'Genpact']"
      ]
     },
     "execution_count": 176,
     "metadata": {},
     "output_type": "execute_result"
    }
   ],
   "source": [
    "company_name"
   ]
  },
  {
   "cell_type": "code",
   "execution_count": 177,
   "id": "81e29bc6",
   "metadata": {},
   "outputs": [
    {
     "data": {
      "text/plain": [
       "20"
      ]
     },
     "execution_count": 177,
     "metadata": {},
     "output_type": "execute_result"
    }
   ],
   "source": [
    "exp_tags = driver.find_elements (By.XPATH,'//li[@class=\"fleft grey-text br2 placeHolderLi experience\"]')\n",
    "len(exp_tags)"
   ]
  },
  {
   "cell_type": "code",
   "execution_count": 178,
   "id": "6157f8d2",
   "metadata": {},
   "outputs": [
    {
     "data": {
      "text/plain": [
       "20"
      ]
     },
     "execution_count": 178,
     "metadata": {},
     "output_type": "execute_result"
    }
   ],
   "source": [
    "expiernce = []\n",
    "for i in exp_tags:\n",
    "    expiernce.append(i.text)\n",
    "len (expiernce)"
   ]
  },
  {
   "cell_type": "code",
   "execution_count": 179,
   "id": "b3168e4d",
   "metadata": {},
   "outputs": [
    {
     "data": {
      "text/plain": [
       "['3-8 Yrs',\n",
       " '11-21 Yrs',\n",
       " '4-8 Yrs',\n",
       " '5-9 Yrs',\n",
       " '9-13 Yrs',\n",
       " '1-3 Yrs',\n",
       " '2-5 Yrs',\n",
       " '5-10 Yrs',\n",
       " '4-7 Yrs',\n",
       " '3-7 Yrs',\n",
       " '4-8 Yrs',\n",
       " '5-10 Yrs',\n",
       " '3-5 Yrs',\n",
       " '3-6 Yrs',\n",
       " '3-7 Yrs',\n",
       " '4-8 Yrs',\n",
       " '4-7 Yrs',\n",
       " '2-6 Yrs',\n",
       " '2-5 Yrs',\n",
       " '7-12 Yrs']"
      ]
     },
     "execution_count": 179,
     "metadata": {},
     "output_type": "execute_result"
    }
   ],
   "source": [
    "expiernce"
   ]
  },
  {
   "cell_type": "code",
   "execution_count": 180,
   "id": "71ccb935",
   "metadata": {},
   "outputs": [
    {
     "data": {
      "text/plain": [
       "(20, 20, 20, 20)"
      ]
     },
     "execution_count": 180,
     "metadata": {},
     "output_type": "execute_result"
    }
   ],
   "source": [
    "\n",
    "len(job_titles),len(company_name),len(expiernce),len(Location)"
   ]
  },
  {
   "cell_type": "code",
   "execution_count": 181,
   "id": "5fbd79bb",
   "metadata": {},
   "outputs": [
    {
     "data": {
      "text/html": [
       "<div>\n",
       "<style scoped>\n",
       "    .dataframe tbody tr th:only-of-type {\n",
       "        vertical-align: middle;\n",
       "    }\n",
       "\n",
       "    .dataframe tbody tr th {\n",
       "        vertical-align: top;\n",
       "    }\n",
       "\n",
       "    .dataframe thead th {\n",
       "        text-align: right;\n",
       "    }\n",
       "</style>\n",
       "<table border=\"1\" class=\"dataframe\">\n",
       "  <thead>\n",
       "    <tr style=\"text-align: right;\">\n",
       "      <th></th>\n",
       "      <th>Job Titles</th>\n",
       "      <th>Company</th>\n",
       "      <th>Experince</th>\n",
       "      <th>Location</th>\n",
       "    </tr>\n",
       "  </thead>\n",
       "  <tbody>\n",
       "    <tr>\n",
       "      <th>0</th>\n",
       "      <td>Data Scientist/ Senior Data Scientist</td>\n",
       "      <td>Fractal Analytics</td>\n",
       "      <td>3-8 Yrs</td>\n",
       "      <td>Pune, Gurgaon/Gurugram, Chennai, Bangalore/Ben...</td>\n",
       "    </tr>\n",
       "    <tr>\n",
       "      <th>1</th>\n",
       "      <td>Urgent Job Opening For AI Practitioner - Data ...</td>\n",
       "      <td>Wipro</td>\n",
       "      <td>11-21 Yrs</td>\n",
       "      <td>Kochi/Cochin, New Delhi, Bangalore/Bengaluru, ...</td>\n",
       "    </tr>\n",
       "    <tr>\n",
       "      <th>2</th>\n",
       "      <td>Research and Development -AI/ML -(PhD )</td>\n",
       "      <td>EXL</td>\n",
       "      <td>4-8 Yrs</td>\n",
       "      <td>Noida, Hyderabad/Secunderabad, Pune, Gurgaon/G...</td>\n",
       "    </tr>\n",
       "    <tr>\n",
       "      <th>3</th>\n",
       "      <td>Senior Data Science Engineer</td>\n",
       "      <td>Fractal Analytics</td>\n",
       "      <td>5-9 Yrs</td>\n",
       "      <td>Gurgaon/Gurugram, Bangalore/Bengaluru, Mumbai ...</td>\n",
       "    </tr>\n",
       "    <tr>\n",
       "      <th>4</th>\n",
       "      <td>Data Science - Engineering Manager</td>\n",
       "      <td>Paytm</td>\n",
       "      <td>9-13 Yrs</td>\n",
       "      <td>Noida, Mumbai, Bangalore/Bengaluru</td>\n",
       "    </tr>\n",
       "    <tr>\n",
       "      <th>5</th>\n",
       "      <td>Opportunity For Data Scientist - Female Candid...</td>\n",
       "      <td>PayU</td>\n",
       "      <td>1-3 Yrs</td>\n",
       "      <td>Gurgaon/Gurugram, Bangalore/Bengaluru, Mumbai ...</td>\n",
       "    </tr>\n",
       "    <tr>\n",
       "      <th>6</th>\n",
       "      <td>DigitalBCG GAMMA Data Scientist</td>\n",
       "      <td>Boston Consulting Group</td>\n",
       "      <td>2-5 Yrs</td>\n",
       "      <td>New Delhi, Bangalore/Bengaluru</td>\n",
       "    </tr>\n",
       "    <tr>\n",
       "      <th>7</th>\n",
       "      <td>Data Scientist - Noida/Bangalore</td>\n",
       "      <td>EXL</td>\n",
       "      <td>5-10 Yrs</td>\n",
       "      <td>Noida, Bangalore/Bengaluru</td>\n",
       "    </tr>\n",
       "    <tr>\n",
       "      <th>8</th>\n",
       "      <td>Data Scientist</td>\n",
       "      <td>EXL</td>\n",
       "      <td>4-7 Yrs</td>\n",
       "      <td>Gurgaon/Gurugram, Bangalore/Bengaluru</td>\n",
       "    </tr>\n",
       "    <tr>\n",
       "      <th>9</th>\n",
       "      <td>Data Scientist: Artificial Intelligence</td>\n",
       "      <td>IBM</td>\n",
       "      <td>3-7 Yrs</td>\n",
       "      <td>Gurgaon/Gurugram</td>\n",
       "    </tr>\n",
       "  </tbody>\n",
       "</table>\n",
       "</div>"
      ],
      "text/plain": [
       "                                          Job Titles                  Company  \\\n",
       "0              Data Scientist/ Senior Data Scientist        Fractal Analytics   \n",
       "1  Urgent Job Opening For AI Practitioner - Data ...                    Wipro   \n",
       "2            Research and Development -AI/ML -(PhD )                      EXL   \n",
       "3                       Senior Data Science Engineer        Fractal Analytics   \n",
       "4                 Data Science - Engineering Manager                    Paytm   \n",
       "5  Opportunity For Data Scientist - Female Candid...                     PayU   \n",
       "6                    DigitalBCG GAMMA Data Scientist  Boston Consulting Group   \n",
       "7                   Data Scientist - Noida/Bangalore                      EXL   \n",
       "8                                     Data Scientist                      EXL   \n",
       "9            Data Scientist: Artificial Intelligence                      IBM   \n",
       "\n",
       "   Experince                                           Location  \n",
       "0    3-8 Yrs  Pune, Gurgaon/Gurugram, Chennai, Bangalore/Ben...  \n",
       "1  11-21 Yrs  Kochi/Cochin, New Delhi, Bangalore/Bengaluru, ...  \n",
       "2    4-8 Yrs  Noida, Hyderabad/Secunderabad, Pune, Gurgaon/G...  \n",
       "3    5-9 Yrs  Gurgaon/Gurugram, Bangalore/Bengaluru, Mumbai ...  \n",
       "4   9-13 Yrs                 Noida, Mumbai, Bangalore/Bengaluru  \n",
       "5    1-3 Yrs  Gurgaon/Gurugram, Bangalore/Bengaluru, Mumbai ...  \n",
       "6    2-5 Yrs                     New Delhi, Bangalore/Bengaluru  \n",
       "7   5-10 Yrs                         Noida, Bangalore/Bengaluru  \n",
       "8    4-7 Yrs              Gurgaon/Gurugram, Bangalore/Bengaluru  \n",
       "9    3-7 Yrs                                   Gurgaon/Gurugram  "
      ]
     },
     "execution_count": 181,
     "metadata": {},
     "output_type": "execute_result"
    }
   ],
   "source": [
    "jobs =  pd.DataFrame()\n",
    "jobs['Job Titles'] =job_titles\n",
    "jobs['Company'] =company_name\n",
    "jobs['Experince'] =expiernce\n",
    "jobs['Location'] = Location\n",
    "jobs[:10]"
   ]
  },
  {
   "cell_type": "code",
   "execution_count": 182,
   "id": "b0ced8a7",
   "metadata": {},
   "outputs": [],
   "source": [
    "# Ques no 04\n",
    "import selenium\n",
    "from selenium import webdriver\n",
    "import pandas as pd\n",
    "import warnings\n",
    "warnings.filterwarnings('ignore')"
   ]
  },
  {
   "cell_type": "code",
   "execution_count": 183,
   "id": "67d70b1d",
   "metadata": {},
   "outputs": [],
   "source": [
    "driver = webdriver.Chrome(r'C:\\Users\\BHAVYA OJHA\\OneDrive\\Documents\\Downloads\\chromedriver_win32 (2)\\chromedriver.exe')"
   ]
  },
  {
   "cell_type": "code",
   "execution_count": 184,
   "id": "c200cfb7",
   "metadata": {},
   "outputs": [],
   "source": [
    "url='https://www.flipkart.com/'\n",
    "driver.get(url)"
   ]
  },
  {
   "cell_type": "code",
   "execution_count": 185,
   "id": "8d86e2b7",
   "metadata": {},
   "outputs": [],
   "source": [
    "from selenium.webdriver.common.by import By"
   ]
  },
  {
   "cell_type": "code",
   "execution_count": 186,
   "id": "55ce7a19",
   "metadata": {},
   "outputs": [
    {
     "data": {
      "text/plain": [
       "<selenium.webdriver.remote.webelement.WebElement (session=\"57d2130a2249af64bf8dfe30b413f406\", element=\"bbdb7ff4-1287-4885-b435-4f22448a367b\")>"
      ]
     },
     "execution_count": 186,
     "metadata": {},
     "output_type": "execute_result"
    }
   ],
   "source": [
    "search = driver.find_element(By.CLASS_NAME,\"_3704LK\")\n",
    "search"
   ]
  },
  {
   "cell_type": "code",
   "execution_count": 187,
   "id": "f1048eae",
   "metadata": {},
   "outputs": [],
   "source": [
    "search.send_keys('sunglasses')"
   ]
  },
  {
   "cell_type": "code",
   "execution_count": 188,
   "id": "82ae08bb",
   "metadata": {},
   "outputs": [
    {
     "data": {
      "text/plain": [
       "<selenium.webdriver.remote.webelement.WebElement (session=\"57d2130a2249af64bf8dfe30b413f406\", element=\"672c1d27-a5fb-4681-9d38-451f45d82d0d\")>"
      ]
     },
     "execution_count": 188,
     "metadata": {},
     "output_type": "execute_result"
    }
   ],
   "source": [
    "search_btn = driver.find_element (By.XPATH,'/html/body/div[1]/div/div[1]/div[1]/div[2]/div[2]/form/div/button')\n",
    "search_btn"
   ]
  },
  {
   "cell_type": "code",
   "execution_count": 189,
   "id": "e7e965f8",
   "metadata": {},
   "outputs": [],
   "source": [
    "search_btn.click()"
   ]
  },
  {
   "cell_type": "code",
   "execution_count": 194,
   "id": "4d136a69",
   "metadata": {},
   "outputs": [
    {
     "data": {
      "text/plain": [
       "40"
      ]
     },
     "execution_count": 194,
     "metadata": {},
     "output_type": "execute_result"
    }
   ],
   "source": [
    "brand_tag = driver.find_elements (By.XPATH,'//div[@Class=\"_2WkVRV\"]')\n",
    "len (brand_tag)"
   ]
  },
  {
   "cell_type": "code",
   "execution_count": 195,
   "id": "d2a46064",
   "metadata": {},
   "outputs": [
    {
     "data": {
      "text/plain": [
       "40"
      ]
     },
     "execution_count": 195,
     "metadata": {},
     "output_type": "execute_result"
    }
   ],
   "source": [
    "brand_title = []\n",
    "for i in brand_tag:\n",
    "    brand_title.append(i.text)\n",
    "len (brand_title)"
   ]
  },
  {
   "cell_type": "code",
   "execution_count": 196,
   "id": "de1e57d2",
   "metadata": {},
   "outputs": [
    {
     "data": {
      "text/plain": [
       "['VINCENT CHASE',\n",
       " 'ROYAL SON',\n",
       " 'Elligator',\n",
       " 'DAHAAZIL',\n",
       " 'New Specs',\n",
       " 'Fastrack',\n",
       " 'SUNBEE',\n",
       " 'ROZZETTA CRAFT',\n",
       " 'PIRASO',\n",
       " 'SRPM',\n",
       " 'SUNBEE',\n",
       " 'GANSTA',\n",
       " 'SHAAH COLLECTIONS',\n",
       " 'Fastrack',\n",
       " 'PIRASO',\n",
       " 'ROYAL SON',\n",
       " 'Fastrack',\n",
       " 'PIRASO',\n",
       " 'Lee Topper',\n",
       " 'ROYAL SON',\n",
       " 'ROZZETTA CRAFT',\n",
       " 'SHAAH COLLECTIONS',\n",
       " 'PIRASO',\n",
       " 'elegante',\n",
       " 'Lee Topper',\n",
       " 'PIRASO',\n",
       " 'PIRASO',\n",
       " 'GANSTA',\n",
       " 'ROZZETTA CRAFT',\n",
       " 'PIRASO',\n",
       " 'NuVew',\n",
       " 'povty',\n",
       " 'Fastrack',\n",
       " 'Mi',\n",
       " 'ROZZETTA CRAFT',\n",
       " 'Ray-Ban',\n",
       " 'Sewell',\n",
       " 'SRPM',\n",
       " 'Fastrack',\n",
       " 'GANSTA']"
      ]
     },
     "execution_count": 196,
     "metadata": {},
     "output_type": "execute_result"
    }
   ],
   "source": [
    "\n",
    "brand_title "
   ]
  },
  {
   "cell_type": "code",
   "execution_count": 197,
   "id": "dcc32531",
   "metadata": {},
   "outputs": [
    {
     "data": {
      "text/plain": [
       "40"
      ]
     },
     "execution_count": 197,
     "metadata": {},
     "output_type": "execute_result"
    }
   ],
   "source": [
    "prod_desc = driver.find_elements(By.XPATH,'//a[@class=\"IRpwTa\"]')\n",
    "len(prod_desc)"
   ]
  },
  {
   "cell_type": "code",
   "execution_count": 198,
   "id": "8fd3f157",
   "metadata": {},
   "outputs": [
    {
     "data": {
      "text/plain": [
       "40"
      ]
     },
     "execution_count": 198,
     "metadata": {},
     "output_type": "execute_result"
    }
   ],
   "source": [
    "Product = []\n",
    "for i in prod_desc:\n",
    "    Product.append(i.text)\n",
    "len (Product)"
   ]
  },
  {
   "cell_type": "code",
   "execution_count": 199,
   "id": "80372c53",
   "metadata": {},
   "outputs": [
    {
     "data": {
      "text/plain": [
       "['by Lenskart Polarized, UV Protection Rectangular Sungla...',\n",
       " 'Polarized, UV Protection Aviator Sunglasses (57)',\n",
       " 'UV Protection Round Sunglasses (54)',\n",
       " 'UV Protection, Night Vision, Riding Glasses Wayfarer, W...',\n",
       " 'UV Protection Rectangular Sunglasses (Free Size)',\n",
       " 'UV Protection Rectangular Sunglasses (Free Size)',\n",
       " 'UV Protection, Polarized, Mirrored Retro Square Sunglas...',\n",
       " 'UV Protection Spectacle Sunglasses (Free Size)',\n",
       " 'UV Protection Aviator Sunglasses (54)',\n",
       " 'UV Protection Wayfarer Sunglasses (50)',\n",
       " 'UV Protection, Polarized Wayfarer Sunglasses (Free Size...',\n",
       " 'UV Protection Aviator Sunglasses (57)',\n",
       " 'UV Protection, Polarized, Mirrored Rectangular Sunglass...',\n",
       " 'UV Protection Wayfarer Sunglasses (Free Size)',\n",
       " 'UV Protection Aviator Sunglasses (54)',\n",
       " 'Polarized, UV Protection Retro Square Sunglasses (55)',\n",
       " 'UV Protection Aviator Sunglasses (Free Size)',\n",
       " 'UV Protection Aviator Sunglasses (58)',\n",
       " 'Riding Glasses Wrap-around Sunglasses (Free Size)',\n",
       " 'Polarized, UV Protection Wayfarer, Retro Square Sunglas...',\n",
       " 'Polarized, Riding Glasses Sports, Wrap-around Sunglasse...',\n",
       " 'UV Protection Round Sunglasses (Free Size)',\n",
       " 'UV Protection Rectangular Sunglasses (52)',\n",
       " 'Polarized, Riding Glasses, Night Vision Sports Sunglass...',\n",
       " 'UV Protection Cat-eye Sunglasses (Free Size)',\n",
       " 'UV Protection Wayfarer Sunglasses (32)',\n",
       " 'UV Protection Aviator Sunglasses (54)',\n",
       " 'Night Vision, Riding Glasses Retro Square Sunglasses (5...',\n",
       " 'UV Protection Rectangular Sunglasses (Free Size)',\n",
       " 'UV Protection Over-sized Sunglasses (65)',\n",
       " 'UV Protection Sports Sunglasses (62)',\n",
       " 'UV Protection Retro Square Sunglasses (Free Size)',\n",
       " 'Gradient, UV Protection Wayfarer Sunglasses (Free Size)',\n",
       " 'Polarized Aviator Sunglasses (Free Size)',\n",
       " 'UV Protection, Gradient Retro Square Sunglasses (Free S...',\n",
       " 'Mirrored, UV Protection Aviator Sunglasses (58)',\n",
       " 'Mirrored, Night Vision, UV Protection, Riding Glasses S...',\n",
       " 'Others Wayfarer, Retro Square Sunglasses (50)',\n",
       " 'UV Protection Aviator Sunglasses (58)',\n",
       " 'UV Protection, Gradient Aviator Sunglasses (57)']"
      ]
     },
     "execution_count": 199,
     "metadata": {},
     "output_type": "execute_result"
    }
   ],
   "source": [
    "Product"
   ]
  },
  {
   "cell_type": "code",
   "execution_count": 200,
   "id": "659b8bc6",
   "metadata": {},
   "outputs": [
    {
     "data": {
      "text/plain": [
       "40"
      ]
     },
     "execution_count": 200,
     "metadata": {},
     "output_type": "execute_result"
    }
   ],
   "source": [
    "price_tags = driver.find_elements (By.XPATH,'//div[@class=\"_30jeq3\"]')\n",
    "len(price_tags)"
   ]
  },
  {
   "cell_type": "code",
   "execution_count": 201,
   "id": "ce6a60ba",
   "metadata": {},
   "outputs": [
    {
     "data": {
      "text/plain": [
       "40"
      ]
     },
     "execution_count": 201,
     "metadata": {},
     "output_type": "execute_result"
    }
   ],
   "source": [
    "price = []\n",
    "for i in price_tags :\n",
    "    price.append(i.text)\n",
    "len (price)"
   ]
  },
  {
   "cell_type": "code",
   "execution_count": 202,
   "id": "050ff21a",
   "metadata": {},
   "outputs": [
    {
     "data": {
      "text/plain": [
       "['₹749',\n",
       " '₹759',\n",
       " '₹315',\n",
       " '₹177',\n",
       " '₹264',\n",
       " '₹639',\n",
       " '₹259',\n",
       " '₹379',\n",
       " '₹224',\n",
       " '₹224',\n",
       " '₹283',\n",
       " '₹314',\n",
       " '₹195',\n",
       " '₹799',\n",
       " '₹224',\n",
       " '₹616',\n",
       " '₹639',\n",
       " '₹359',\n",
       " '₹299',\n",
       " '₹664',\n",
       " '₹474',\n",
       " '₹279',\n",
       " '₹306',\n",
       " '₹499',\n",
       " '₹229',\n",
       " '₹226',\n",
       " '₹246',\n",
       " '₹233',\n",
       " '₹303',\n",
       " '₹359',\n",
       " '₹291',\n",
       " '₹319',\n",
       " '₹719',\n",
       " '₹839',\n",
       " '₹331',\n",
       " '₹3,909',\n",
       " '₹279',\n",
       " '₹219',\n",
       " '₹1,039',\n",
       " '₹242']"
      ]
     },
     "execution_count": 202,
     "metadata": {},
     "output_type": "execute_result"
    }
   ],
   "source": [
    "price"
   ]
  },
  {
   "cell_type": "code",
   "execution_count": 203,
   "id": "875458fa",
   "metadata": {},
   "outputs": [
    {
     "data": {
      "text/plain": [
       "<selenium.webdriver.remote.webelement.WebElement (session=\"57d2130a2249af64bf8dfe30b413f406\", element=\"95ebc8fc-bcb3-477d-9f3a-6fa4b36e80f7\")>"
      ]
     },
     "execution_count": 203,
     "metadata": {},
     "output_type": "execute_result"
    }
   ],
   "source": [
    "next_page= driver.find_element (By.XPATH,'/html/body/div[1]/div/div[3]/div[1]/div[2]/div[12]/div/div/nav/a[2]')\n",
    "next_page"
   ]
  },
  {
   "cell_type": "code",
   "execution_count": 204,
   "id": "006f296c",
   "metadata": {},
   "outputs": [],
   "source": [
    "next_page.click()"
   ]
  },
  {
   "cell_type": "code",
   "execution_count": 212,
   "id": "d7025861",
   "metadata": {},
   "outputs": [
    {
     "data": {
      "text/plain": [
       "40"
      ]
     },
     "execution_count": 212,
     "metadata": {},
     "output_type": "execute_result"
    }
   ],
   "source": [
    "brand_tag2 = driver.find_elements (By.XPATH,'//div[@Class=\"_2WkVRV\"]')\n",
    "len (brand_tag2)"
   ]
  },
  {
   "cell_type": "code",
   "execution_count": 213,
   "id": "a8a80f00",
   "metadata": {},
   "outputs": [
    {
     "data": {
      "text/plain": [
       "40"
      ]
     },
     "execution_count": 213,
     "metadata": {},
     "output_type": "execute_result"
    }
   ],
   "source": [
    "brand_title2 = []\n",
    "for i in brand_tag2:\n",
    "    brand_title2.append(i.text)\n",
    "len (brand_title2) "
   ]
  },
  {
   "cell_type": "code",
   "execution_count": 214,
   "id": "326990d2",
   "metadata": {},
   "outputs": [
    {
     "data": {
      "text/plain": [
       "['Fastrack',\n",
       " 'New Specs',\n",
       " 'SUNBEE',\n",
       " 'VINCENT CHASE',\n",
       " 'Lee Topper',\n",
       " 'AISLIN',\n",
       " 'ROYAL SON',\n",
       " 'VINCENT CHASE',\n",
       " 'LIZA ANGEL',\n",
       " 'kingsunglasses',\n",
       " 'CRYSTAL CART',\n",
       " 'Arnette',\n",
       " 'PIRASO',\n",
       " 'kingsunglasses',\n",
       " 'Fastrack',\n",
       " 'Sewell',\n",
       " 'AISLIN',\n",
       " 'DEIXELS',\n",
       " 'Fastrack',\n",
       " 'ROYAL SON',\n",
       " 'SRPM',\n",
       " 'CRYSTAL CART',\n",
       " 'Rich Club',\n",
       " 'Ray-Ban',\n",
       " 'PIRASO',\n",
       " 'Elligator',\n",
       " 'Silver Kartz',\n",
       " 'Ray-Ban',\n",
       " 'ROYAL SON',\n",
       " 'PHENOMENAL',\n",
       " 'ROZZETTA CRAFT',\n",
       " 'john jacobs',\n",
       " 'VINCENT CHASE',\n",
       " 'ROYAL SON',\n",
       " 'kingsunglasses',\n",
       " 'VINCENT CHASE',\n",
       " 'Rich Club',\n",
       " 'ROZZETTA CRAFT',\n",
       " 'ROYAL SON',\n",
       " 'ROYAL SON']"
      ]
     },
     "execution_count": 214,
     "metadata": {},
     "output_type": "execute_result"
    }
   ],
   "source": [
    "brand_title2 "
   ]
  },
  {
   "cell_type": "code",
   "execution_count": 215,
   "id": "dd19ee69",
   "metadata": {},
   "outputs": [
    {
     "data": {
      "text/plain": [
       "40"
      ]
     },
     "execution_count": 215,
     "metadata": {},
     "output_type": "execute_result"
    }
   ],
   "source": [
    "prod_desc2 = driver.find_elements(By.XPATH,'//a[@class=\"IRpwTa\"]')\n",
    "len(prod_desc2)"
   ]
  },
  {
   "cell_type": "code",
   "execution_count": 216,
   "id": "d924ddcc",
   "metadata": {},
   "outputs": [
    {
     "data": {
      "text/plain": [
       "40"
      ]
     },
     "execution_count": 216,
     "metadata": {},
     "output_type": "execute_result"
    }
   ],
   "source": [
    "Product2 = []\n",
    "for i in prod_desc2:\n",
    "    Product2.append(i.text)\n",
    "len (Product2)\n"
   ]
  },
  {
   "cell_type": "code",
   "execution_count": 217,
   "id": "3c839a6a",
   "metadata": {},
   "outputs": [
    {
     "data": {
      "text/plain": [
       "['UV Protection Wayfarer Sunglasses (Free Size)',\n",
       " 'Mirrored, UV Protection, Riding Glasses, Others Round S...',\n",
       " 'UV Protection, Polarized, Mirrored Wayfarer Sunglasses ...',\n",
       " 'by Lenskart Polarized, UV Protection Round Sunglasses (...',\n",
       " 'UV Protection Rectangular Sunglasses (Free Size)',\n",
       " 'UV Protection, Gradient Butterfly, Retro Square Sunglas...',\n",
       " 'Mirrored Aviator Sunglasses (55)',\n",
       " 'UV Protection Rectangular Sunglasses (52)',\n",
       " 'Riding Glasses, Night Vision Spectacle Sunglasses (Fre...',\n",
       " 'UV Protection, Riding Glasses, Mirrored Wayfarer Sungla...',\n",
       " 'Mirrored, Night Vision Oval Sunglasses (Free Size)',\n",
       " 'Others Oval Sunglasses (53)',\n",
       " 'UV Protection Aviator Sunglasses (55)',\n",
       " 'UV Protection Round Sunglasses (54)',\n",
       " 'Gradient, UV Protection Wayfarer Sunglasses (Free Size)',\n",
       " 'Polarized Butterfly Sunglasses (Free Size)',\n",
       " 'UV Protection, Gradient Butterfly, Retro Square Sunglas...',\n",
       " 'UV Protection Aviator Sunglasses (Free Size)',\n",
       " 'UV Protection Wayfarer Sunglasses (Free Size)',\n",
       " 'Polarized, UV Protection Aviator Sunglasses (57)',\n",
       " 'UV Protection Wayfarer Sunglasses (53)',\n",
       " 'Polarized, UV Protection, Mirrored, Gradient Rectangula...',\n",
       " 'Polarized Round Sunglasses (48)',\n",
       " 'UV Protection Oval Sunglasses (49)',\n",
       " 'UV Protection Aviator Sunglasses (54)',\n",
       " 'UV Protection Round Sunglasses (53)',\n",
       " 'UV Protection Wayfarer Sunglasses (Free Size)',\n",
       " 'UV Protection Round Sunglasses (53)',\n",
       " 'Mirrored Aviator Sunglasses (58)',\n",
       " 'UV Protection Retro Square Sunglasses (Free Size)',\n",
       " 'UV Protection, Gradient Rectangular Sunglasses (Free Si...',\n",
       " 'UV Protection Wayfarer Sunglasses (46)',\n",
       " 'by Lenskart Polarized, UV Protection Wayfarer Sunglasse...',\n",
       " 'Mirrored Aviator Sunglasses (55)',\n",
       " 'UV Protection, Mirrored Aviator Sunglasses (Free Size)',\n",
       " 'by Lenskart Polarized, UV Protection Aviator Sunglasses...',\n",
       " 'UV Protection Retro Square Sunglasses (54)',\n",
       " 'UV Protection Retro Square Sunglasses (Free Size)',\n",
       " 'Mirrored Aviator Sunglasses (Free Size)',\n",
       " 'Polarized, UV Protection Retro Square Sunglasses (62)']"
      ]
     },
     "execution_count": 217,
     "metadata": {},
     "output_type": "execute_result"
    }
   ],
   "source": [
    "Product2"
   ]
  },
  {
   "cell_type": "code",
   "execution_count": 218,
   "id": "148861b8",
   "metadata": {},
   "outputs": [
    {
     "data": {
      "text/plain": [
       "40"
      ]
     },
     "execution_count": 218,
     "metadata": {},
     "output_type": "execute_result"
    }
   ],
   "source": [
    "price_tags2 = driver.find_elements (By.XPATH,'//div[@class=\"_30jeq3\"]')\n",
    "len(price_tags2)"
   ]
  },
  {
   "cell_type": "code",
   "execution_count": 219,
   "id": "e8f6585e",
   "metadata": {},
   "outputs": [
    {
     "data": {
      "text/plain": [
       "40"
      ]
     },
     "execution_count": 219,
     "metadata": {},
     "output_type": "execute_result"
    }
   ],
   "source": [
    "price2 = []\n",
    "for i in price_tags2 :\n",
    "    price2.append(i.text)\n",
    "len (price2)"
   ]
  },
  {
   "cell_type": "code",
   "execution_count": 220,
   "id": "443f032c",
   "metadata": {},
   "outputs": [
    {
     "data": {
      "text/plain": [
       "['₹599',\n",
       " '₹299',\n",
       " '₹283',\n",
       " '₹949',\n",
       " '₹219',\n",
       " '₹498',\n",
       " '₹379',\n",
       " '₹649',\n",
       " '₹199',\n",
       " '₹164',\n",
       " '₹189',\n",
       " '₹5,749',\n",
       " '₹246',\n",
       " '₹194',\n",
       " '₹719',\n",
       " '₹649',\n",
       " '₹498',\n",
       " '₹224',\n",
       " '₹759',\n",
       " '₹759',\n",
       " '₹249',\n",
       " '₹529',\n",
       " '₹225',\n",
       " '₹8,629',\n",
       " '₹223',\n",
       " '₹219',\n",
       " '₹320',\n",
       " '₹8,629',\n",
       " '₹379',\n",
       " '₹369',\n",
       " '₹379',\n",
       " '₹3,000',\n",
       " '₹749',\n",
       " '₹379',\n",
       " '₹269',\n",
       " '₹949',\n",
       " '₹265',\n",
       " '₹474',\n",
       " '₹379',\n",
       " '₹854']"
      ]
     },
     "execution_count": 220,
     "metadata": {},
     "output_type": "execute_result"
    }
   ],
   "source": [
    "price2"
   ]
  },
  {
   "cell_type": "code",
   "execution_count": 221,
   "id": "94f5acf7",
   "metadata": {},
   "outputs": [
    {
     "data": {
      "text/plain": [
       "<selenium.webdriver.remote.webelement.WebElement (session=\"57d2130a2249af64bf8dfe30b413f406\", element=\"ea48a64f-7212-4737-b8ec-b7a066371e41\")>"
      ]
     },
     "execution_count": 221,
     "metadata": {},
     "output_type": "execute_result"
    }
   ],
   "source": [
    "next_page= driver.find_element (By.XPATH,'/html/body/div[1]/div/div[3]/div[1]/div[2]/div[12]/div/div/nav/a[4]')\n",
    "next_page"
   ]
  },
  {
   "cell_type": "code",
   "execution_count": 222,
   "id": "9f04aa50",
   "metadata": {},
   "outputs": [],
   "source": [
    "next_page.click()"
   ]
  },
  {
   "cell_type": "code",
   "execution_count": 223,
   "id": "3dc168db",
   "metadata": {},
   "outputs": [
    {
     "data": {
      "text/plain": [
       "40"
      ]
     },
     "execution_count": 223,
     "metadata": {},
     "output_type": "execute_result"
    }
   ],
   "source": [
    "brand_tag3 = driver.find_elements (By.XPATH,'//div[@Class=\"_2WkVRV\"]')\n",
    "len (brand_tag3)"
   ]
  },
  {
   "cell_type": "code",
   "execution_count": 224,
   "id": "2fbd5318",
   "metadata": {},
   "outputs": [
    {
     "data": {
      "text/plain": [
       "40"
      ]
     },
     "execution_count": 224,
     "metadata": {},
     "output_type": "execute_result"
    }
   ],
   "source": [
    "brand_title3 = []\n",
    "for i in brand_tag3:\n",
    "    brand_title3.append(i.text)\n",
    "len (brand_title3)"
   ]
  },
  {
   "cell_type": "code",
   "execution_count": 225,
   "id": "354e43eb",
   "metadata": {},
   "outputs": [
    {
     "data": {
      "text/plain": [
       "['Fastrack',\n",
       " 'SRPM',\n",
       " 'kingsunglasses',\n",
       " 'VINCENT CHASE',\n",
       " 'kingsunglasses',\n",
       " 'Elligator',\n",
       " 'Fastrack',\n",
       " 'VINCENT CHASE',\n",
       " 'Singco India',\n",
       " 'New Specs',\n",
       " 'New Specs',\n",
       " 'ROYAL SON',\n",
       " 'PHENOMENAL',\n",
       " 'Fastrack',\n",
       " 'Singco India',\n",
       " 'ROYAL SON',\n",
       " 'ROZZETTA CRAFT',\n",
       " 'kingsunglasses',\n",
       " 'kingsunglasses',\n",
       " 'ROYAL SON',\n",
       " 'ROZZETTA CRAFT',\n",
       " 'Fastrack',\n",
       " 'VINCENT CHASE',\n",
       " 'ROYAL SON',\n",
       " 'SHAAH COLLECTIONS',\n",
       " 'ROYAL SON',\n",
       " 'ROYAL SON',\n",
       " 'AISLIN',\n",
       " 'AISLIN',\n",
       " 'VINCENT CHASE',\n",
       " 'ROYAL SON',\n",
       " 'ROYAL SON',\n",
       " 'Urbanic',\n",
       " 'PIRASO',\n",
       " 'AISLIN',\n",
       " 'ROYAL SON',\n",
       " 'ROZZETTA CRAFT',\n",
       " 'ROYAL SON',\n",
       " 'Fastrack',\n",
       " 'ROYAL SON']"
      ]
     },
     "execution_count": 225,
     "metadata": {},
     "output_type": "execute_result"
    }
   ],
   "source": [
    "brand_title3 "
   ]
  },
  {
   "cell_type": "code",
   "execution_count": 226,
   "id": "3f45f2d6",
   "metadata": {},
   "outputs": [
    {
     "data": {
      "text/plain": [
       "40"
      ]
     },
     "execution_count": 226,
     "metadata": {},
     "output_type": "execute_result"
    }
   ],
   "source": [
    "prod_desc3 = driver.find_elements(By.XPATH,'//a[@class=\"IRpwTa\"]')\n",
    "len(prod_desc3)"
   ]
  },
  {
   "cell_type": "code",
   "execution_count": 227,
   "id": "90525499",
   "metadata": {},
   "outputs": [
    {
     "data": {
      "text/plain": [
       "40"
      ]
     },
     "execution_count": 227,
     "metadata": {},
     "output_type": "execute_result"
    }
   ],
   "source": [
    "Product3 = []\n",
    "for i in prod_desc3:\n",
    "    Product3.append(i.text)\n",
    "len (Product3)"
   ]
  },
  {
   "cell_type": "code",
   "execution_count": 228,
   "id": "7394db2e",
   "metadata": {},
   "outputs": [
    {
     "data": {
      "text/plain": [
       "['Mirrored, UV Protection Wayfarer Sunglasses (Free Size)',\n",
       " 'Night Vision, UV Protection Round Sunglasses (54)',\n",
       " 'Mirrored, UV Protection Wayfarer, Rectangular Sunglasse...',\n",
       " 'Polarized, UV Protection Round Sunglasses (51)',\n",
       " 'UV Protection Rectangular Sunglasses (55)',\n",
       " 'UV Protection, Riding Glasses Rectangular, Retro Square...',\n",
       " 'UV Protection Shield Sunglasses (Free Size)',\n",
       " 'Polarized, UV Protection Round Sunglasses (51)',\n",
       " 'Gradient, Toughened Glass Lens, UV Protection Retro Squ...',\n",
       " 'UV Protection Rectangular Sunglasses (Free Size)',\n",
       " 'UV Protection Round Sunglasses (Free Size)',\n",
       " 'UV Protection Spectacle Sunglasses (57)',\n",
       " 'UV Protection Retro Square Sunglasses (Free Size)',\n",
       " 'UV Protection Wayfarer Sunglasses (Free Size)',\n",
       " 'Gradient, Toughened Glass Lens, UV Protection Retro Squ...',\n",
       " 'UV Protection, Polarized Wayfarer Sunglasses (54)',\n",
       " 'UV Protection, Gradient Round Sunglasses (Free Size)',\n",
       " 'UV Protection Round Sunglasses (Free Size)',\n",
       " 'UV Protection, Mirrored Round Sunglasses (Free Size)',\n",
       " 'Polarized, UV Protection Retro Square Sunglasses (55)',\n",
       " 'UV Protection, Gradient Retro Square Sunglasses (62)',\n",
       " 'UV Protection Wayfarer Sunglasses (Free Size)',\n",
       " 'by Lenskart Polarized, UV Protection Cat-eye Sunglasses...',\n",
       " 'UV Protection Retro Square Sunglasses (60)',\n",
       " 'UV Protection Round Sunglasses (Free Size)',\n",
       " 'UV Protection, Gradient Butterfly Sunglasses (62)',\n",
       " 'UV Protection, Gradient Butterfly Sunglasses (52)',\n",
       " 'UV Protection Oval, Aviator Sunglasses (65)',\n",
       " 'UV Protection, Gradient Oval Sunglasses (58)',\n",
       " 'by Lenskart Polarized, UV Protection Round Sunglasses (...',\n",
       " 'UV Protection, Gradient Wayfarer Sunglasses (55)',\n",
       " 'Polarized, UV Protection Wrap-around Sunglasses (62)',\n",
       " 'Others Oval Sunglasses (Free Size)',\n",
       " 'UV Protection Butterfly Sunglasses (60)',\n",
       " 'UV Protection, Gradient Retro Square Sunglasses (58)',\n",
       " 'Polarized, UV Protection Sports Sunglasses (68)',\n",
       " 'UV Protection Round Sunglasses (Free Size)',\n",
       " 'Polarized, UV Protection Wayfarer Sunglasses (61)',\n",
       " 'UV Protection Shield Sunglasses (Free Size)',\n",
       " 'UV Protection Over-sized Sunglasses (61)']"
      ]
     },
     "execution_count": 228,
     "metadata": {},
     "output_type": "execute_result"
    }
   ],
   "source": [
    "Product3"
   ]
  },
  {
   "cell_type": "code",
   "execution_count": 229,
   "id": "5a976afb",
   "metadata": {},
   "outputs": [
    {
     "data": {
      "text/plain": [
       "40"
      ]
     },
     "execution_count": 229,
     "metadata": {},
     "output_type": "execute_result"
    }
   ],
   "source": [
    "price_tags3 = driver.find_elements (By.XPATH,'//div[@class=\"_30jeq3\"]')\n",
    "len(price_tags3)"
   ]
  },
  {
   "cell_type": "code",
   "execution_count": 230,
   "id": "063e60f0",
   "metadata": {},
   "outputs": [
    {
     "data": {
      "text/plain": [
       "40"
      ]
     },
     "execution_count": 230,
     "metadata": {},
     "output_type": "execute_result"
    }
   ],
   "source": [
    "price3 = []\n",
    "for i in price_tags3 :\n",
    "    price3.append(i.text)\n",
    "len (price3)"
   ]
  },
  {
   "cell_type": "code",
   "execution_count": 231,
   "id": "fac6127a",
   "metadata": {},
   "outputs": [
    {
     "data": {
      "text/plain": [
       "['₹899',\n",
       " '₹233',\n",
       " '₹289',\n",
       " '₹1,533',\n",
       " '₹189',\n",
       " '₹379',\n",
       " '₹719',\n",
       " '₹1,533',\n",
       " '₹598',\n",
       " '₹154',\n",
       " '₹268',\n",
       " '₹664',\n",
       " '₹369',\n",
       " '₹759',\n",
       " '₹664',\n",
       " '₹759',\n",
       " '₹379',\n",
       " '₹329',\n",
       " '₹265',\n",
       " '₹616',\n",
       " '₹474',\n",
       " '₹899',\n",
       " '₹949',\n",
       " '₹569',\n",
       " '₹324',\n",
       " '₹699',\n",
       " '₹664',\n",
       " '₹1,145',\n",
       " '₹498',\n",
       " '₹949',\n",
       " '₹217',\n",
       " '₹799',\n",
       " '₹499',\n",
       " '₹405',\n",
       " '₹498',\n",
       " '₹1,234',\n",
       " '₹379',\n",
       " '₹664',\n",
       " '₹809',\n",
       " '₹699']"
      ]
     },
     "execution_count": 231,
     "metadata": {},
     "output_type": "execute_result"
    }
   ],
   "source": [
    "price3"
   ]
  },
  {
   "cell_type": "code",
   "execution_count": 232,
   "id": "5480f415",
   "metadata": {},
   "outputs": [
    {
     "data": {
      "text/plain": [
       "40"
      ]
     },
     "execution_count": 232,
     "metadata": {},
     "output_type": "execute_result"
    }
   ],
   "source": [
    "discount_tag = driver.find_elements (By.XPATH,'//div[@class=\"_3Ay6Sb\"]')\n",
    "len(discount_tag)"
   ]
  },
  {
   "cell_type": "code",
   "execution_count": 233,
   "id": "d7bc0d06",
   "metadata": {},
   "outputs": [
    {
     "data": {
      "text/plain": [
       "40"
      ]
     },
     "execution_count": 233,
     "metadata": {},
     "output_type": "execute_result"
    }
   ],
   "source": [
    "discount = []\n",
    "for i in discount_tag:\n",
    "    discount.append(i.text)\n",
    "len (discount)"
   ]
  },
  {
   "cell_type": "code",
   "execution_count": 234,
   "id": "d01d9060",
   "metadata": {},
   "outputs": [
    {
     "data": {
      "text/plain": [
       "['10% off',\n",
       " '76% off',\n",
       " '85% off',\n",
       " '23% off',\n",
       " '85% off',\n",
       " '74% off',\n",
       " '20% off',\n",
       " '23% off',\n",
       " '80% off',\n",
       " '89% off',\n",
       " '79% off',\n",
       " '66% off',\n",
       " '81% off',\n",
       " '15% off',\n",
       " '79% off',\n",
       " '62% off',\n",
       " '81% off',\n",
       " '79% off',\n",
       " '84% off',\n",
       " '69% off',\n",
       " '76% off',\n",
       " '10% off',\n",
       " '52% off',\n",
       " '71% off',\n",
       " '80% off',\n",
       " '65% off',\n",
       " '66% off',\n",
       " '69% off',\n",
       " '67% off',\n",
       " '52% off',\n",
       " '78% off',\n",
       " '60% off',\n",
       " '49% off',\n",
       " '84% off',\n",
       " '67% off',\n",
       " '50% off',\n",
       " '85% off',\n",
       " '66% off',\n",
       " '10% off',\n",
       " '65% off']"
      ]
     },
     "execution_count": 234,
     "metadata": {},
     "output_type": "execute_result"
    }
   ],
   "source": [
    "discount"
   ]
  },
  {
   "cell_type": "code",
   "execution_count": 235,
   "id": "72514ef7",
   "metadata": {},
   "outputs": [
    {
     "data": {
      "text/plain": [
       "40"
      ]
     },
     "execution_count": 235,
     "metadata": {},
     "output_type": "execute_result"
    }
   ],
   "source": [
    "discount_tag2 = driver.find_elements (By.XPATH,'//div[@class=\"_3Ay6Sb\"]')\n",
    "len(discount_tag2)"
   ]
  },
  {
   "cell_type": "code",
   "execution_count": 236,
   "id": "21cca492",
   "metadata": {},
   "outputs": [
    {
     "data": {
      "text/plain": [
       "40"
      ]
     },
     "execution_count": 236,
     "metadata": {},
     "output_type": "execute_result"
    }
   ],
   "source": [
    "discount2 = []\n",
    "for i in discount_tag2 :\n",
    "    discount2.append(i.text)\n",
    "len (discount2)"
   ]
  },
  {
   "cell_type": "code",
   "execution_count": 237,
   "id": "d27cae0a",
   "metadata": {},
   "outputs": [
    {
     "data": {
      "text/plain": [
       "['10% off',\n",
       " '76% off',\n",
       " '85% off',\n",
       " '23% off',\n",
       " '85% off',\n",
       " '74% off',\n",
       " '20% off',\n",
       " '23% off',\n",
       " '80% off',\n",
       " '89% off',\n",
       " '79% off',\n",
       " '66% off',\n",
       " '81% off',\n",
       " '15% off',\n",
       " '79% off',\n",
       " '62% off',\n",
       " '81% off',\n",
       " '79% off',\n",
       " '84% off',\n",
       " '69% off',\n",
       " '76% off',\n",
       " '10% off',\n",
       " '52% off',\n",
       " '71% off',\n",
       " '80% off',\n",
       " '65% off',\n",
       " '66% off',\n",
       " '69% off',\n",
       " '67% off',\n",
       " '52% off',\n",
       " '78% off',\n",
       " '60% off',\n",
       " '49% off',\n",
       " '84% off',\n",
       " '67% off',\n",
       " '50% off',\n",
       " '85% off',\n",
       " '66% off',\n",
       " '10% off',\n",
       " '65% off']"
      ]
     },
     "execution_count": 237,
     "metadata": {},
     "output_type": "execute_result"
    }
   ],
   "source": [
    "discount2"
   ]
  },
  {
   "cell_type": "code",
   "execution_count": 238,
   "id": "c0968316",
   "metadata": {},
   "outputs": [
    {
     "data": {
      "text/plain": [
       "40"
      ]
     },
     "execution_count": 238,
     "metadata": {},
     "output_type": "execute_result"
    }
   ],
   "source": [
    "discount_tag3 = driver.find_elements (By.XPATH,'//div[@class=\"_3Ay6Sb\"]')\n",
    "len(discount_tag3)"
   ]
  },
  {
   "cell_type": "code",
   "execution_count": 239,
   "id": "9d7192f9",
   "metadata": {},
   "outputs": [
    {
     "data": {
      "text/plain": [
       "40"
      ]
     },
     "execution_count": 239,
     "metadata": {},
     "output_type": "execute_result"
    }
   ],
   "source": [
    "discount3 = []\n",
    "for i in discount_tag3 :\n",
    "    discount3.append(i.text)\n",
    "len (discount3)"
   ]
  },
  {
   "cell_type": "code",
   "execution_count": 240,
   "id": "f270f2d0",
   "metadata": {},
   "outputs": [
    {
     "data": {
      "text/plain": [
       "['10% off',\n",
       " '76% off',\n",
       " '85% off',\n",
       " '23% off',\n",
       " '85% off',\n",
       " '74% off',\n",
       " '20% off',\n",
       " '23% off',\n",
       " '80% off',\n",
       " '89% off',\n",
       " '79% off',\n",
       " '66% off',\n",
       " '81% off',\n",
       " '15% off',\n",
       " '79% off',\n",
       " '62% off',\n",
       " '81% off',\n",
       " '79% off',\n",
       " '84% off',\n",
       " '69% off',\n",
       " '76% off',\n",
       " '10% off',\n",
       " '52% off',\n",
       " '71% off',\n",
       " '80% off',\n",
       " '65% off',\n",
       " '66% off',\n",
       " '69% off',\n",
       " '67% off',\n",
       " '52% off',\n",
       " '78% off',\n",
       " '60% off',\n",
       " '49% off',\n",
       " '84% off',\n",
       " '67% off',\n",
       " '50% off',\n",
       " '85% off',\n",
       " '66% off',\n",
       " '10% off',\n",
       " '65% off']"
      ]
     },
     "execution_count": 240,
     "metadata": {},
     "output_type": "execute_result"
    }
   ],
   "source": [
    "discount3"
   ]
  },
  {
   "cell_type": "code",
   "execution_count": 241,
   "id": "e2537e82",
   "metadata": {},
   "outputs": [
    {
     "data": {
      "text/plain": [
       "(120, 120, 120, 120)"
      ]
     },
     "execution_count": 241,
     "metadata": {},
     "output_type": "execute_result"
    }
   ],
   "source": [
    "len(brand_tag+brand_tag2+brand_tag3),len(prod_desc+prod_desc2+prod_desc3),len(price_tags+price_tags2+price_tags3),len(discount+discount2+discount3)"
   ]
  },
  {
   "cell_type": "code",
   "execution_count": 242,
   "id": "d75aa6c9",
   "metadata": {},
   "outputs": [
    {
     "data": {
      "text/html": [
       "<div>\n",
       "<style scoped>\n",
       "    .dataframe tbody tr th:only-of-type {\n",
       "        vertical-align: middle;\n",
       "    }\n",
       "\n",
       "    .dataframe tbody tr th {\n",
       "        vertical-align: top;\n",
       "    }\n",
       "\n",
       "    .dataframe thead th {\n",
       "        text-align: right;\n",
       "    }\n",
       "</style>\n",
       "<table border=\"1\" class=\"dataframe\">\n",
       "  <thead>\n",
       "    <tr style=\"text-align: right;\">\n",
       "      <th></th>\n",
       "      <th>Brand</th>\n",
       "      <th>(Product Description</th>\n",
       "      <th>Price</th>\n",
       "      <th>Discount</th>\n",
       "    </tr>\n",
       "  </thead>\n",
       "  <tbody>\n",
       "    <tr>\n",
       "      <th>0</th>\n",
       "      <td>VINCENT CHASE</td>\n",
       "      <td>by Lenskart Polarized, UV Protection Rectangul...</td>\n",
       "      <td>₹749</td>\n",
       "      <td>10% off</td>\n",
       "    </tr>\n",
       "    <tr>\n",
       "      <th>1</th>\n",
       "      <td>ROYAL SON</td>\n",
       "      <td>Polarized, UV Protection Aviator Sunglasses (57)</td>\n",
       "      <td>₹759</td>\n",
       "      <td>76% off</td>\n",
       "    </tr>\n",
       "    <tr>\n",
       "      <th>2</th>\n",
       "      <td>Elligator</td>\n",
       "      <td>UV Protection Round Sunglasses (54)</td>\n",
       "      <td>₹315</td>\n",
       "      <td>85% off</td>\n",
       "    </tr>\n",
       "    <tr>\n",
       "      <th>3</th>\n",
       "      <td>DAHAAZIL</td>\n",
       "      <td>UV Protection, Night Vision, Riding Glasses Wa...</td>\n",
       "      <td>₹177</td>\n",
       "      <td>23% off</td>\n",
       "    </tr>\n",
       "    <tr>\n",
       "      <th>4</th>\n",
       "      <td>New Specs</td>\n",
       "      <td>UV Protection Rectangular Sunglasses (Free Size)</td>\n",
       "      <td>₹264</td>\n",
       "      <td>85% off</td>\n",
       "    </tr>\n",
       "    <tr>\n",
       "      <th>...</th>\n",
       "      <td>...</td>\n",
       "      <td>...</td>\n",
       "      <td>...</td>\n",
       "      <td>...</td>\n",
       "    </tr>\n",
       "    <tr>\n",
       "      <th>95</th>\n",
       "      <td>ROYAL SON</td>\n",
       "      <td>UV Protection, Polarized Wayfarer Sunglasses (54)</td>\n",
       "      <td>₹759</td>\n",
       "      <td>62% off</td>\n",
       "    </tr>\n",
       "    <tr>\n",
       "      <th>96</th>\n",
       "      <td>ROZZETTA CRAFT</td>\n",
       "      <td>UV Protection, Gradient Round Sunglasses (Free...</td>\n",
       "      <td>₹379</td>\n",
       "      <td>81% off</td>\n",
       "    </tr>\n",
       "    <tr>\n",
       "      <th>97</th>\n",
       "      <td>kingsunglasses</td>\n",
       "      <td>UV Protection Round Sunglasses (Free Size)</td>\n",
       "      <td>₹329</td>\n",
       "      <td>79% off</td>\n",
       "    </tr>\n",
       "    <tr>\n",
       "      <th>98</th>\n",
       "      <td>kingsunglasses</td>\n",
       "      <td>UV Protection, Mirrored Round Sunglasses (Free...</td>\n",
       "      <td>₹265</td>\n",
       "      <td>84% off</td>\n",
       "    </tr>\n",
       "    <tr>\n",
       "      <th>99</th>\n",
       "      <td>ROYAL SON</td>\n",
       "      <td>Polarized, UV Protection Retro Square Sunglass...</td>\n",
       "      <td>₹616</td>\n",
       "      <td>69% off</td>\n",
       "    </tr>\n",
       "  </tbody>\n",
       "</table>\n",
       "<p>100 rows × 4 columns</p>\n",
       "</div>"
      ],
      "text/plain": [
       "             Brand                               (Product Description Price  \\\n",
       "0    VINCENT CHASE  by Lenskart Polarized, UV Protection Rectangul...  ₹749   \n",
       "1        ROYAL SON   Polarized, UV Protection Aviator Sunglasses (57)  ₹759   \n",
       "2        Elligator                UV Protection Round Sunglasses (54)  ₹315   \n",
       "3         DAHAAZIL  UV Protection, Night Vision, Riding Glasses Wa...  ₹177   \n",
       "4        New Specs   UV Protection Rectangular Sunglasses (Free Size)  ₹264   \n",
       "..             ...                                                ...   ...   \n",
       "95       ROYAL SON  UV Protection, Polarized Wayfarer Sunglasses (54)  ₹759   \n",
       "96  ROZZETTA CRAFT  UV Protection, Gradient Round Sunglasses (Free...  ₹379   \n",
       "97  kingsunglasses         UV Protection Round Sunglasses (Free Size)  ₹329   \n",
       "98  kingsunglasses  UV Protection, Mirrored Round Sunglasses (Free...  ₹265   \n",
       "99       ROYAL SON  Polarized, UV Protection Retro Square Sunglass...  ₹616   \n",
       "\n",
       "   Discount  \n",
       "0   10% off  \n",
       "1   76% off  \n",
       "2   85% off  \n",
       "3   23% off  \n",
       "4   85% off  \n",
       "..      ...  \n",
       "95  62% off  \n",
       "96  81% off  \n",
       "97  79% off  \n",
       "98  84% off  \n",
       "99  69% off  \n",
       "\n",
       "[100 rows x 4 columns]"
      ]
     },
     "execution_count": 242,
     "metadata": {},
     "output_type": "execute_result"
    }
   ],
   "source": [
    "Sunglasses =  pd.DataFrame()\n",
    "Sunglasses['Brand'] = brand_title+brand_title2+brand_title3 \n",
    "Sunglasses['(Product Description'] = Product+Product2+Product3\n",
    "Sunglasses['Price'] = price+price2+price3\n",
    "Sunglasses['Discount'] = discount+discount2+discount3\n",
    "Sunglasses [:100]"
   ]
  },
  {
   "cell_type": "code",
   "execution_count": 243,
   "id": "e11cc6d2",
   "metadata": {},
   "outputs": [],
   "source": [
    "#QUES NO 06\n",
    "import selenium\n",
    "from selenium import webdriver\n",
    "import pandas as pd\n",
    "import warnings\n",
    "warnings.filterwarnings('ignore')"
   ]
  },
  {
   "cell_type": "code",
   "execution_count": 244,
   "id": "3857030e",
   "metadata": {},
   "outputs": [],
   "source": [
    "driver = webdriver.Chrome(r'C:\\Users\\BHAVYA OJHA\\OneDrive\\Documents\\Downloads\\chromedriver_win32 (2)\\chromedriver.exe')"
   ]
  },
  {
   "cell_type": "code",
   "execution_count": 245,
   "id": "7566e595",
   "metadata": {},
   "outputs": [],
   "source": [
    "url='https://www.flipkart.com/'\n",
    "driver.get(url)"
   ]
  },
  {
   "cell_type": "code",
   "execution_count": 246,
   "id": "e7fefddc",
   "metadata": {},
   "outputs": [],
   "source": [
    "from selenium.webdriver.common.by import By"
   ]
  },
  {
   "cell_type": "code",
   "execution_count": 247,
   "id": "8fb945ec",
   "metadata": {},
   "outputs": [
    {
     "data": {
      "text/plain": [
       "<selenium.webdriver.remote.webelement.WebElement (session=\"d00a91cc4bdb5896f8448338349b7247\", element=\"5f63998d-0516-489b-86dc-edf0ed51f653\")>"
      ]
     },
     "execution_count": 247,
     "metadata": {},
     "output_type": "execute_result"
    }
   ],
   "source": [
    "search_sneakers = driver.find_element(By.CLASS_NAME,'_3704LK')\n",
    "search_sneakers"
   ]
  },
  {
   "cell_type": "code",
   "execution_count": 248,
   "id": "f4250cba",
   "metadata": {},
   "outputs": [],
   "source": [
    "search_sneakers.send_keys(' sneakers')"
   ]
  },
  {
   "cell_type": "code",
   "execution_count": 249,
   "id": "898c966b",
   "metadata": {},
   "outputs": [
    {
     "data": {
      "text/plain": [
       "<selenium.webdriver.remote.webelement.WebElement (session=\"d00a91cc4bdb5896f8448338349b7247\", element=\"ebbeb7c0-5dd9-421a-b9c6-6a2f029c8d1e\")>"
      ]
     },
     "execution_count": 249,
     "metadata": {},
     "output_type": "execute_result"
    }
   ],
   "source": [
    "search_btn = driver.find_element (By.XPATH,'/html/body/div[1]/div/div[1]/div[1]/div[2]/div[2]/form/div/button')\n",
    "search_btn"
   ]
  },
  {
   "cell_type": "code",
   "execution_count": 252,
   "id": "a8c59058",
   "metadata": {},
   "outputs": [
    {
     "data": {
      "text/plain": [
       "40"
      ]
     },
     "execution_count": 252,
     "metadata": {},
     "output_type": "execute_result"
    }
   ],
   "source": [
    "name_tags = driver.find_elements (By.XPATH,'//div[@class=\"_2WkVRV\"]')\n",
    "len (name_tags)"
   ]
  },
  {
   "cell_type": "code",
   "execution_count": 253,
   "id": "8edbd7d9",
   "metadata": {},
   "outputs": [
    {
     "data": {
      "text/plain": [
       "40"
      ]
     },
     "execution_count": 253,
     "metadata": {},
     "output_type": "execute_result"
    }
   ],
   "source": [
    "brand_titles = []\n",
    "for i in name_tags:\n",
    "    brand_titles.append(i.text)\n",
    "len (brand_titles)"
   ]
  },
  {
   "cell_type": "code",
   "execution_count": 254,
   "id": "cca8235b",
   "metadata": {},
   "outputs": [
    {
     "data": {
      "text/plain": [
       "['WOODLAND',\n",
       " 'BRUTON',\n",
       " 'BRUTON',\n",
       " 'FEWEYU',\n",
       " 'URBANBOX',\n",
       " 'Magnolia',\n",
       " 'Chevit',\n",
       " 'HOTSTYLE',\n",
       " 'Labbin',\n",
       " 'BIRDE',\n",
       " 'aadi',\n",
       " 'kardam&sons',\n",
       " 'BIRDE',\n",
       " 'ONECENTRE',\n",
       " 'PUMA',\n",
       " 'HOTSTYLE',\n",
       " 'SFR',\n",
       " 'PUMA',\n",
       " 'KWIK FIT',\n",
       " 'LOUIS PHILIPPE',\n",
       " 'HOTSTYLE',\n",
       " 'corsac',\n",
       " 'CLYMB',\n",
       " 'RapidBox',\n",
       " 'BRUTON',\n",
       " 'BIRDE',\n",
       " 'Kraasa',\n",
       " 'HOTSTYLE',\n",
       " 'SCATCHITE',\n",
       " 'Kraasa',\n",
       " 'Layasa',\n",
       " 'Roadster',\n",
       " 'Kraasa',\n",
       " 'PUMA',\n",
       " 'BIRDE',\n",
       " 'pollachief',\n",
       " 'Kzaara',\n",
       " 'D-SNEAKERZ',\n",
       " 'Robbie jones',\n",
       " 'Echor']"
      ]
     },
     "execution_count": 254,
     "metadata": {},
     "output_type": "execute_result"
    }
   ],
   "source": [
    "brand_titles"
   ]
  },
  {
   "cell_type": "code",
   "execution_count": 255,
   "id": "c5299f4d",
   "metadata": {},
   "outputs": [
    {
     "data": {
      "text/plain": [
       "40"
      ]
     },
     "execution_count": 255,
     "metadata": {},
     "output_type": "execute_result"
    }
   ],
   "source": [
    "rate_tag= driver.find_elements (By.XPATH,'//div[@class=\"_30jeq3\"]')\n",
    "len(rate_tag)\n"
   ]
  },
  {
   "cell_type": "code",
   "execution_count": 256,
   "id": "a3f7f7b5",
   "metadata": {},
   "outputs": [
    {
     "data": {
      "text/plain": [
       "40"
      ]
     },
     "execution_count": 256,
     "metadata": {},
     "output_type": "execute_result"
    }
   ],
   "source": [
    "price_tag= []\n",
    "for i in rate_tag:\n",
    "    price_tag.append(i.text)\n",
    "len (price_tag)"
   ]
  },
  {
   "cell_type": "code",
   "execution_count": 257,
   "id": "567c268e",
   "metadata": {},
   "outputs": [
    {
     "data": {
      "text/plain": [
       "['₹2,096',\n",
       " '₹269',\n",
       " '₹299',\n",
       " '₹499',\n",
       " '₹198',\n",
       " '₹449',\n",
       " '₹649',\n",
       " '₹296',\n",
       " '₹499',\n",
       " '₹378',\n",
       " '₹319',\n",
       " '₹449',\n",
       " '₹335',\n",
       " '₹299',\n",
       " '₹2,099',\n",
       " '₹375',\n",
       " '₹289',\n",
       " '₹1,763',\n",
       " '₹397',\n",
       " '₹2,399',\n",
       " '₹258',\n",
       " '₹499',\n",
       " '₹579',\n",
       " '₹630',\n",
       " '₹269',\n",
       " '₹335',\n",
       " '₹479',\n",
       " '₹271',\n",
       " '₹399',\n",
       " '₹479',\n",
       " '₹499',\n",
       " '₹1,249',\n",
       " '₹479',\n",
       " '₹2,029',\n",
       " '₹249',\n",
       " '₹378',\n",
       " '₹254',\n",
       " '₹299',\n",
       " '₹499',\n",
       " '₹598']"
      ]
     },
     "execution_count": 257,
     "metadata": {},
     "output_type": "execute_result"
    }
   ],
   "source": [
    "price_tag"
   ]
  },
  {
   "cell_type": "code",
   "execution_count": 258,
   "id": "bcb5e6de",
   "metadata": {},
   "outputs": [
    {
     "data": {
      "text/plain": [
       "38"
      ]
     },
     "execution_count": 258,
     "metadata": {},
     "output_type": "execute_result"
    }
   ],
   "source": [
    "des_tags = driver.find_elements (By.XPATH,'//a[@class=\"IRpwTa\"]')\n",
    "len(des_tags)"
   ]
  },
  {
   "cell_type": "code",
   "execution_count": 259,
   "id": "06120185",
   "metadata": {},
   "outputs": [
    {
     "data": {
      "text/plain": [
       "2"
      ]
     },
     "execution_count": 259,
     "metadata": {},
     "output_type": "execute_result"
    }
   ],
   "source": [
    "des_tags2 = driver.find_elements (By.XPATH,'//a[@class=\"IRpwTa _2-ICcC\"]')\n",
    "len(des_tags2)"
   ]
  },
  {
   "cell_type": "code",
   "execution_count": 260,
   "id": "55902d2f",
   "metadata": {},
   "outputs": [
    {
     "data": {
      "text/plain": [
       "38"
      ]
     },
     "execution_count": 260,
     "metadata": {},
     "output_type": "execute_result"
    }
   ],
   "source": [
    "desc_tags = []\n",
    "for i in des_tags:\n",
    "    desc_tags.append(i.text)\n",
    "len (desc_tags)\n"
   ]
  },
  {
   "cell_type": "code",
   "execution_count": 261,
   "id": "ac52efb6",
   "metadata": {},
   "outputs": [
    {
     "data": {
      "text/plain": [
       "2"
      ]
     },
     "execution_count": 261,
     "metadata": {},
     "output_type": "execute_result"
    }
   ],
   "source": [
    "desc_tags2 = []\n",
    "for i in des_tags2:\n",
    "    desc_tags2.append(i.text)\n",
    "len (desc_tags2)"
   ]
  },
  {
   "cell_type": "code",
   "execution_count": 262,
   "id": "bfd1fdad",
   "metadata": {},
   "outputs": [
    {
     "data": {
      "text/plain": [
       "40"
      ]
     },
     "execution_count": 262,
     "metadata": {},
     "output_type": "execute_result"
    }
   ],
   "source": [
    "dis_tags = driver.find_elements (By.XPATH,'//div[@class=\"_3Ay6Sb\"]')\n",
    "len(dis_tags)"
   ]
  },
  {
   "cell_type": "code",
   "execution_count": 263,
   "id": "ddaa3b00",
   "metadata": {},
   "outputs": [
    {
     "data": {
      "text/plain": [
       "40"
      ]
     },
     "execution_count": 263,
     "metadata": {},
     "output_type": "execute_result"
    }
   ],
   "source": [
    "disc_tags = []\n",
    "for i in dis_tags:\n",
    "    disc_tags.append(i.text)\n",
    "len (disc_tags)"
   ]
  },
  {
   "cell_type": "code",
   "execution_count": 264,
   "id": "0bd1ae00",
   "metadata": {},
   "outputs": [
    {
     "data": {
      "text/plain": [
       "['30% off',\n",
       " '79% off',\n",
       " '76% off',\n",
       " '75% off',\n",
       " '80% off',\n",
       " '55% off',\n",
       " '65% off',\n",
       " '40% off',\n",
       " '50% off',\n",
       " '62% off',\n",
       " '68% off',\n",
       " '71% off',\n",
       " '66% off',\n",
       " '50% off',\n",
       " '40% off',\n",
       " '24% off',\n",
       " '71% off',\n",
       " '49% off',\n",
       " '80% off',\n",
       " '40% off',\n",
       " '74% off',\n",
       " '66% off',\n",
       " '61% off',\n",
       " '36% off',\n",
       " '79% off',\n",
       " '66% off',\n",
       " '52% off',\n",
       " '45% off',\n",
       " '60% off',\n",
       " '52% off',\n",
       " '50% off',\n",
       " '70% off',\n",
       " '52% off',\n",
       " '42% off',\n",
       " '75% off',\n",
       " '62% off',\n",
       " '74% off',\n",
       " '54% off',\n",
       " '50% off',\n",
       " '70% off']"
      ]
     },
     "execution_count": 264,
     "metadata": {},
     "output_type": "execute_result"
    }
   ],
   "source": [
    "disc_tags"
   ]
  },
  {
   "cell_type": "code",
   "execution_count": 265,
   "id": "04e1855d",
   "metadata": {},
   "outputs": [
    {
     "data": {
      "text/plain": [
       "40"
      ]
     },
     "execution_count": 265,
     "metadata": {},
     "output_type": "execute_result"
    }
   ],
   "source": [
    "name_tags2 = driver.find_elements (By.XPATH,'//div[@class=\"_2WkVRV\"]')\n",
    "len (name_tags2)"
   ]
  },
  {
   "cell_type": "code",
   "execution_count": 266,
   "id": "99985a7c",
   "metadata": {},
   "outputs": [
    {
     "data": {
      "text/plain": [
       "40"
      ]
     },
     "execution_count": 266,
     "metadata": {},
     "output_type": "execute_result"
    }
   ],
   "source": [
    "brand_titles2 = []\n",
    "for i in name_tags2:\n",
    "    brand_titles2.append(i.text)\n",
    "len (brand_titles2)"
   ]
  },
  {
   "cell_type": "code",
   "execution_count": 267,
   "id": "c8867e1b",
   "metadata": {},
   "outputs": [
    {
     "data": {
      "text/plain": [
       "['WOODLAND',\n",
       " 'BRUTON',\n",
       " 'BRUTON',\n",
       " 'FEWEYU',\n",
       " 'URBANBOX',\n",
       " 'Magnolia',\n",
       " 'Chevit',\n",
       " 'HOTSTYLE',\n",
       " 'Labbin',\n",
       " 'BIRDE',\n",
       " 'aadi',\n",
       " 'kardam&sons',\n",
       " 'BIRDE',\n",
       " 'ONECENTRE',\n",
       " 'PUMA',\n",
       " 'HOTSTYLE',\n",
       " 'SFR',\n",
       " 'PUMA',\n",
       " 'KWIK FIT',\n",
       " 'LOUIS PHILIPPE',\n",
       " 'HOTSTYLE',\n",
       " 'corsac',\n",
       " 'CLYMB',\n",
       " 'RapidBox',\n",
       " 'BRUTON',\n",
       " 'BIRDE',\n",
       " 'Kraasa',\n",
       " 'HOTSTYLE',\n",
       " 'SCATCHITE',\n",
       " 'Kraasa',\n",
       " 'Layasa',\n",
       " 'Roadster',\n",
       " 'Kraasa',\n",
       " 'PUMA',\n",
       " 'BIRDE',\n",
       " 'pollachief',\n",
       " 'Kzaara',\n",
       " 'D-SNEAKERZ',\n",
       " 'Robbie jones',\n",
       " 'Echor']"
      ]
     },
     "execution_count": 267,
     "metadata": {},
     "output_type": "execute_result"
    }
   ],
   "source": [
    "brand_titles2 "
   ]
  },
  {
   "cell_type": "code",
   "execution_count": 268,
   "id": "c27e2344",
   "metadata": {},
   "outputs": [
    {
     "data": {
      "text/plain": [
       "40"
      ]
     },
     "execution_count": 268,
     "metadata": {},
     "output_type": "execute_result"
    }
   ],
   "source": [
    "rate_tag2= driver.find_elements (By.XPATH,'//div[@class=\"_30jeq3\"]')\n",
    "len(rate_tag2)\n"
   ]
  },
  {
   "cell_type": "code",
   "execution_count": 269,
   "id": "74b3ad79",
   "metadata": {},
   "outputs": [
    {
     "data": {
      "text/plain": [
       "40"
      ]
     },
     "execution_count": 269,
     "metadata": {},
     "output_type": "execute_result"
    }
   ],
   "source": [
    "price_tag2= []\n",
    "for i in rate_tag2:\n",
    "    price_tag2.append(i.text)\n",
    "len (price_tag2)"
   ]
  },
  {
   "cell_type": "code",
   "execution_count": 270,
   "id": "8cc93d88",
   "metadata": {},
   "outputs": [
    {
     "data": {
      "text/plain": [
       "['₹2,096',\n",
       " '₹269',\n",
       " '₹299',\n",
       " '₹499',\n",
       " '₹198',\n",
       " '₹449',\n",
       " '₹649',\n",
       " '₹296',\n",
       " '₹499',\n",
       " '₹378',\n",
       " '₹319',\n",
       " '₹449',\n",
       " '₹335',\n",
       " '₹299',\n",
       " '₹2,099',\n",
       " '₹375',\n",
       " '₹289',\n",
       " '₹1,763',\n",
       " '₹397',\n",
       " '₹2,399',\n",
       " '₹258',\n",
       " '₹499',\n",
       " '₹579',\n",
       " '₹630',\n",
       " '₹269',\n",
       " '₹335',\n",
       " '₹479',\n",
       " '₹271',\n",
       " '₹399',\n",
       " '₹479',\n",
       " '₹499',\n",
       " '₹1,249',\n",
       " '₹479',\n",
       " '₹2,029',\n",
       " '₹249',\n",
       " '₹378',\n",
       " '₹254',\n",
       " '₹299',\n",
       " '₹499',\n",
       " '₹598']"
      ]
     },
     "execution_count": 270,
     "metadata": {},
     "output_type": "execute_result"
    }
   ],
   "source": [
    "price_tag2"
   ]
  },
  {
   "cell_type": "code",
   "execution_count": 271,
   "id": "e6bd04a4",
   "metadata": {},
   "outputs": [
    {
     "data": {
      "text/plain": [
       "38"
      ]
     },
     "execution_count": 271,
     "metadata": {},
     "output_type": "execute_result"
    }
   ],
   "source": [
    "des_tags3 = driver.find_elements (By.XPATH,'//a[@class=\"IRpwTa\"]')\n",
    "len(des_tags3)"
   ]
  },
  {
   "cell_type": "code",
   "execution_count": 272,
   "id": "61fabba8",
   "metadata": {},
   "outputs": [
    {
     "data": {
      "text/plain": [
       "2"
      ]
     },
     "execution_count": 272,
     "metadata": {},
     "output_type": "execute_result"
    }
   ],
   "source": [
    "des_tags4 = driver.find_elements (By.XPATH,'//a[@class=\"IRpwTa _2-ICcC\"]')\n",
    "len(des_tags4)"
   ]
  },
  {
   "cell_type": "code",
   "execution_count": 273,
   "id": "3e6674d3",
   "metadata": {},
   "outputs": [
    {
     "data": {
      "text/plain": [
       "38"
      ]
     },
     "execution_count": 273,
     "metadata": {},
     "output_type": "execute_result"
    }
   ],
   "source": [
    "desc_tags3 = []\n",
    "for i in des_tags3:\n",
    "    desc_tags3.append(i.text)\n",
    "len (desc_tags3)"
   ]
  },
  {
   "cell_type": "code",
   "execution_count": 274,
   "id": "bf9b2cc2",
   "metadata": {},
   "outputs": [
    {
     "data": {
      "text/plain": [
       "2"
      ]
     },
     "execution_count": 274,
     "metadata": {},
     "output_type": "execute_result"
    }
   ],
   "source": [
    "desc_tags4 = []\n",
    "for i in des_tags4:\n",
    "    desc_tags4.append(i.text)\n",
    "len (desc_tags4)"
   ]
  },
  {
   "cell_type": "code",
   "execution_count": 275,
   "id": "7acfcf9e",
   "metadata": {},
   "outputs": [
    {
     "data": {
      "text/plain": [
       "['Sneakers For Men',\n",
       " 'Modern Trendy Sneakers Shoes Sneakers For Men',\n",
       " 'Modern Trendy Sneakers Shoes Sneakers For Men',\n",
       " 'Fashionable casual sneaker shoes Sneakers For Men (Blac...',\n",
       " 'Sneakers For Men',\n",
       " 'Super Stylish & Trendy Combo Pack of 02 Pairs Sneakers ...',\n",
       " 'Sneakers Sneakers For Men',\n",
       " 'Sneakers For Men',\n",
       " 'Stylish Comfortable Lightweight, Breathable Walking Sho...',\n",
       " 'Sneakers For Men',\n",
       " 'Fashionable Luxury Canvas Casual Outdoor Sneakers White...',\n",
       " 'Stylish Comfortable Lightweight, Breathable Walking Sho...',\n",
       " 'STR2 Sneakers For Men',\n",
       " 'Smash v2 L Sneakers For Men',\n",
       " 'Mike Stylish & Trendy Sneakers For Men',\n",
       " 'Sneakers For Men',\n",
       " 'Puma Smash v2 L Sneakers For Men',\n",
       " 'Kwik FIT casual sneaker shoes and partywear shoes Casua...',\n",
       " 'Sneakers For Men',\n",
       " 'Sneakers For Men',\n",
       " 'STYLISH MENS BLACK SNEAKER Sneakers For Men',\n",
       " 'Sneakers For Men',\n",
       " 'Sneaker Sneakers For Men',\n",
       " 'Stylish Comfortable Lightweight, Breathable Casual Walk...',\n",
       " 'Casuals, Canvas, Partywear Sneakers For Men',\n",
       " 'CR-1 Sneakers For Men',\n",
       " 'Sneakers Sneakers For Men',\n",
       " 'Shark-41 Sneakers For Men',\n",
       " 'Sneakers For Men',\n",
       " 'Sneakers For Men',\n",
       " 'Series 7 Sneakers For Men',\n",
       " 'Smash v2 L White- Black Sneakers For Men',\n",
       " 'Sports Running Shoes Sneakers For Men',\n",
       " 'Casual Sneaker for Men Sneakers For Men',\n",
       " 'Sneakers For Men',\n",
       " \"Casual , Partywear Sneakers Shoes For Men's And Boys Wh...\",\n",
       " 'Casual Sneakers Canvas Shoes For Men Sneakers For Men',\n",
       " 'Casual Stylish Sneakers For Men Sneakers For Men']"
      ]
     },
     "execution_count": 275,
     "metadata": {},
     "output_type": "execute_result"
    }
   ],
   "source": [
    "\n",
    "desc_tags3"
   ]
  },
  {
   "cell_type": "code",
   "execution_count": 276,
   "id": "597efb63",
   "metadata": {},
   "outputs": [
    {
     "data": {
      "text/plain": [
       "['Sneakers Sneakers For Men', 'Sneakers For Men']"
      ]
     },
     "execution_count": 276,
     "metadata": {},
     "output_type": "execute_result"
    }
   ],
   "source": [
    "desc_tags4 "
   ]
  },
  {
   "cell_type": "code",
   "execution_count": 277,
   "id": "0fc56628",
   "metadata": {},
   "outputs": [
    {
     "data": {
      "text/plain": [
       "40"
      ]
     },
     "execution_count": 277,
     "metadata": {},
     "output_type": "execute_result"
    }
   ],
   "source": [
    "dis_tags2 = driver.find_elements (By.XPATH,'//div[@class=\"_3Ay6Sb\"]')\n",
    "len(dis_tags2)"
   ]
  },
  {
   "cell_type": "code",
   "execution_count": 278,
   "id": "3366f7da",
   "metadata": {},
   "outputs": [
    {
     "data": {
      "text/plain": [
       "40"
      ]
     },
     "execution_count": 278,
     "metadata": {},
     "output_type": "execute_result"
    }
   ],
   "source": [
    "disc_tags2 = []\n",
    "for i in dis_tags2:\n",
    "    disc_tags2.append(i.text)\n",
    "len (disc_tags2)"
   ]
  },
  {
   "cell_type": "code",
   "execution_count": 279,
   "id": "676b7f4d",
   "metadata": {},
   "outputs": [
    {
     "data": {
      "text/plain": [
       "['30% off',\n",
       " '79% off',\n",
       " '76% off',\n",
       " '75% off',\n",
       " '80% off',\n",
       " '55% off',\n",
       " '65% off',\n",
       " '40% off',\n",
       " '50% off',\n",
       " '62% off',\n",
       " '68% off',\n",
       " '71% off',\n",
       " '66% off',\n",
       " '50% off',\n",
       " '40% off',\n",
       " '24% off',\n",
       " '71% off',\n",
       " '49% off',\n",
       " '80% off',\n",
       " '40% off',\n",
       " '74% off',\n",
       " '66% off',\n",
       " '61% off',\n",
       " '36% off',\n",
       " '79% off',\n",
       " '66% off',\n",
       " '52% off',\n",
       " '45% off',\n",
       " '60% off',\n",
       " '52% off',\n",
       " '50% off',\n",
       " '70% off',\n",
       " '52% off',\n",
       " '42% off',\n",
       " '75% off',\n",
       " '62% off',\n",
       " '74% off',\n",
       " '54% off',\n",
       " '50% off',\n",
       " '70% off']"
      ]
     },
     "execution_count": 279,
     "metadata": {},
     "output_type": "execute_result"
    }
   ],
   "source": [
    "disc_tags2\n"
   ]
  },
  {
   "cell_type": "code",
   "execution_count": 284,
   "id": "d4230c3a",
   "metadata": {},
   "outputs": [
    {
     "data": {
      "text/plain": [
       "40"
      ]
     },
     "execution_count": 284,
     "metadata": {},
     "output_type": "execute_result"
    }
   ],
   "source": [
    "name_tags3 = driver.find_elements (By.XPATH,'//div[@class=\"_2WkVRV\"]')\n",
    "len (name_tags3)"
   ]
  },
  {
   "cell_type": "code",
   "execution_count": 285,
   "id": "81174efd",
   "metadata": {},
   "outputs": [
    {
     "data": {
      "text/plain": [
       "40"
      ]
     },
     "execution_count": 285,
     "metadata": {},
     "output_type": "execute_result"
    }
   ],
   "source": [
    "brand_titles3 = []\n",
    "for i in name_tags3:\n",
    "    brand_titles3.append(i.text)\n",
    "len (brand_titles3)"
   ]
  },
  {
   "cell_type": "code",
   "execution_count": 286,
   "id": "247646a3",
   "metadata": {},
   "outputs": [
    {
     "data": {
      "text/plain": [
       "['WOODLAND',\n",
       " 'BRUTON',\n",
       " 'BRUTON',\n",
       " 'FEWEYU',\n",
       " 'URBANBOX',\n",
       " 'Magnolia',\n",
       " 'Chevit',\n",
       " 'HOTSTYLE',\n",
       " 'Labbin',\n",
       " 'BIRDE',\n",
       " 'aadi',\n",
       " 'kardam&sons',\n",
       " 'BIRDE',\n",
       " 'ONECENTRE',\n",
       " 'PUMA',\n",
       " 'HOTSTYLE',\n",
       " 'SFR',\n",
       " 'PUMA',\n",
       " 'KWIK FIT',\n",
       " 'LOUIS PHILIPPE',\n",
       " 'HOTSTYLE',\n",
       " 'corsac',\n",
       " 'CLYMB',\n",
       " 'RapidBox',\n",
       " 'BRUTON',\n",
       " 'BIRDE',\n",
       " 'Kraasa',\n",
       " 'HOTSTYLE',\n",
       " 'SCATCHITE',\n",
       " 'Kraasa',\n",
       " 'Layasa',\n",
       " 'Roadster',\n",
       " 'Kraasa',\n",
       " 'PUMA',\n",
       " 'BIRDE',\n",
       " 'pollachief',\n",
       " 'Kzaara',\n",
       " 'D-SNEAKERZ',\n",
       " 'Robbie jones',\n",
       " 'Echor']"
      ]
     },
     "execution_count": 286,
     "metadata": {},
     "output_type": "execute_result"
    }
   ],
   "source": [
    "brand_titles3"
   ]
  },
  {
   "cell_type": "code",
   "execution_count": 287,
   "id": "13692ce7",
   "metadata": {},
   "outputs": [
    {
     "data": {
      "text/plain": [
       "40"
      ]
     },
     "execution_count": 287,
     "metadata": {},
     "output_type": "execute_result"
    }
   ],
   "source": [
    "rate_tag3= driver.find_elements (By.XPATH,'//div[@class=\"_30jeq3\"]')\n",
    "len(rate_tag3)"
   ]
  },
  {
   "cell_type": "code",
   "execution_count": 288,
   "id": "595e5674",
   "metadata": {},
   "outputs": [
    {
     "data": {
      "text/plain": [
       "40"
      ]
     },
     "execution_count": 288,
     "metadata": {},
     "output_type": "execute_result"
    }
   ],
   "source": [
    "price_tag3= []\n",
    "for i in rate_tag3:\n",
    "    price_tag3.append(i.text)\n",
    "len (price_tag3)"
   ]
  },
  {
   "cell_type": "code",
   "execution_count": 289,
   "id": "3c59b16c",
   "metadata": {},
   "outputs": [
    {
     "data": {
      "text/plain": [
       "['₹2,096',\n",
       " '₹269',\n",
       " '₹299',\n",
       " '₹499',\n",
       " '₹198',\n",
       " '₹449',\n",
       " '₹649',\n",
       " '₹296',\n",
       " '₹499',\n",
       " '₹378',\n",
       " '₹319',\n",
       " '₹449',\n",
       " '₹335',\n",
       " '₹299',\n",
       " '₹2,099',\n",
       " '₹375',\n",
       " '₹289',\n",
       " '₹1,763',\n",
       " '₹397',\n",
       " '₹2,399',\n",
       " '₹258',\n",
       " '₹499',\n",
       " '₹579',\n",
       " '₹630',\n",
       " '₹269',\n",
       " '₹335',\n",
       " '₹479',\n",
       " '₹271',\n",
       " '₹399',\n",
       " '₹479',\n",
       " '₹499',\n",
       " '₹1,249',\n",
       " '₹479',\n",
       " '₹2,029',\n",
       " '₹249',\n",
       " '₹378',\n",
       " '₹254',\n",
       " '₹299',\n",
       " '₹499',\n",
       " '₹598']"
      ]
     },
     "execution_count": 289,
     "metadata": {},
     "output_type": "execute_result"
    }
   ],
   "source": [
    "price_tag3"
   ]
  },
  {
   "cell_type": "code",
   "execution_count": 290,
   "id": "cf0140d8",
   "metadata": {},
   "outputs": [
    {
     "data": {
      "text/plain": [
       "38"
      ]
     },
     "execution_count": 290,
     "metadata": {},
     "output_type": "execute_result"
    }
   ],
   "source": [
    "des_tags5 = driver.find_elements (By.XPATH,'//a[@class=\"IRpwTa\"]')\n",
    "len(des_tags5)"
   ]
  },
  {
   "cell_type": "code",
   "execution_count": 291,
   "id": "02691baa",
   "metadata": {},
   "outputs": [
    {
     "data": {
      "text/plain": [
       "2"
      ]
     },
     "execution_count": 291,
     "metadata": {},
     "output_type": "execute_result"
    }
   ],
   "source": [
    "des_tags6 = driver.find_elements (By.XPATH,'//a[@class=\"IRpwTa _2-ICcC\"]')\n",
    "len(des_tags6)"
   ]
  },
  {
   "cell_type": "code",
   "execution_count": 292,
   "id": "042e376e",
   "metadata": {},
   "outputs": [
    {
     "data": {
      "text/plain": [
       "38"
      ]
     },
     "execution_count": 292,
     "metadata": {},
     "output_type": "execute_result"
    }
   ],
   "source": [
    "desc_tags5 = []\n",
    "for i in des_tags5:\n",
    "    desc_tags5.append(i.text)\n",
    "len (desc_tags5)"
   ]
  },
  {
   "cell_type": "code",
   "execution_count": 293,
   "id": "5ff3297a",
   "metadata": {},
   "outputs": [
    {
     "data": {
      "text/plain": [
       "2"
      ]
     },
     "execution_count": 293,
     "metadata": {},
     "output_type": "execute_result"
    }
   ],
   "source": [
    "desc_tags6 = []\n",
    "for i in des_tags6:\n",
    "    desc_tags6.append(i.text)\n",
    "len (desc_tags6)"
   ]
  },
  {
   "cell_type": "code",
   "execution_count": 294,
   "id": "2aa5fdf1",
   "metadata": {},
   "outputs": [
    {
     "data": {
      "text/plain": [
       "['Sneakers For Men',\n",
       " 'Modern Trendy Sneakers Shoes Sneakers For Men',\n",
       " 'Modern Trendy Sneakers Shoes Sneakers For Men',\n",
       " 'Fashionable casual sneaker shoes Sneakers For Men (Blac...',\n",
       " 'Sneakers For Men',\n",
       " 'Super Stylish & Trendy Combo Pack of 02 Pairs Sneakers ...',\n",
       " 'Sneakers Sneakers For Men',\n",
       " 'Sneakers For Men',\n",
       " 'Stylish Comfortable Lightweight, Breathable Walking Sho...',\n",
       " 'Sneakers For Men',\n",
       " 'Fashionable Luxury Canvas Casual Outdoor Sneakers White...',\n",
       " 'Stylish Comfortable Lightweight, Breathable Walking Sho...',\n",
       " 'STR2 Sneakers For Men',\n",
       " 'Smash v2 L Sneakers For Men',\n",
       " 'Mike Stylish & Trendy Sneakers For Men',\n",
       " 'Sneakers For Men',\n",
       " 'Puma Smash v2 L Sneakers For Men',\n",
       " 'Kwik FIT casual sneaker shoes and partywear shoes Casua...',\n",
       " 'Sneakers For Men',\n",
       " 'Sneakers For Men',\n",
       " 'STYLISH MENS BLACK SNEAKER Sneakers For Men',\n",
       " 'Sneakers For Men',\n",
       " 'Sneaker Sneakers For Men',\n",
       " 'Stylish Comfortable Lightweight, Breathable Casual Walk...',\n",
       " 'Casuals, Canvas, Partywear Sneakers For Men',\n",
       " 'CR-1 Sneakers For Men',\n",
       " 'Sneakers Sneakers For Men',\n",
       " 'Shark-41 Sneakers For Men',\n",
       " 'Sneakers For Men',\n",
       " 'Sneakers For Men',\n",
       " 'Series 7 Sneakers For Men',\n",
       " 'Smash v2 L White- Black Sneakers For Men',\n",
       " 'Sports Running Shoes Sneakers For Men',\n",
       " 'Casual Sneaker for Men Sneakers For Men',\n",
       " 'Sneakers For Men',\n",
       " \"Casual , Partywear Sneakers Shoes For Men's And Boys Wh...\",\n",
       " 'Casual Sneakers Canvas Shoes For Men Sneakers For Men',\n",
       " 'Casual Stylish Sneakers For Men Sneakers For Men']"
      ]
     },
     "execution_count": 294,
     "metadata": {},
     "output_type": "execute_result"
    }
   ],
   "source": [
    "desc_tags5"
   ]
  },
  {
   "cell_type": "code",
   "execution_count": 295,
   "id": "47d95c87",
   "metadata": {},
   "outputs": [
    {
     "data": {
      "text/plain": [
       "['Sneakers Sneakers For Men', 'Sneakers For Men']"
      ]
     },
     "execution_count": 295,
     "metadata": {},
     "output_type": "execute_result"
    }
   ],
   "source": [
    "desc_tags6"
   ]
  },
  {
   "cell_type": "code",
   "execution_count": 296,
   "id": "c1bf9413",
   "metadata": {},
   "outputs": [
    {
     "data": {
      "text/plain": [
       "40"
      ]
     },
     "execution_count": 296,
     "metadata": {},
     "output_type": "execute_result"
    }
   ],
   "source": [
    "dis_tags3 = driver.find_elements (By.XPATH,'//div[@class=\"_3Ay6Sb\"]')\n",
    "len(dis_tags3)"
   ]
  },
  {
   "cell_type": "code",
   "execution_count": 297,
   "id": "0c924fca",
   "metadata": {},
   "outputs": [
    {
     "data": {
      "text/plain": [
       "40"
      ]
     },
     "execution_count": 297,
     "metadata": {},
     "output_type": "execute_result"
    }
   ],
   "source": [
    "disc_tags3= []\n",
    "for i in dis_tags3:\n",
    "    disc_tags3.append(i.text)\n",
    "len (disc_tags3)"
   ]
  },
  {
   "cell_type": "code",
   "execution_count": 298,
   "id": "904fc52d",
   "metadata": {},
   "outputs": [
    {
     "data": {
      "text/plain": [
       "['30% off',\n",
       " '79% off',\n",
       " '76% off',\n",
       " '75% off',\n",
       " '80% off',\n",
       " '55% off',\n",
       " '65% off',\n",
       " '40% off',\n",
       " '50% off',\n",
       " '62% off',\n",
       " '68% off',\n",
       " '71% off',\n",
       " '66% off',\n",
       " '50% off',\n",
       " '40% off',\n",
       " '24% off',\n",
       " '71% off',\n",
       " '49% off',\n",
       " '80% off',\n",
       " '40% off',\n",
       " '74% off',\n",
       " '66% off',\n",
       " '61% off',\n",
       " '36% off',\n",
       " '79% off',\n",
       " '66% off',\n",
       " '52% off',\n",
       " '45% off',\n",
       " '60% off',\n",
       " '52% off',\n",
       " '50% off',\n",
       " '70% off',\n",
       " '52% off',\n",
       " '42% off',\n",
       " '75% off',\n",
       " '62% off',\n",
       " '74% off',\n",
       " '54% off',\n",
       " '50% off',\n",
       " '70% off']"
      ]
     },
     "execution_count": 298,
     "metadata": {},
     "output_type": "execute_result"
    }
   ],
   "source": [
    "disc_tags3"
   ]
  },
  {
   "cell_type": "code",
   "execution_count": 299,
   "id": "926521a9",
   "metadata": {},
   "outputs": [
    {
     "data": {
      "text/plain": [
       "(120, 120, 120, 120)"
      ]
     },
     "execution_count": 299,
     "metadata": {},
     "output_type": "execute_result"
    }
   ],
   "source": [
    "len(brand_titles+brand_titles2+brand_titles3),len(price_tag+price_tag2+price_tag3),len(desc_tags+desc_tags2+desc_tags3+desc_tags4+desc_tags5+desc_tags6),len(disc_tags+disc_tags2+disc_tags3)"
   ]
  },
  {
   "cell_type": "code",
   "execution_count": 300,
   "id": "c84458e4",
   "metadata": {},
   "outputs": [
    {
     "data": {
      "text/html": [
       "<div>\n",
       "<style scoped>\n",
       "    .dataframe tbody tr th:only-of-type {\n",
       "        vertical-align: middle;\n",
       "    }\n",
       "\n",
       "    .dataframe tbody tr th {\n",
       "        vertical-align: top;\n",
       "    }\n",
       "\n",
       "    .dataframe thead th {\n",
       "        text-align: right;\n",
       "    }\n",
       "</style>\n",
       "<table border=\"1\" class=\"dataframe\">\n",
       "  <thead>\n",
       "    <tr style=\"text-align: right;\">\n",
       "      <th></th>\n",
       "      <th>Brand</th>\n",
       "      <th>Product Description</th>\n",
       "      <th>Price</th>\n",
       "      <th>Discount</th>\n",
       "    </tr>\n",
       "  </thead>\n",
       "  <tbody>\n",
       "    <tr>\n",
       "      <th>0</th>\n",
       "      <td>WOODLAND</td>\n",
       "      <td>Sneakers For Men</td>\n",
       "      <td>₹2,096</td>\n",
       "      <td>30% off</td>\n",
       "    </tr>\n",
       "    <tr>\n",
       "      <th>1</th>\n",
       "      <td>BRUTON</td>\n",
       "      <td>Modern Trendy Sneakers Shoes Sneakers For Men</td>\n",
       "      <td>₹269</td>\n",
       "      <td>79% off</td>\n",
       "    </tr>\n",
       "    <tr>\n",
       "      <th>2</th>\n",
       "      <td>BRUTON</td>\n",
       "      <td>Modern Trendy Sneakers Shoes Sneakers For Men</td>\n",
       "      <td>₹299</td>\n",
       "      <td>76% off</td>\n",
       "    </tr>\n",
       "    <tr>\n",
       "      <th>3</th>\n",
       "      <td>FEWEYU</td>\n",
       "      <td>Fashionable casual sneaker shoes Sneakers For ...</td>\n",
       "      <td>₹499</td>\n",
       "      <td>75% off</td>\n",
       "    </tr>\n",
       "    <tr>\n",
       "      <th>4</th>\n",
       "      <td>URBANBOX</td>\n",
       "      <td>Sneakers For Men</td>\n",
       "      <td>₹198</td>\n",
       "      <td>80% off</td>\n",
       "    </tr>\n",
       "    <tr>\n",
       "      <th>...</th>\n",
       "      <td>...</td>\n",
       "      <td>...</td>\n",
       "      <td>...</td>\n",
       "      <td>...</td>\n",
       "    </tr>\n",
       "    <tr>\n",
       "      <th>95</th>\n",
       "      <td>HOTSTYLE</td>\n",
       "      <td>Sneakers For Men</td>\n",
       "      <td>₹375</td>\n",
       "      <td>24% off</td>\n",
       "    </tr>\n",
       "    <tr>\n",
       "      <th>96</th>\n",
       "      <td>SFR</td>\n",
       "      <td>Puma Smash v2 L Sneakers For Men</td>\n",
       "      <td>₹289</td>\n",
       "      <td>71% off</td>\n",
       "    </tr>\n",
       "    <tr>\n",
       "      <th>97</th>\n",
       "      <td>PUMA</td>\n",
       "      <td>Kwik FIT casual sneaker shoes and partywear sh...</td>\n",
       "      <td>₹1,763</td>\n",
       "      <td>49% off</td>\n",
       "    </tr>\n",
       "    <tr>\n",
       "      <th>98</th>\n",
       "      <td>KWIK FIT</td>\n",
       "      <td>Sneakers For Men</td>\n",
       "      <td>₹397</td>\n",
       "      <td>80% off</td>\n",
       "    </tr>\n",
       "    <tr>\n",
       "      <th>99</th>\n",
       "      <td>LOUIS PHILIPPE</td>\n",
       "      <td>Sneakers For Men</td>\n",
       "      <td>₹2,399</td>\n",
       "      <td>40% off</td>\n",
       "    </tr>\n",
       "  </tbody>\n",
       "</table>\n",
       "<p>100 rows × 4 columns</p>\n",
       "</div>"
      ],
      "text/plain": [
       "             Brand                                Product Description   Price  \\\n",
       "0         WOODLAND                                   Sneakers For Men  ₹2,096   \n",
       "1           BRUTON      Modern Trendy Sneakers Shoes Sneakers For Men    ₹269   \n",
       "2           BRUTON      Modern Trendy Sneakers Shoes Sneakers For Men    ₹299   \n",
       "3           FEWEYU  Fashionable casual sneaker shoes Sneakers For ...    ₹499   \n",
       "4         URBANBOX                                   Sneakers For Men    ₹198   \n",
       "..             ...                                                ...     ...   \n",
       "95        HOTSTYLE                                   Sneakers For Men    ₹375   \n",
       "96             SFR                   Puma Smash v2 L Sneakers For Men    ₹289   \n",
       "97            PUMA  Kwik FIT casual sneaker shoes and partywear sh...  ₹1,763   \n",
       "98        KWIK FIT                                   Sneakers For Men    ₹397   \n",
       "99  LOUIS PHILIPPE                                   Sneakers For Men  ₹2,399   \n",
       "\n",
       "   Discount  \n",
       "0   30% off  \n",
       "1   79% off  \n",
       "2   76% off  \n",
       "3   75% off  \n",
       "4   80% off  \n",
       "..      ...  \n",
       "95  24% off  \n",
       "96  71% off  \n",
       "97  49% off  \n",
       "98  80% off  \n",
       "99  40% off  \n",
       "\n",
       "[100 rows x 4 columns]"
      ]
     },
     "execution_count": 300,
     "metadata": {},
     "output_type": "execute_result"
    }
   ],
   "source": [
    "sneakers =  pd.DataFrame()\n",
    "sneakers['Brand'] =brand_titles+brand_titles2+brand_titles3\n",
    "sneakers['Product Description'] =desc_tags+desc_tags2+desc_tags3+desc_tags4+desc_tags5+desc_tags6\n",
    "sneakers['Price'] =price_tag+price_tag2+price_tag3\n",
    "sneakers['Discount'] = disc_tags+disc_tags2+disc_tags3\n",
    "sneakers[:100]"
   ]
  },
  {
   "cell_type": "code",
   "execution_count": 301,
   "id": "9a5cd1f3",
   "metadata": {},
   "outputs": [],
   "source": [
    "#QUES NO 07\n",
    "import selenium\n",
    "from selenium import webdriver\n",
    "import pandas as pd\n",
    "import warnings\n",
    "warnings.filterwarnings('ignore')"
   ]
  },
  {
   "cell_type": "code",
   "execution_count": 302,
   "id": "494e4eef",
   "metadata": {},
   "outputs": [],
   "source": [
    "driver = webdriver.Chrome(r'C:\\Users\\BHAVYA OJHA\\OneDrive\\Documents\\Downloads\\chromedriver_win32 (2)\\chromedriver.exe')"
   ]
  },
  {
   "cell_type": "code",
   "execution_count": 304,
   "id": "f2f6e2bd",
   "metadata": {},
   "outputs": [],
   "source": [
    "url='https://www.myntra.com/shoes'\n",
    "driver.get(url)"
   ]
  },
  {
   "cell_type": "code",
   "execution_count": 305,
   "id": "8552cecc",
   "metadata": {},
   "outputs": [],
   "source": [
    "from selenium.webdriver.common.by import By"
   ]
  },
  {
   "cell_type": "code",
   "execution_count": 306,
   "id": "691c6a71",
   "metadata": {},
   "outputs": [
    {
     "data": {
      "text/plain": [
       "50"
      ]
     },
     "execution_count": 306,
     "metadata": {},
     "output_type": "execute_result"
    }
   ],
   "source": [
    "name_tags = driver.find_elements (By.XPATH,'//h3[@class=\"product-brand\"]')\n",
    "len (name_tags)"
   ]
  },
  {
   "cell_type": "code",
   "execution_count": 307,
   "id": "164bef09",
   "metadata": {},
   "outputs": [
    {
     "data": {
      "text/plain": [
       "50"
      ]
     },
     "execution_count": 307,
     "metadata": {},
     "output_type": "execute_result"
    }
   ],
   "source": [
    "brand_tags = []\n",
    "for i in name_tags:\n",
    "    brand_tags.append(i.text)\n",
    "len (brand_tags)"
   ]
  },
  {
   "cell_type": "code",
   "execution_count": 308,
   "id": "7b7dd4b7",
   "metadata": {},
   "outputs": [
    {
     "data": {
      "text/plain": [
       "['Puma',\n",
       " 'Campus',\n",
       " 'Campus',\n",
       " 'Campus',\n",
       " 'Woodland',\n",
       " 'Woakers',\n",
       " 'Roadster',\n",
       " 'Puma',\n",
       " 'Denill',\n",
       " 'WROGN',\n",
       " 'ASIAN',\n",
       " 'HIGHLANDER',\n",
       " 'Roadster',\n",
       " 'Denill',\n",
       " 'Sparx',\n",
       " 'HIGHLANDER',\n",
       " 'Puma',\n",
       " 'ADIDAS',\n",
       " 'HIGHLANDER',\n",
       " 'Roadster',\n",
       " 'Roadster',\n",
       " 'HIGHLANDER',\n",
       " 'Mactree',\n",
       " 'Puma',\n",
       " 'Ajanta',\n",
       " 'HIGHLANDER',\n",
       " 'Duke',\n",
       " 'CLYMB',\n",
       " 'Mactree',\n",
       " 'HIGHLANDER',\n",
       " 'ASIAN',\n",
       " 'Mactree',\n",
       " 'AfroJack',\n",
       " 'HIGHLANDER',\n",
       " 'ASIAN',\n",
       " 'HIGHLANDER',\n",
       " 'Campus',\n",
       " 'HIGHLANDER',\n",
       " 'Roadster',\n",
       " 'HIGHLANDER',\n",
       " 'shoexpress',\n",
       " 'shoexpress',\n",
       " 'Power',\n",
       " 'Absolutee Shoes',\n",
       " 'Zoom Shoes',\n",
       " 'AfroJack',\n",
       " 'ASIAN',\n",
       " 'Campus',\n",
       " 'RINDAS',\n",
       " 'ASIAN']"
      ]
     },
     "execution_count": 308,
     "metadata": {},
     "output_type": "execute_result"
    }
   ],
   "source": [
    "brand_tags"
   ]
  },
  {
   "cell_type": "code",
   "execution_count": 309,
   "id": "177c5053",
   "metadata": {},
   "outputs": [
    {
     "data": {
      "text/plain": [
       "50"
      ]
     },
     "execution_count": 309,
     "metadata": {},
     "output_type": "execute_result"
    }
   ],
   "source": [
    "des_tags = driver.find_elements(By.XPATH,'//h4[@class=\"product-product\"]')\n",
    "len (des_tags)"
   ]
  },
  {
   "cell_type": "code",
   "execution_count": 310,
   "id": "d7000fd7",
   "metadata": {},
   "outputs": [
    {
     "data": {
      "text/plain": [
       "50"
      ]
     },
     "execution_count": 310,
     "metadata": {},
     "output_type": "execute_result"
    }
   ],
   "source": [
    " desc_tags= []\n",
    "for i in des_tags:\n",
    "    desc_tags.append(i.text)\n",
    "len (desc_tags)"
   ]
  },
  {
   "cell_type": "code",
   "execution_count": 311,
   "id": "c82a9777",
   "metadata": {},
   "outputs": [
    {
     "data": {
      "text/plain": [
       "['Men Lex Training Shoes',\n",
       " 'Men Running Shoes',\n",
       " 'Men Running Shoes',\n",
       " 'Men Running Shoes',\n",
       " 'Casual Shoes',\n",
       " 'Men Running Shoes',\n",
       " 'Men Sports Shoes',\n",
       " 'Men Emergence Sports Shoes',\n",
       " 'Women Walking Shoes',\n",
       " 'Men Woven Design Running Shoes',\n",
       " 'Men Running Shoes',\n",
       " 'Men Driving Shoes',\n",
       " 'Men Sports Shoes',\n",
       " 'Women Running Shoes',\n",
       " 'Men Running Shoes',\n",
       " 'Men Driving Shoes',\n",
       " 'Men Trekking Shoes',\n",
       " 'Men Skateboarding Shoes',\n",
       " 'Men Driving Shoes',\n",
       " 'Men Sports Shoes',\n",
       " 'Men Sports Shoes',\n",
       " 'Men Driving Shoes',\n",
       " 'Men Tan Derby Shoes',\n",
       " 'Men Sports Shoes',\n",
       " 'Women Formal Shoes',\n",
       " 'Men Driving Shoes',\n",
       " 'Women Running Shoes',\n",
       " 'Men Running Shoes',\n",
       " 'Men Walking Shoes',\n",
       " 'Men Driving Shoes',\n",
       " 'Men Running Shoes',\n",
       " 'Men Walking Shoes',\n",
       " 'Men Running Shoes',\n",
       " 'Men Driving Shoes',\n",
       " 'Men Running Shoes',\n",
       " 'Men Driving Shoes',\n",
       " 'Men Running Shoes',\n",
       " 'Men Solid Driving Shoes',\n",
       " 'Men Solid Running Shoes',\n",
       " 'Men Driving Shoes',\n",
       " 'Women Running Shoes',\n",
       " 'Women Walking Shoes',\n",
       " 'Women Walking Shoes',\n",
       " 'Men Trekking Shoes',\n",
       " 'Men Solid Derbys Formal Shoes',\n",
       " 'Women Running Shoes',\n",
       " 'Men Running Shoes',\n",
       " 'Men Running Shoes',\n",
       " 'Women Walking Shoes',\n",
       " 'Women Running Shoes']"
      ]
     },
     "execution_count": 311,
     "metadata": {},
     "output_type": "execute_result"
    }
   ],
   "source": [
    " desc_tags"
   ]
  },
  {
   "cell_type": "code",
   "execution_count": 312,
   "id": "2d96f792",
   "metadata": {},
   "outputs": [
    {
     "data": {
      "text/plain": [
       "50"
      ]
     },
     "execution_count": 312,
     "metadata": {},
     "output_type": "execute_result"
    }
   ],
   "source": [
    "rate_tags = driver.find_elements(By.XPATH,'//div[@class=\"product-price\"]')\n",
    "len (rate_tags)"
   ]
  },
  {
   "cell_type": "code",
   "execution_count": 313,
   "id": "5680d470",
   "metadata": {},
   "outputs": [
    {
     "data": {
      "text/plain": [
       "50"
      ]
     },
     "execution_count": 313,
     "metadata": {},
     "output_type": "execute_result"
    }
   ],
   "source": [
    "price_tags= []\n",
    "for i in rate_tags:\n",
    "    price_tags.append(i.text)\n",
    "len (price_tags)"
   ]
  },
  {
   "cell_type": "code",
   "execution_count": 314,
   "id": "6cc16a01",
   "metadata": {},
   "outputs": [
    {
     "data": {
      "text/plain": [
       "['Rs. 4799Rs. 5999(20% OFF)',\n",
       " 'Rs. 949Rs. 1049(Rs. 100 OFF)',\n",
       " 'Rs. 899Rs. 1049(Rs. 150 OFF)',\n",
       " 'Rs. 979Rs. 1049(Rs. 70 OFF)',\n",
       " 'Rs. 3116Rs. 3895(20% OFF)',\n",
       " 'Rs. 681Rs. 3405(80% OFF)',\n",
       " 'Rs. 1199Rs. 3299(Rs. 2100 OFF)',\n",
       " 'Rs. 2749Rs. 5499(50% OFF)',\n",
       " 'Rs. 699Rs. 999(30% OFF)',\n",
       " 'Rs. 2699Rs. 4499(40% OFF)',\n",
       " 'Rs. 749Rs. 1499(50% OFF)',\n",
       " 'Rs. 851Rs. 1548(45% OFF)',\n",
       " 'Rs. 1199Rs. 3299(Rs. 2100 OFF)',\n",
       " 'Rs. 699Rs. 999(30% OFF)',\n",
       " 'Rs. 1099',\n",
       " 'Rs. 696Rs. 1548(55% OFF)',\n",
       " 'Rs. 1934Rs. 4299(55% OFF)',\n",
       " 'Rs. 2529Rs. 4599(45% OFF)',\n",
       " 'Rs. 696Rs. 1548(55% OFF)',\n",
       " 'Rs. 1199Rs. 3299(Rs. 2100 OFF)',\n",
       " 'Rs. 1199Rs. 3299(Rs. 2100 OFF)',\n",
       " 'Rs. 851Rs. 1548(45% OFF)',\n",
       " 'Rs. 1098Rs. 5490(80% OFF)',\n",
       " 'Rs. 2199Rs. 3999(45% OFF)',\n",
       " 'Rs. 629',\n",
       " 'Rs. 760Rs. 1690(55% OFF)',\n",
       " 'Rs. 908Rs. 2595(65% OFF)',\n",
       " 'Rs. 609Rs. 999(39% OFF)',\n",
       " 'Rs. 798Rs. 3990(80% OFF)',\n",
       " 'Rs. 851Rs. 1548(45% OFF)',\n",
       " 'Rs. 559Rs. 699(20% OFF)',\n",
       " 'Rs. 798Rs. 3990(80% OFF)',\n",
       " 'Rs. 799Rs. 3995(80% OFF)',\n",
       " 'Rs. 845Rs. 1690(50% OFF)',\n",
       " 'Rs. 699Rs. 999(30% OFF)',\n",
       " 'Rs. 851Rs. 1548(45% OFF)',\n",
       " 'Rs. 1574Rs. 1699(Rs. 125 OFF)',\n",
       " 'Rs. 796Rs. 1990(60% OFF)',\n",
       " 'Rs. 2034Rs. 3699(45% OFF)',\n",
       " 'Rs. 851Rs. 1548(45% OFF)',\n",
       " 'Rs. 3054Rs. 4699(35% OFF)',\n",
       " 'Rs. 2404Rs. 3699(35% OFF)',\n",
       " 'Rs. 899Rs. 999(10% OFF)',\n",
       " 'Rs. 499Rs. 999(50% OFF)',\n",
       " 'Rs. 2999',\n",
       " 'Rs. 799Rs. 3995(80% OFF)',\n",
       " 'Rs. 559Rs. 699(20% OFF)',\n",
       " 'Rs. 1574Rs. 1699(Rs. 125 OFF)',\n",
       " 'Rs. 799Rs. 1999(Rs. 1200 OFF)',\n",
       " 'Rs. 794Rs. 1499(47% OFF)']"
      ]
     },
     "execution_count": 314,
     "metadata": {},
     "output_type": "execute_result"
    }
   ],
   "source": [
    "price_tags"
   ]
  },
  {
   "cell_type": "code",
   "execution_count": 315,
   "id": "96ba3930",
   "metadata": {},
   "outputs": [
    {
     "data": {
      "text/plain": [
       "<selenium.webdriver.remote.webelement.WebElement (session=\"a226af7f8c335188cda009887d7a6217\", element=\"742551ad-ca7a-4343-93b5-d0de39694f2d\")>"
      ]
     },
     "execution_count": 315,
     "metadata": {},
     "output_type": "execute_result"
    }
   ],
   "source": [
    "next_btn= driver.find_element (By.XPATH,'/html/body/div[2]/div/div[1]/main/div[3]/div[2]/div/div[2]/section/div[2]/ul/li[3]/a')\n",
    "next_btn"
   ]
  },
  {
   "cell_type": "code",
   "execution_count": 316,
   "id": "d7e8c4e9",
   "metadata": {},
   "outputs": [],
   "source": [
    "next_btn.click()"
   ]
  },
  {
   "cell_type": "code",
   "execution_count": 334,
   "id": "bb7773d0",
   "metadata": {},
   "outputs": [
    {
     "data": {
      "text/plain": [
       "50"
      ]
     },
     "execution_count": 334,
     "metadata": {},
     "output_type": "execute_result"
    }
   ],
   "source": [
    "name_tags2 = driver.find_elements (By.XPATH,'//h3[@class=\"product-brand\"]')\n",
    "len (name_tags2)"
   ]
  },
  {
   "cell_type": "code",
   "execution_count": 335,
   "id": "d867606a",
   "metadata": {},
   "outputs": [
    {
     "data": {
      "text/plain": [
       "50"
      ]
     },
     "execution_count": 335,
     "metadata": {},
     "output_type": "execute_result"
    }
   ],
   "source": [
    "brand_tags2 = []\n",
    "for i in name_tags2:\n",
    "    brand_tags2.append(i.text)\n",
    "len (brand_tags2)"
   ]
  },
  {
   "cell_type": "code",
   "execution_count": 336,
   "id": "79718d21",
   "metadata": {},
   "outputs": [
    {
     "data": {
      "text/plain": [
       "['ASIAN',\n",
       " 'HIGHLANDER',\n",
       " 'Duke',\n",
       " 'Duke',\n",
       " 'AfroJack',\n",
       " 'Duke',\n",
       " 'ASIAN',\n",
       " 'ASIAN',\n",
       " 'Duke',\n",
       " 'Carlton London',\n",
       " 'AfroJack',\n",
       " 'AfroJack',\n",
       " 'HIGHLANDER',\n",
       " 'HIGHLANDER',\n",
       " 'Shoetopia',\n",
       " 'Mactree',\n",
       " 'Campus',\n",
       " 'Mactree',\n",
       " 'Denill',\n",
       " 'Fentacia',\n",
       " 'Bata',\n",
       " 'ASICS',\n",
       " 'HIGHLANDER',\n",
       " 'Sparx',\n",
       " 'HIGHLANDER',\n",
       " 'HIGHLANDER',\n",
       " 'ASIAN',\n",
       " 'Duke',\n",
       " 'AfroJack',\n",
       " 'TimberWood',\n",
       " 'Fentacia',\n",
       " 'Sparx',\n",
       " 'Sherrif Shoes',\n",
       " 'TRASE',\n",
       " 'RINDAS',\n",
       " 'CLYMB',\n",
       " 'Sparx',\n",
       " 'BERSACHE',\n",
       " 'ASIAN',\n",
       " 'BERSACHE',\n",
       " 'Duke',\n",
       " 'Duke',\n",
       " 'HIGHLANDER',\n",
       " 'Campus',\n",
       " 'AfroJack',\n",
       " 'Red Chief',\n",
       " 'Denill',\n",
       " 'Mactree',\n",
       " 'Mactree',\n",
       " 'ZAPATOZ']"
      ]
     },
     "execution_count": 336,
     "metadata": {},
     "output_type": "execute_result"
    }
   ],
   "source": [
    "brand_tags2 "
   ]
  },
  {
   "cell_type": "code",
   "execution_count": 319,
   "id": "0b431f6d",
   "metadata": {},
   "outputs": [
    {
     "data": {
      "text/plain": [
       "50"
      ]
     },
     "execution_count": 319,
     "metadata": {},
     "output_type": "execute_result"
    }
   ],
   "source": [
    "des_tags2= driver.find_elements(By.XPATH,'//h4[@class=\"product-product\"]')\n",
    "len (des_tags2)"
   ]
  },
  {
   "cell_type": "code",
   "execution_count": 320,
   "id": "2c57c39a",
   "metadata": {},
   "outputs": [
    {
     "data": {
      "text/plain": [
       "50"
      ]
     },
     "execution_count": 320,
     "metadata": {},
     "output_type": "execute_result"
    }
   ],
   "source": [
    " desc_tags2= []\n",
    "for i in des_tags2:\n",
    "    desc_tags2.append(i.text)\n",
    "len (desc_tags2)"
   ]
  },
  {
   "cell_type": "code",
   "execution_count": 321,
   "id": "6040767a",
   "metadata": {},
   "outputs": [
    {
     "data": {
      "text/plain": [
       "['Women Running Shoes',\n",
       " 'Men Driving Shoes',\n",
       " 'Women Running Shoes',\n",
       " 'Women Running Shoes',\n",
       " 'Women Running Shoes',\n",
       " 'Men Running Shoes',\n",
       " 'Women Running Shoes',\n",
       " 'Women Running Shoes',\n",
       " 'Women Running Shoes',\n",
       " 'Men Driving Shoes',\n",
       " 'Women Running Shoes',\n",
       " 'Women Running Shoes',\n",
       " 'Men Driving Shoes',\n",
       " 'Men Driving Shoes',\n",
       " 'Women Walking Shoes',\n",
       " 'Men Walking Shoes',\n",
       " 'Men Running Shoes',\n",
       " 'Men Walking Shoes',\n",
       " 'Women Running Shoes',\n",
       " 'Men Driving Shoes',\n",
       " 'Women Boat Shoes',\n",
       " 'Women Sports Shoes',\n",
       " 'Men Colourblocked Driving Shoes',\n",
       " 'Women Running Shoes',\n",
       " 'Men Driving Shoes',\n",
       " 'Men Driving Shoes',\n",
       " 'Men Running Shoes',\n",
       " 'Women Running Shoes',\n",
       " 'Women Running Shoes',\n",
       " 'Women Walking Shoes',\n",
       " 'Men Driving Shoes',\n",
       " 'Men Running Shoes',\n",
       " 'Embellished Sandals',\n",
       " 'Men Running Shoes',\n",
       " 'Women Walking Shoes',\n",
       " 'Men Running Shoes',\n",
       " 'Men Running Shoes',\n",
       " 'Men Running Shoes',\n",
       " 'Women Driving Shoes',\n",
       " 'Men Running Shoes',\n",
       " 'Women Running Shoes',\n",
       " 'Women Running Shoes',\n",
       " 'Men Driving Shoes',\n",
       " 'Men Running Shoes',\n",
       " 'Women Running Shoes',\n",
       " 'Formal Shoes',\n",
       " 'Women Running Shoes',\n",
       " 'Men Walking Shoes',\n",
       " 'Men Walking Shoes',\n",
       " 'Women Walking Shoes']"
      ]
     },
     "execution_count": 321,
     "metadata": {},
     "output_type": "execute_result"
    }
   ],
   "source": [
    "desc_tags2"
   ]
  },
  {
   "cell_type": "code",
   "execution_count": 322,
   "id": "5d409b91",
   "metadata": {},
   "outputs": [
    {
     "data": {
      "text/plain": [
       "50"
      ]
     },
     "execution_count": 322,
     "metadata": {},
     "output_type": "execute_result"
    }
   ],
   "source": [
    "rate_tags2 = driver.find_elements(By.XPATH,'//div[@class=\"product-price\"]')\n",
    "len (rate_tags2)"
   ]
  },
  {
   "cell_type": "code",
   "execution_count": 323,
   "id": "bde2f75b",
   "metadata": {},
   "outputs": [
    {
     "data": {
      "text/plain": [
       "50"
      ]
     },
     "execution_count": 323,
     "metadata": {},
     "output_type": "execute_result"
    }
   ],
   "source": [
    "price_tags2= []\n",
    "for i in rate_tags2:\n",
    "    price_tags2.append(i.text)\n",
    "len (price_tags2)"
   ]
  },
  {
   "cell_type": "code",
   "execution_count": 329,
   "id": "7af0bace",
   "metadata": {},
   "outputs": [
    {
     "data": {
      "text/plain": [
       "['Rs. 794Rs. 1499(47% OFF)',\n",
       " 'Rs. 696Rs. 1548(55% OFF)',\n",
       " 'Rs. 908Rs. 2595(65% OFF)',\n",
       " 'Rs. 908Rs. 2595(65% OFF)',\n",
       " 'Rs. 799Rs. 3995(80% OFF)',\n",
       " 'Rs. 1478Rs. 3695(60% OFF)',\n",
       " 'Rs. 649Rs. 999(35% OFF)',\n",
       " 'Rs. 569Rs. 599(5% OFF)',\n",
       " 'Rs. 908Rs. 2595(65% OFF)',\n",
       " 'Rs. 1574Rs. 3499(55% OFF)',\n",
       " 'Rs. 799Rs. 3995(80% OFF)',\n",
       " 'Rs. 799Rs. 3995(80% OFF)',\n",
       " 'Rs. 851Rs. 1548(45% OFF)',\n",
       " 'Rs. 851Rs. 1548(45% OFF)',\n",
       " 'Rs. 749Rs. 999(25% OFF)',\n",
       " 'Rs. 798Rs. 3990(80% OFF)',\n",
       " 'Rs. 1749Rs. 1999(Rs. 250 OFF)',\n",
       " 'Rs. 744Rs. 3720(80% OFF)',\n",
       " 'Rs. 699Rs. 999(30% OFF)',\n",
       " 'Rs. 944Rs. 4499(79% OFF)',\n",
       " 'Rs. 1189Rs. 1699(30% OFF)',\n",
       " 'Rs. 13999',\n",
       " 'Rs. 696Rs. 1990(65% OFF)',\n",
       " 'Rs. 1099',\n",
       " 'Rs. 696Rs. 1548(55% OFF)',\n",
       " 'Rs. 851Rs. 1548(45% OFF)',\n",
       " 'Rs. 559Rs. 699(20% OFF)',\n",
       " 'Rs. 908Rs. 2595(65% OFF)',\n",
       " 'Rs. 838Rs. 3995(79% OFF)',\n",
       " 'Rs. 619Rs. 999(38% OFF)',\n",
       " 'Rs. 944Rs. 4499(79% OFF)',\n",
       " 'Rs. 986Rs. 1049(6% OFF)',\n",
       " 'Rs. 1977Rs. 4395(55% OFF)',\n",
       " 'Rs. 749Rs. 999(25% OFF)',\n",
       " 'Rs. 499Rs. 1499(Rs. 1000 OFF)',\n",
       " 'Rs. 609Rs. 999(39% OFF)',\n",
       " 'Rs. 1478Rs. 1699(13% OFF)',\n",
       " 'Rs. 4999',\n",
       " 'Rs. 579Rs. 999(42% OFF)',\n",
       " 'Rs. 4999',\n",
       " 'Rs. 908Rs. 2595(65% OFF)',\n",
       " 'Rs. 908Rs. 2595(65% OFF)',\n",
       " 'Rs. 851Rs. 1548(45% OFF)',\n",
       " 'Rs. 1119Rs. 1499(Rs. 380 OFF)',\n",
       " 'Rs. 799Rs. 3995(80% OFF)',\n",
       " 'Rs. 2249Rs. 4499(50% OFF)',\n",
       " 'Rs. 699Rs. 999(30% OFF)',\n",
       " 'Rs. 798Rs. 3990(80% OFF)',\n",
       " 'Rs. 798Rs. 3990(80% OFF)',\n",
       " 'Rs. 599Rs. 999(40% OFF)']"
      ]
     },
     "execution_count": 329,
     "metadata": {},
     "output_type": "execute_result"
    }
   ],
   "source": [
    "price_tags2"
   ]
  },
  {
   "cell_type": "code",
   "execution_count": 337,
   "id": "fdbf0e7e",
   "metadata": {},
   "outputs": [
    {
     "data": {
      "text/plain": [
       "(100, 100, 100)"
      ]
     },
     "execution_count": 337,
     "metadata": {},
     "output_type": "execute_result"
    }
   ],
   "source": [
    "len(brand_tags+brand_tags2 ),len(desc_tags+desc_tags2),len(price_tags+price_tags2)"
   ]
  },
  {
   "cell_type": "code",
   "execution_count": 338,
   "id": "f9935254",
   "metadata": {},
   "outputs": [
    {
     "data": {
      "text/html": [
       "<div>\n",
       "<style scoped>\n",
       "    .dataframe tbody tr th:only-of-type {\n",
       "        vertical-align: middle;\n",
       "    }\n",
       "\n",
       "    .dataframe tbody tr th {\n",
       "        vertical-align: top;\n",
       "    }\n",
       "\n",
       "    .dataframe thead th {\n",
       "        text-align: right;\n",
       "    }\n",
       "</style>\n",
       "<table border=\"1\" class=\"dataframe\">\n",
       "  <thead>\n",
       "    <tr style=\"text-align: right;\">\n",
       "      <th></th>\n",
       "      <th>Brand</th>\n",
       "      <th>Description</th>\n",
       "      <th>Price</th>\n",
       "    </tr>\n",
       "  </thead>\n",
       "  <tbody>\n",
       "    <tr>\n",
       "      <th>0</th>\n",
       "      <td>Puma</td>\n",
       "      <td>Men Lex Training Shoes</td>\n",
       "      <td>Rs. 4799Rs. 5999(20% OFF)</td>\n",
       "    </tr>\n",
       "    <tr>\n",
       "      <th>1</th>\n",
       "      <td>Campus</td>\n",
       "      <td>Men Running Shoes</td>\n",
       "      <td>Rs. 949Rs. 1049(Rs. 100 OFF)</td>\n",
       "    </tr>\n",
       "    <tr>\n",
       "      <th>2</th>\n",
       "      <td>Campus</td>\n",
       "      <td>Men Running Shoes</td>\n",
       "      <td>Rs. 899Rs. 1049(Rs. 150 OFF)</td>\n",
       "    </tr>\n",
       "    <tr>\n",
       "      <th>3</th>\n",
       "      <td>Campus</td>\n",
       "      <td>Men Running Shoes</td>\n",
       "      <td>Rs. 979Rs. 1049(Rs. 70 OFF)</td>\n",
       "    </tr>\n",
       "    <tr>\n",
       "      <th>4</th>\n",
       "      <td>Woodland</td>\n",
       "      <td>Casual Shoes</td>\n",
       "      <td>Rs. 3116Rs. 3895(20% OFF)</td>\n",
       "    </tr>\n",
       "    <tr>\n",
       "      <th>...</th>\n",
       "      <td>...</td>\n",
       "      <td>...</td>\n",
       "      <td>...</td>\n",
       "    </tr>\n",
       "    <tr>\n",
       "      <th>95</th>\n",
       "      <td>Red Chief</td>\n",
       "      <td>Formal Shoes</td>\n",
       "      <td>Rs. 2249Rs. 4499(50% OFF)</td>\n",
       "    </tr>\n",
       "    <tr>\n",
       "      <th>96</th>\n",
       "      <td>Denill</td>\n",
       "      <td>Women Running Shoes</td>\n",
       "      <td>Rs. 699Rs. 999(30% OFF)</td>\n",
       "    </tr>\n",
       "    <tr>\n",
       "      <th>97</th>\n",
       "      <td>Mactree</td>\n",
       "      <td>Men Walking Shoes</td>\n",
       "      <td>Rs. 798Rs. 3990(80% OFF)</td>\n",
       "    </tr>\n",
       "    <tr>\n",
       "      <th>98</th>\n",
       "      <td>Mactree</td>\n",
       "      <td>Men Walking Shoes</td>\n",
       "      <td>Rs. 798Rs. 3990(80% OFF)</td>\n",
       "    </tr>\n",
       "    <tr>\n",
       "      <th>99</th>\n",
       "      <td>ZAPATOZ</td>\n",
       "      <td>Women Walking Shoes</td>\n",
       "      <td>Rs. 599Rs. 999(40% OFF)</td>\n",
       "    </tr>\n",
       "  </tbody>\n",
       "</table>\n",
       "<p>100 rows × 3 columns</p>\n",
       "</div>"
      ],
      "text/plain": [
       "        Brand             Description                         Price\n",
       "0        Puma  Men Lex Training Shoes     Rs. 4799Rs. 5999(20% OFF)\n",
       "1      Campus       Men Running Shoes  Rs. 949Rs. 1049(Rs. 100 OFF)\n",
       "2      Campus       Men Running Shoes  Rs. 899Rs. 1049(Rs. 150 OFF)\n",
       "3      Campus       Men Running Shoes   Rs. 979Rs. 1049(Rs. 70 OFF)\n",
       "4    Woodland            Casual Shoes     Rs. 3116Rs. 3895(20% OFF)\n",
       "..        ...                     ...                           ...\n",
       "95  Red Chief            Formal Shoes     Rs. 2249Rs. 4499(50% OFF)\n",
       "96     Denill     Women Running Shoes       Rs. 699Rs. 999(30% OFF)\n",
       "97    Mactree       Men Walking Shoes      Rs. 798Rs. 3990(80% OFF)\n",
       "98    Mactree       Men Walking Shoes      Rs. 798Rs. 3990(80% OFF)\n",
       "99    ZAPATOZ     Women Walking Shoes       Rs. 599Rs. 999(40% OFF)\n",
       "\n",
       "[100 rows x 3 columns]"
      ]
     },
     "execution_count": 338,
     "metadata": {},
     "output_type": "execute_result"
    }
   ],
   "source": [
    "Shoes =  pd.DataFrame()\n",
    "Shoes[' Brand'] =brand_tags+brand_tags2 \n",
    "Shoes['Description'] =desc_tags+desc_tags2\n",
    "Shoes['Price'] =price_tags+price_tags2\n",
    "Shoes"
   ]
  },
  {
   "cell_type": "code",
   "execution_count": 365,
   "id": "f59524d1",
   "metadata": {},
   "outputs": [],
   "source": [
    "#Ques no 8\n",
    "import selenium\n",
    "from selenium import webdriver\n",
    "import pandas as pd\n",
    "import warnings\n",
    "warnings.filterwarnings('ignore')"
   ]
  },
  {
   "cell_type": "code",
   "execution_count": 366,
   "id": "ecf9d35f",
   "metadata": {},
   "outputs": [],
   "source": [
    "driver = webdriver.Chrome(r'C:\\Users\\BHAVYA OJHA\\OneDrive\\Documents\\Downloads\\chromedriver_win32 (2)\\chromedriver.exe')"
   ]
  },
  {
   "cell_type": "code",
   "execution_count": 367,
   "id": "535ad9da",
   "metadata": {},
   "outputs": [],
   "source": [
    "url='https://www.amazon.in/'\n",
    "driver.get(url)"
   ]
  },
  {
   "cell_type": "code",
   "execution_count": 368,
   "id": "4d5a65c5",
   "metadata": {},
   "outputs": [],
   "source": [
    "from selenium.webdriver.common.by import By"
   ]
  },
  {
   "cell_type": "code",
   "execution_count": 383,
   "id": "6b82186d",
   "metadata": {},
   "outputs": [
    {
     "data": {
      "text/plain": [
       "24"
      ]
     },
     "execution_count": 383,
     "metadata": {},
     "output_type": "execute_result"
    }
   ],
   "source": [
    "laptop_tags = driver.find_elements (By.XPATH,'//span[@class=\"a-size-medium a-color-base a-text-normal\"]')\n",
    "len (laptop_tags)"
   ]
  },
  {
   "cell_type": "code",
   "execution_count": 384,
   "id": "f674638c",
   "metadata": {},
   "outputs": [
    {
     "data": {
      "text/plain": [
       "24"
      ]
     },
     "execution_count": 384,
     "metadata": {},
     "output_type": "execute_result"
    }
   ],
   "source": [
    "title_tags = []\n",
    "for i in laptop_tags:\n",
    "    title_tags.append(i.text)\n",
    "len (title_tags)"
   ]
  },
  {
   "cell_type": "code",
   "execution_count": 385,
   "id": "de4a1bda",
   "metadata": {},
   "outputs": [
    {
     "data": {
      "text/plain": [
       "['Lenovo Ideapad 3 AMD Ryzen 5 5500U 15.6\" FHD Thin & Light Laptop (8GB/512GB SSD/Windows 11/Office 2021/Backlit Keyboard/2Yr Warranty/Arctic Grey/1.65Kg), 82KU017KIN',\n",
       " 'Lenovo IdeaPad 3 11th Gen Intel Core i3 15.6\" FHD Thin & Light Laptop(8GB/512GB SSD/Windows 11/Office 2021/2Yr Warranty/3months Xbox Game Pass/Platinum Grey/1.7Kg), 81X800LGIN',\n",
       " 'ASUS VivoBook 15 (2021), 15.6-inch (39.62 cm) HD, Dual Core Intel Celeron N4020, Thin and Light Laptop (4GB RAM/256GB SSD/Integrated Graphics/Windows 11 Home/Transparent Silver/1.8 Kg), X515MA-BR011W',\n",
       " 'Lenovo IdeaPad Slim 3 Intel Celeron N4020 15.6\" (39.62cm) HD Thin & Light Laptop (8GB/256GB SSD/Windows 11/Office 2021/2Yr Warranty/3months Game Pass/Platinum Grey/1.7Kg), 81WQ00MQIN',\n",
       " \"Dell New Inspiron 3525 Laptop, AMD Athlon Silver 3050U, Windows 11 + Office'21, 8Gb Gddr4, 256Gb Ssd, Radeon Graphics, 15.6 Inches (39.62Cms) Hd Anti Glare (D560766Win9Be, 1.68Kgs)\",\n",
       " 'HP Chromebook Intel Celeron N4120 35.6cm(14 inches) Micro-Edge, Touchscreen Laptop (4GB RAM/64GB eMMC/Chrome 64/UHD Graphics,1.49kg), 14a-ca0504TU',\n",
       " \"Lenovo IdeaPad Slim 1 Intel Celeron N4020 11.6'' (29.46cm) HD Thin & Light Laptop (4GB/256GB SSD/Windows 11/Office 2021/3months Game Pass/Platinum Grey/1.2Kg), 81VT009UIN\",\n",
       " 'Acer Aspire 3 AMD 3020e Dual core Processor 14 inches (35.5 cm) Laptop (4GB RAM/256GB SSD/Windows 11 Home/Black/1.9 Kg, A314-22)',\n",
       " 'HP NB 255 G8 Laptop (AMD Ryzen 3-3250U/8GB DDR4 Ram/1TB HDD/15.6 inch HD/Windows 11/AMD Radeon Vega 8 Graphics/Dark Ash Silver/1.74Kg) 64Q84PA#ACJ',\n",
       " 'ASUS VivoBook 14 (2021), 14-inch (35.56 cm) HD, Intel Core i3-1005G1 10th Gen, Thin and Light Laptop (8GB/1TB HDD/Windows 11/Integrated Graphics/Grey/1.6 kg), X415JA-BV301W',\n",
       " 'Acer Aspire 3 AMD 3020e Dual core Processor 14 inches (35.5 cm) HD Display Laptop (4GB DDR4 RAM / 1TB HDD / Windows 11 Home/ Black /Narrow Bezel / 1.9 Kg, A314-22)',\n",
       " 'Hp 15S 11Th Gen Intel Core I5 15.6 Inches Fhd Anti-Glare Display Laptop (8Gb Ram/512Gb Ssd Micro-Edge/Iris Xe Graphics/Backlit Keyboard/Windows 11 Home/Alexa/Dual Speakers/Mso, 15S- Fq4021Tu, 1.69Kg)',\n",
       " 'Hp 14S, 11Th Gen Intel Core I3, 8Gb Ram/512Gb Ssd 14 Inches (35.6 cm) Fhd,Micro-Edge, IPS Display/Alexa Built-in/Windows 11 Home/Backlit Keyboard/Uhd Graphics/Dual Speakers/Ms Office, 14S-Dq2606Tu',\n",
       " 'Lenovo Ideapad 3 AMD Ryzen 5 5500U 15.6\" FHD Thin & Light Laptop (8GB/512GB SSD/Windows 11/Office 2021/Backlit Keyboard/2Yr Warranty/Arctic Grey/1.65Kg), 82KU017KIN',\n",
       " 'ASUS TUF Gaming F15 (2021), 15.6\" (39.62 cms) FHD 144Hz, Intel Core i5-10300H 10th Gen, GTX 1650 4GB Graphics, Gaming Laptop (8GB RAM/512GB NVMe SSD/Windows 11/Black/2.30 Kg), FX506LH-HN258W',\n",
       " 'Lenovo IdeaPad Slim 3 Intel Core i3 11th Gen 14\" (35.56cm) FHD Thin & Light Laptop (8GB/256GB SDD/Windows 11/Office 2021/2Yr Warranty/3months Game Pass/Platinum Grey/1.5Kg), 81X700CWIN',\n",
       " 'Lenovo IdeaPad Slim 3 Intel Core i3 11th Gen 15.6\" (39.62cm) FHD Thin & Light Laptop (8GB/512GB SSD/Windows 11/Office 2021/2Yr Warranty/3months Game Pass/Arctic Grey/1.65Kg), 82H802FJIN',\n",
       " 'Lenovo IdeaPad Slim 3 Intel Core i3 10th Gen 15.6\" (39.62cm) HD Thin & Light Laptop (8GB/512GB SSD/Windows 11/Office 2021/2Yr Warranty/3months Game Pass/Platinum Grey/1.85Kg), 81WE01QLIN',\n",
       " 'HP 14s, 5th Gen AMD Ryzen 3- 8GB RAM/512GB SSD 14 inches Laptop, FHD IPS Micro-Edge Display/ Backlit Keyboard/Alexa/Windows 11/Fast Charge/Radeon Graphics/1.46Kg/Natural Silver) -14s-fq1089AU',\n",
       " 'Fujitsu CH Intel Evo Core i5 11th Gen 13.3” FHD OLED 400Nits Thin & Light Laptop(16GB/512GB SSD/Windows 11/Office 2021/Iris Xe Graphics/Backlit/2Yr Warranty/Dark Grey/1.1Kg),4ZR1H03552',\n",
       " 'HP 14s, AMD Ryzen 5-5500U 14 inch( 35.6 cm) FHD, IPS, Micro-Edge Display Laptop (8GB RAM/512GB SSD /Radeon Graphics/Windows 11/Alexa/Backlit Keyboard/MS Office/1.46kg, 14s-fq1092au)',\n",
       " 'Fujitsu UH-X 11th Gen Intel Core i5 13.3” FHD IPS 400Nits Thin & Light Laptop(16GB/512GB SSD/Windows 11/Office 2021/Iris Xe Graphics/Backlit Kb/Fingerprint Reader/2Yr Warranty/Black/878gms),4ZR1F38022',\n",
       " 'HP Chromebook 14 Intel Celeron N4020-4GB SDRAM/64GB eMMC + 256GB Expandable Storage 14inch(35.6 cm) Thin & Light Touchscreen Laptop (Chrome OS/B&O/Google Assistant/BL Keyboard/1.46 kg),14a-na0003TU',\n",
       " 'MSI Gaming Katana GF66, Intel 12th Gen. i7-12700H, 15.6\" FHD 144Hz Gaming Laptop (16GB/1TB NVMe SSD/Windows 11 Home/Nvidia RTX 3060 6GB GDDR 6/ Black/2.25Kg), 12UE-262IN']"
      ]
     },
     "execution_count": 385,
     "metadata": {},
     "output_type": "execute_result"
    }
   ],
   "source": [
    "title_tags "
   ]
  },
  {
   "cell_type": "code",
   "execution_count": 387,
   "id": "5d4b748f",
   "metadata": {},
   "outputs": [
    {
     "data": {
      "text/plain": [
       "3"
      ]
     },
     "execution_count": 387,
     "metadata": {},
     "output_type": "execute_result"
    }
   ],
   "source": [
    "laptop_tags2 = driver.find_elements (By.XPATH,'//div[@class=\"a-section a-spacing-none a-spacing-top-small s-title-instructions-style\"]')\n",
    "len (laptop_tags2)"
   ]
  },
  {
   "cell_type": "code",
   "execution_count": 388,
   "id": "afd281b2",
   "metadata": {},
   "outputs": [
    {
     "data": {
      "text/plain": [
       "3"
      ]
     },
     "execution_count": 388,
     "metadata": {},
     "output_type": "execute_result"
    }
   ],
   "source": [
    "title_tags2 = []\n",
    "for i in laptop_tags2:\n",
    "    title_tags2.append(i.text)\n",
    "len (title_tags2)"
   ]
  },
  {
   "cell_type": "code",
   "execution_count": 389,
   "id": "87051570",
   "metadata": {},
   "outputs": [
    {
     "data": {
      "text/plain": [
       "['Lenovo IdeaPad Slim 5i 11th Gen Intel Core i5 15.6\" FHD IPS Thin, Light Laptop (8GB/1TB HDD+256GB SSD/Windows10/Office19/MX450 2GB GDDR6/Fingerprint/Graphite Grey/Aluminium Surface/1.66Kg) 82FG00BPIN',\n",
       " 'Dell Inspiron 3593 Intel 10th Gen Ci5-1035G1 15.6 Inches Laptop (8GB/1TB HDD + 256GB SSD/Windows 10 Home /NVIDIA 2GBMX 230 Graphics, Platinum Silver)',\n",
       " '']"
      ]
     },
     "execution_count": 389,
     "metadata": {},
     "output_type": "execute_result"
    }
   ],
   "source": [
    "title_tags2"
   ]
  },
  {
   "cell_type": "code",
   "execution_count": 352,
   "id": "735b20d8",
   "metadata": {},
   "outputs": [
    {
     "data": {
      "text/plain": [
       "27"
      ]
     },
     "execution_count": 352,
     "metadata": {},
     "output_type": "execute_result"
    }
   ],
   "source": [
    "rate_tags = driver.find_elements(By.XPATH,'//span[@class=\"a-price-whole\"]')\n",
    "len(rate_tags)"
   ]
  },
  {
   "cell_type": "code",
   "execution_count": 353,
   "id": "6027ecda",
   "metadata": {},
   "outputs": [
    {
     "data": {
      "text/plain": [
       "27"
      ]
     },
     "execution_count": 353,
     "metadata": {},
     "output_type": "execute_result"
    }
   ],
   "source": [
    "price_tags  = []\n",
    "for i in rate_tags :\n",
    "    price_tags.append(i.text)\n",
    "len (price_tags )"
   ]
  },
  {
   "cell_type": "code",
   "execution_count": 354,
   "id": "bb2e4ea0",
   "metadata": {},
   "outputs": [
    {
     "data": {
      "text/plain": [
       "['46,030',\n",
       " '36,990',\n",
       " '25,990',\n",
       " '2,24,754',\n",
       " '28,980',\n",
       " '25,253',\n",
       " '69,900',\n",
       " '71,300',\n",
       " '',\n",
       " '29,490',\n",
       " '22,990',\n",
       " '24,990',\n",
       " '31,650',\n",
       " '29,488',\n",
       " '28,990',\n",
       " '28,899',\n",
       " '57,999',\n",
       " '52,950',\n",
       " '47,034',\n",
       " '41,990',\n",
       " '57,990',\n",
       " '38,990',\n",
       " '69,990',\n",
       " '47,034',\n",
       " '74,990',\n",
       " '27,500',\n",
       " '84,990']"
      ]
     },
     "execution_count": 354,
     "metadata": {},
     "output_type": "execute_result"
    }
   ],
   "source": [
    "price_tags "
   ]
  },
  {
   "cell_type": "code",
   "execution_count": 390,
   "id": "eadd292a",
   "metadata": {},
   "outputs": [
    {
     "data": {
      "text/plain": [
       "27"
      ]
     },
     "execution_count": 390,
     "metadata": {},
     "output_type": "execute_result"
    }
   ],
   "source": [
    "star_tags = driver.find_elements(By.XPATH,'//span[@class=\"a-size-base s-underline-text\"]')\n",
    "len(star_tags)"
   ]
  },
  {
   "cell_type": "code",
   "execution_count": 356,
   "id": "e9e87f9c",
   "metadata": {},
   "outputs": [
    {
     "data": {
      "text/plain": [
       "27"
      ]
     },
     "execution_count": 356,
     "metadata": {},
     "output_type": "execute_result"
    }
   ],
   "source": [
    "rating_tags  = []\n",
    "for i in star_tags:\n",
    "    rating_tags  .append(i.text)\n",
    "len (rating_tags )"
   ]
  },
  {
   "cell_type": "code",
   "execution_count": 391,
   "id": "c7810bbf",
   "metadata": {},
   "outputs": [
    {
     "data": {
      "text/plain": [
       "['689',\n",
       " '287',\n",
       " '1,413',\n",
       " '33',\n",
       " '16',\n",
       " '12',\n",
       " '280',\n",
       " '167',\n",
       " '',\n",
       " '164',\n",
       " '123',\n",
       " '396',\n",
       " '168',\n",
       " '18',\n",
       " '111',\n",
       " '117',\n",
       " '1,353',\n",
       " '297',\n",
       " '724',\n",
       " '131',\n",
       " '278',\n",
       " '3,628',\n",
       " '10',\n",
       " '724',\n",
       " '90',\n",
       " '1,218',\n",
       " '85']"
      ]
     },
     "execution_count": 391,
     "metadata": {},
     "output_type": "execute_result"
    }
   ],
   "source": [
    "rating_tags\n"
   ]
  },
  {
   "cell_type": "code",
   "execution_count": 392,
   "id": "b62aa842",
   "metadata": {},
   "outputs": [
    {
     "data": {
      "text/plain": [
       "(27, 27, 27)"
      ]
     },
     "execution_count": 392,
     "metadata": {},
     "output_type": "execute_result"
    }
   ],
   "source": [
    "len(title_tags+ title_tags2),len(price_tags ),len(rating_tags)"
   ]
  },
  {
   "cell_type": "code",
   "execution_count": 393,
   "id": "4430195d",
   "metadata": {},
   "outputs": [
    {
     "data": {
      "text/html": [
       "<div>\n",
       "<style scoped>\n",
       "    .dataframe tbody tr th:only-of-type {\n",
       "        vertical-align: middle;\n",
       "    }\n",
       "\n",
       "    .dataframe tbody tr th {\n",
       "        vertical-align: top;\n",
       "    }\n",
       "\n",
       "    .dataframe thead th {\n",
       "        text-align: right;\n",
       "    }\n",
       "</style>\n",
       "<table border=\"1\" class=\"dataframe\">\n",
       "  <thead>\n",
       "    <tr style=\"text-align: right;\">\n",
       "      <th></th>\n",
       "      <th>Title</th>\n",
       "      <th>Price</th>\n",
       "      <th>Ratings</th>\n",
       "    </tr>\n",
       "  </thead>\n",
       "  <tbody>\n",
       "    <tr>\n",
       "      <th>0</th>\n",
       "      <td>Lenovo Ideapad 3 AMD Ryzen 5 5500U 15.6\" FHD T...</td>\n",
       "      <td>46,030</td>\n",
       "      <td>689</td>\n",
       "    </tr>\n",
       "    <tr>\n",
       "      <th>1</th>\n",
       "      <td>Lenovo IdeaPad 3 11th Gen Intel Core i3 15.6\" ...</td>\n",
       "      <td>36,990</td>\n",
       "      <td>287</td>\n",
       "    </tr>\n",
       "    <tr>\n",
       "      <th>2</th>\n",
       "      <td>ASUS VivoBook 15 (2021), 15.6-inch (39.62 cm) ...</td>\n",
       "      <td>25,990</td>\n",
       "      <td>1,413</td>\n",
       "    </tr>\n",
       "    <tr>\n",
       "      <th>3</th>\n",
       "      <td>Lenovo IdeaPad Slim 3 Intel Celeron N4020 15.6...</td>\n",
       "      <td>2,24,754</td>\n",
       "      <td>33</td>\n",
       "    </tr>\n",
       "    <tr>\n",
       "      <th>4</th>\n",
       "      <td>Dell New Inspiron 3525 Laptop, AMD Athlon Silv...</td>\n",
       "      <td>28,980</td>\n",
       "      <td>16</td>\n",
       "    </tr>\n",
       "    <tr>\n",
       "      <th>5</th>\n",
       "      <td>HP Chromebook Intel Celeron N4120 35.6cm(14 in...</td>\n",
       "      <td>25,253</td>\n",
       "      <td>12</td>\n",
       "    </tr>\n",
       "    <tr>\n",
       "      <th>6</th>\n",
       "      <td>Lenovo IdeaPad Slim 1 Intel Celeron N4020 11.6...</td>\n",
       "      <td>69,900</td>\n",
       "      <td>280</td>\n",
       "    </tr>\n",
       "    <tr>\n",
       "      <th>7</th>\n",
       "      <td>Acer Aspire 3 AMD 3020e Dual core Processor 14...</td>\n",
       "      <td>71,300</td>\n",
       "      <td>167</td>\n",
       "    </tr>\n",
       "    <tr>\n",
       "      <th>8</th>\n",
       "      <td>HP NB 255 G8 Laptop (AMD Ryzen 3-3250U/8GB DDR...</td>\n",
       "      <td></td>\n",
       "      <td></td>\n",
       "    </tr>\n",
       "    <tr>\n",
       "      <th>9</th>\n",
       "      <td>ASUS VivoBook 14 (2021), 14-inch (35.56 cm) HD...</td>\n",
       "      <td>29,490</td>\n",
       "      <td>164</td>\n",
       "    </tr>\n",
       "  </tbody>\n",
       "</table>\n",
       "</div>"
      ],
      "text/plain": [
       "                                               Title     Price Ratings\n",
       "0  Lenovo Ideapad 3 AMD Ryzen 5 5500U 15.6\" FHD T...    46,030     689\n",
       "1  Lenovo IdeaPad 3 11th Gen Intel Core i3 15.6\" ...    36,990     287\n",
       "2  ASUS VivoBook 15 (2021), 15.6-inch (39.62 cm) ...    25,990   1,413\n",
       "3  Lenovo IdeaPad Slim 3 Intel Celeron N4020 15.6...  2,24,754      33\n",
       "4  Dell New Inspiron 3525 Laptop, AMD Athlon Silv...    28,980      16\n",
       "5  HP Chromebook Intel Celeron N4120 35.6cm(14 in...    25,253      12\n",
       "6  Lenovo IdeaPad Slim 1 Intel Celeron N4020 11.6...    69,900     280\n",
       "7  Acer Aspire 3 AMD 3020e Dual core Processor 14...    71,300     167\n",
       "8  HP NB 255 G8 Laptop (AMD Ryzen 3-3250U/8GB DDR...                  \n",
       "9  ASUS VivoBook 14 (2021), 14-inch (35.56 cm) HD...    29,490     164"
      ]
     },
     "execution_count": 393,
     "metadata": {},
     "output_type": "execute_result"
    }
   ],
   "source": [
    "laptops =  pd.DataFrame()\n",
    "laptops[' Title'] =title_tags+title_tags2\n",
    "laptops['Price'] =price_tags\n",
    "laptops['Ratings'] =rating_tags\n",
    "laptops[:10]"
   ]
  },
  {
   "cell_type": "code",
   "execution_count": 394,
   "id": "e1aa60d1",
   "metadata": {},
   "outputs": [],
   "source": [
    "#QUES NO 10 \n",
    "import selenium\n",
    "from selenium import webdriver\n",
    "import pandas as pd\n",
    "import warnings\n",
    "warnings.filterwarnings('ignore')"
   ]
  },
  {
   "cell_type": "code",
   "execution_count": 417,
   "id": "bdcdabed",
   "metadata": {},
   "outputs": [],
   "source": [
    "driver = webdriver.Chrome(r'C:\\Users\\BHAVYA OJHA\\OneDrive\\Documents\\Downloads\\chromedriver_win32 (2)\\chromedriver.exe')"
   ]
  },
  {
   "cell_type": "code",
   "execution_count": 418,
   "id": "5b85dbe9",
   "metadata": {},
   "outputs": [],
   "source": [
    "url='https://www.ambitionbox.com/'\n",
    "driver.get(url)"
   ]
  },
  {
   "cell_type": "code",
   "execution_count": 419,
   "id": "3b07b910",
   "metadata": {},
   "outputs": [],
   "source": [
    "from selenium.webdriver.common.by import By"
   ]
  },
  {
   "cell_type": "code",
   "execution_count": 420,
   "id": "b407d078",
   "metadata": {},
   "outputs": [
    {
     "data": {
      "text/plain": [
       "10"
      ]
     },
     "execution_count": 420,
     "metadata": {},
     "output_type": "execute_result"
    }
   ],
   "source": [
    "name_tags = driver.find_elements (By.XPATH,'//span[@class=\"jp\"]')\n",
    "len (name_tags)"
   ]
  },
  {
   "cell_type": "code",
   "execution_count": 421,
   "id": "04eca269",
   "metadata": {},
   "outputs": [
    {
     "data": {
      "text/plain": [
       "10"
      ]
     },
     "execution_count": 421,
     "metadata": {},
     "output_type": "execute_result"
    }
   ],
   "source": [
    "name_title = []\n",
    "for i in name_tags:\n",
    "    name_title.append(i.text)\n",
    "len (name_title)"
   ]
  },
  {
   "cell_type": "code",
   "execution_count": 422,
   "id": "def83cd3",
   "metadata": {},
   "outputs": [
    {
     "data": {
      "text/plain": [
       "['Data Scientist Salary',\n",
       " 'Data Scientist Salary',\n",
       " 'Data Scientist Salary',\n",
       " 'Data Scientist Salary',\n",
       " 'Data Scientist Salary',\n",
       " 'Data Scientist Salary',\n",
       " 'Data Scientist Salary',\n",
       " 'Data Scientist Salary',\n",
       " 'Data Scientist Salary',\n",
       " 'Data Scientist Salary']"
      ]
     },
     "execution_count": 422,
     "metadata": {},
     "output_type": "execute_result"
    }
   ],
   "source": [
    "name_title\n"
   ]
  },
  {
   "cell_type": "code",
   "execution_count": 423,
   "id": "e4f56a31",
   "metadata": {},
   "outputs": [
    {
     "data": {
      "text/plain": [
       "10"
      ]
     },
     "execution_count": 423,
     "metadata": {},
     "output_type": "execute_result"
    }
   ],
   "source": [
    "avg_tags = driver.find_elements (By.XPATH,'//p[@class=\"averageCtc\"]')\n",
    "len (avg_tags)"
   ]
  },
  {
   "cell_type": "code",
   "execution_count": 424,
   "id": "799054a5",
   "metadata": {},
   "outputs": [
    {
     "data": {
      "text/plain": [
       "10"
      ]
     },
     "execution_count": 424,
     "metadata": {},
     "output_type": "execute_result"
    }
   ],
   "source": [
    "avg_sal = []\n",
    "for i in avg_tags:\n",
    "    avg_sal.append(i.text)\n",
    "len (avg_sal)"
   ]
  },
  {
   "cell_type": "code",
   "execution_count": 425,
   "id": "f5e19909",
   "metadata": {},
   "outputs": [
    {
     "data": {
      "text/plain": [
       "['₹ 30.6L',\n",
       " '₹ 20.8L',\n",
       " '₹ 16.7L',\n",
       " '₹ 15.9L',\n",
       " '₹ 15.7L',\n",
       " '₹ 15.5L',\n",
       " '₹ 14.8L',\n",
       " '₹ 14.0L',\n",
       " '₹ 13.2L',\n",
       " '₹ 12.8L']"
      ]
     },
     "execution_count": 425,
     "metadata": {},
     "output_type": "execute_result"
    }
   ],
   "source": [
    "avg_sal"
   ]
  },
  {
   "cell_type": "code",
   "execution_count": 426,
   "id": "edc1b2c5",
   "metadata": {},
   "outputs": [
    {
     "data": {
      "text/plain": [
       "10"
      ]
     },
     "execution_count": 426,
     "metadata": {},
     "output_type": "execute_result"
    }
   ],
   "source": [
    "min_tags = driver.find_elements (By.XPATH,'//div[@class=\"salary-values\"]')\n",
    "len (min_tags)"
   ]
  },
  {
   "cell_type": "code",
   "execution_count": 427,
   "id": "987bd854",
   "metadata": {},
   "outputs": [
    {
     "data": {
      "text/plain": [
       "10"
      ]
     },
     "execution_count": 427,
     "metadata": {},
     "output_type": "execute_result"
    }
   ],
   "source": [
    "sal_tags = []\n",
    "for i in min_tags:\n",
    "    sal_tags.append(i.text)\n",
    "len (sal_tags)"
   ]
  },
  {
   "cell_type": "code",
   "execution_count": 428,
   "id": "22c43f04",
   "metadata": {},
   "outputs": [
    {
     "data": {
      "text/plain": [
       "['₹ 25.0L\\n₹ 36.0L',\n",
       " '₹ 15.0L\\n₹ 26.2L',\n",
       " '₹ 11.0L\\n₹ 22.0L',\n",
       " '₹ 11.0L\\n₹ 22.5L',\n",
       " '₹ 5.6L\\n₹ 26.2L',\n",
       " '₹ 10.0L\\n₹ 23.0L',\n",
       " '₹ 9.0L\\n₹ 20.0L',\n",
       " '₹ 8.3L\\n₹ 21.1L',\n",
       " '₹ 7.6L\\n₹ 21.0L',\n",
       " '₹ 7.0L\\n₹ 25.0L']"
      ]
     },
     "execution_count": 428,
     "metadata": {},
     "output_type": "execute_result"
    }
   ],
   "source": [
    "sal_tags "
   ]
  },
  {
   "cell_type": "code",
   "execution_count": 429,
   "id": "d685d7aa",
   "metadata": {},
   "outputs": [
    {
     "data": {
      "text/plain": [
       "10"
      ]
     },
     "execution_count": 429,
     "metadata": {},
     "output_type": "execute_result"
    }
   ],
   "source": [
    "data_tags = driver.find_elements (By.XPATH,'//span[@class=\"datapoints\"]')\n",
    "len (data_tags)"
   ]
  },
  {
   "cell_type": "code",
   "execution_count": 430,
   "id": "f1e8826e",
   "metadata": {},
   "outputs": [
    {
     "data": {
      "text/plain": [
       "10"
      ]
     },
     "execution_count": 430,
     "metadata": {},
     "output_type": "execute_result"
    }
   ],
   "source": [
    "record_tags = []\n",
    "for i in data_tags:\n",
    "    record_tags.append(i.text)\n",
    "len (record_tags)"
   ]
  },
  {
   "cell_type": "code",
   "execution_count": 431,
   "id": "2b29352b",
   "metadata": {},
   "outputs": [
    {
     "data": {
      "text/plain": [
       "['(based on 12 salaries)',\n",
       " '(based on 33 salaries)',\n",
       " '(based on 15 salaries)',\n",
       " '(based on 32 salaries)',\n",
       " '(based on 21 salaries)',\n",
       " '(based on 89 salaries)',\n",
       " '(based on 51 salaries)',\n",
       " '(based on 57 salaries)',\n",
       " '(based on 21 salaries)',\n",
       " '(based on 69 salaries)']"
      ]
     },
     "execution_count": 431,
     "metadata": {},
     "output_type": "execute_result"
    }
   ],
   "source": [
    "record_tags"
   ]
  },
  {
   "cell_type": "code",
   "execution_count": 432,
   "id": "93038ca1",
   "metadata": {},
   "outputs": [
    {
     "data": {
      "text/plain": [
       "(10, 10, 10, 10)"
      ]
     },
     "execution_count": 432,
     "metadata": {},
     "output_type": "execute_result"
    }
   ],
   "source": [
    "len(name_title),len(avg_sal),len(sal_tags),len(record_tags)"
   ]
  },
  {
   "cell_type": "code",
   "execution_count": 433,
   "id": "2855f0b4",
   "metadata": {},
   "outputs": [
    {
     "data": {
      "text/html": [
       "<div>\n",
       "<style scoped>\n",
       "    .dataframe tbody tr th:only-of-type {\n",
       "        vertical-align: middle;\n",
       "    }\n",
       "\n",
       "    .dataframe tbody tr th {\n",
       "        vertical-align: top;\n",
       "    }\n",
       "\n",
       "    .dataframe thead th {\n",
       "        text-align: right;\n",
       "    }\n",
       "</style>\n",
       "<table border=\"1\" class=\"dataframe\">\n",
       "  <thead>\n",
       "    <tr style=\"text-align: right;\">\n",
       "      <th></th>\n",
       "      <th>company name,</th>\n",
       "      <th>Average salary</th>\n",
       "      <th>Salary</th>\n",
       "      <th>Total records</th>\n",
       "    </tr>\n",
       "  </thead>\n",
       "  <tbody>\n",
       "    <tr>\n",
       "      <th>0</th>\n",
       "      <td>Data Scientist Salary</td>\n",
       "      <td>₹ 30.6L</td>\n",
       "      <td>₹ 25.0L\\n₹ 36.0L</td>\n",
       "      <td>(based on 12 salaries)</td>\n",
       "    </tr>\n",
       "    <tr>\n",
       "      <th>1</th>\n",
       "      <td>Data Scientist Salary</td>\n",
       "      <td>₹ 20.8L</td>\n",
       "      <td>₹ 15.0L\\n₹ 26.2L</td>\n",
       "      <td>(based on 33 salaries)</td>\n",
       "    </tr>\n",
       "    <tr>\n",
       "      <th>2</th>\n",
       "      <td>Data Scientist Salary</td>\n",
       "      <td>₹ 16.7L</td>\n",
       "      <td>₹ 11.0L\\n₹ 22.0L</td>\n",
       "      <td>(based on 15 salaries)</td>\n",
       "    </tr>\n",
       "    <tr>\n",
       "      <th>3</th>\n",
       "      <td>Data Scientist Salary</td>\n",
       "      <td>₹ 15.9L</td>\n",
       "      <td>₹ 11.0L\\n₹ 22.5L</td>\n",
       "      <td>(based on 32 salaries)</td>\n",
       "    </tr>\n",
       "    <tr>\n",
       "      <th>4</th>\n",
       "      <td>Data Scientist Salary</td>\n",
       "      <td>₹ 15.7L</td>\n",
       "      <td>₹ 5.6L\\n₹ 26.2L</td>\n",
       "      <td>(based on 21 salaries)</td>\n",
       "    </tr>\n",
       "    <tr>\n",
       "      <th>5</th>\n",
       "      <td>Data Scientist Salary</td>\n",
       "      <td>₹ 15.5L</td>\n",
       "      <td>₹ 10.0L\\n₹ 23.0L</td>\n",
       "      <td>(based on 89 salaries)</td>\n",
       "    </tr>\n",
       "    <tr>\n",
       "      <th>6</th>\n",
       "      <td>Data Scientist Salary</td>\n",
       "      <td>₹ 14.8L</td>\n",
       "      <td>₹ 9.0L\\n₹ 20.0L</td>\n",
       "      <td>(based on 51 salaries)</td>\n",
       "    </tr>\n",
       "    <tr>\n",
       "      <th>7</th>\n",
       "      <td>Data Scientist Salary</td>\n",
       "      <td>₹ 14.0L</td>\n",
       "      <td>₹ 8.3L\\n₹ 21.1L</td>\n",
       "      <td>(based on 57 salaries)</td>\n",
       "    </tr>\n",
       "    <tr>\n",
       "      <th>8</th>\n",
       "      <td>Data Scientist Salary</td>\n",
       "      <td>₹ 13.2L</td>\n",
       "      <td>₹ 7.6L\\n₹ 21.0L</td>\n",
       "      <td>(based on 21 salaries)</td>\n",
       "    </tr>\n",
       "    <tr>\n",
       "      <th>9</th>\n",
       "      <td>Data Scientist Salary</td>\n",
       "      <td>₹ 12.8L</td>\n",
       "      <td>₹ 7.0L\\n₹ 25.0L</td>\n",
       "      <td>(based on 69 salaries)</td>\n",
       "    </tr>\n",
       "  </tbody>\n",
       "</table>\n",
       "</div>"
      ],
      "text/plain": [
       "           company name, Average salary            Salary  \\\n",
       "0  Data Scientist Salary        ₹ 30.6L  ₹ 25.0L\\n₹ 36.0L   \n",
       "1  Data Scientist Salary        ₹ 20.8L  ₹ 15.0L\\n₹ 26.2L   \n",
       "2  Data Scientist Salary        ₹ 16.7L  ₹ 11.0L\\n₹ 22.0L   \n",
       "3  Data Scientist Salary        ₹ 15.9L  ₹ 11.0L\\n₹ 22.5L   \n",
       "4  Data Scientist Salary        ₹ 15.7L   ₹ 5.6L\\n₹ 26.2L   \n",
       "5  Data Scientist Salary        ₹ 15.5L  ₹ 10.0L\\n₹ 23.0L   \n",
       "6  Data Scientist Salary        ₹ 14.8L   ₹ 9.0L\\n₹ 20.0L   \n",
       "7  Data Scientist Salary        ₹ 14.0L   ₹ 8.3L\\n₹ 21.1L   \n",
       "8  Data Scientist Salary        ₹ 13.2L   ₹ 7.6L\\n₹ 21.0L   \n",
       "9  Data Scientist Salary        ₹ 12.8L   ₹ 7.0L\\n₹ 25.0L   \n",
       "\n",
       "            Total records  \n",
       "0  (based on 12 salaries)  \n",
       "1  (based on 33 salaries)  \n",
       "2  (based on 15 salaries)  \n",
       "3  (based on 32 salaries)  \n",
       "4  (based on 21 salaries)  \n",
       "5  (based on 89 salaries)  \n",
       "6  (based on 51 salaries)  \n",
       "7  (based on 57 salaries)  \n",
       "8  (based on 21 salaries)  \n",
       "9  (based on 69 salaries)  "
      ]
     },
     "execution_count": 433,
     "metadata": {},
     "output_type": "execute_result"
    }
   ],
   "source": [
    "data =  pd.DataFrame()\n",
    "data['company name,'] =name_title\n",
    "data['Average salary'] =avg_sal\n",
    "data['Salary'] =sal_tags\n",
    "data['Total records'] = record_tags\n",
    "data"
   ]
  },
  {
   "cell_type": "code",
   "execution_count": 489,
   "id": "1422f49e",
   "metadata": {},
   "outputs": [],
   "source": [
    "#QUES NO 09\n",
    "import selenium\n",
    "from selenium import webdriver\n",
    "import pandas as pd\n",
    "import warnings\n",
    "warnings.filterwarnings('ignore')"
   ]
  },
  {
   "cell_type": "code",
   "execution_count": 490,
   "id": "59163bca",
   "metadata": {},
   "outputs": [],
   "source": [
    "driver = webdriver.Chrome(r'C:\\Users\\BHAVYA OJHA\\OneDrive\\Documents\\Downloads\\chromedriver_win32 (2)\\chromedriver.exe')"
   ]
  },
  {
   "cell_type": "code",
   "execution_count": 491,
   "id": "eb44c7b0",
   "metadata": {},
   "outputs": [],
   "source": [
    "url='https://www.ambitionbox.com/'\n",
    "driver.get(url)"
   ]
  },
  {
   "cell_type": "code",
   "execution_count": 492,
   "id": "f7b07d40",
   "metadata": {},
   "outputs": [],
   "source": [
    "from selenium.webdriver.common.by import By"
   ]
  },
  {
   "cell_type": "code",
   "execution_count": 493,
   "id": "1076f6e1",
   "metadata": {},
   "outputs": [
    {
     "data": {
      "text/plain": [
       "<selenium.webdriver.remote.webelement.WebElement (session=\"679000c4f7bae1521c0ccf6e0efa87e9\", element=\"a6f52e18-fd8b-4e5e-af00-4bebe0c4b002\")>"
      ]
     },
     "execution_count": 493,
     "metadata": {},
     "output_type": "execute_result"
    }
   ],
   "source": [
    "search_jobs = driver.find_element(By.XPATH,'/html/body/section[1]/div/div[2]/form/span/input')\n",
    "search_jobs"
   ]
  },
  {
   "cell_type": "code",
   "execution_count": 494,
   "id": "b6589643",
   "metadata": {},
   "outputs": [],
   "source": [
    "search_jobs.send_keys('Data Scientist')\n"
   ]
  },
  {
   "cell_type": "code",
   "execution_count": 495,
   "id": "3c77f92a",
   "metadata": {},
   "outputs": [
    {
     "data": {
      "text/plain": [
       "<selenium.webdriver.remote.webelement.WebElement (session=\"679000c4f7bae1521c0ccf6e0efa87e9\", element=\"ccb77eea-dd0f-4b69-bdba-11dde2ab5fed\")>"
      ]
     },
     "execution_count": 495,
     "metadata": {},
     "output_type": "execute_result"
    }
   ],
   "source": [
    "search_btn= driver.find_element (By.XPATH,'/html/body/section[1]/div/div[2]/form/div[2]/input')\n",
    "search_btn"
   ]
  },
  {
   "cell_type": "code",
   "execution_count": 496,
   "id": "5a4e85f5",
   "metadata": {},
   "outputs": [],
   "source": [
    "search_btn.click()"
   ]
  },
  {
   "cell_type": "code",
   "execution_count": 499,
   "id": "e988d3dd",
   "metadata": {},
   "outputs": [
    {
     "data": {
      "text/plain": [
       "<selenium.webdriver.remote.webelement.WebElement (session=\"679000c4f7bae1521c0ccf6e0efa87e9\", element=\"687dbec9-1c8c-46d9-8eb2-bf6a4dfe1e6b\")>"
      ]
     },
     "execution_count": 499,
     "metadata": {},
     "output_type": "execute_result"
    }
   ],
   "source": [
    "search_locn= driver.find_element(By.XPATH,'/html/body/div/div/div/div[2]/div[3]/div[1]/div/div/div/div[5]/div[2]/div/div[2]/input')\n",
    "search_locn"
   ]
  },
  {
   "cell_type": "code",
   "execution_count": 500,
   "id": "cdb1e770",
   "metadata": {},
   "outputs": [],
   "source": [
    "search_locn.send_keys(' Noida')"
   ]
  },
  {
   "cell_type": "code",
   "execution_count": 504,
   "id": "38c90f40",
   "metadata": {},
   "outputs": [
    {
     "data": {
      "text/plain": [
       "10"
      ]
     },
     "execution_count": 504,
     "metadata": {},
     "output_type": "execute_result"
    }
   ],
   "source": [
    "title_tags = driver.find_elements (By.XPATH,'//div[@class=\"name\"]')\n",
    "len (title_tags)"
   ]
  },
  {
   "cell_type": "code",
   "execution_count": 505,
   "id": "f38c9ee1",
   "metadata": {},
   "outputs": [
    {
     "data": {
      "text/plain": [
       "10"
      ]
     },
     "execution_count": 505,
     "metadata": {},
     "output_type": "execute_result"
    }
   ],
   "source": [
    "name_titles = []\n",
    "for i in title_tags:\n",
    "    name_titles.append(i.text)\n",
    "len (name_titles)"
   ]
  },
  {
   "cell_type": "code",
   "execution_count": 506,
   "id": "a2ed0129",
   "metadata": {},
   "outputs": [
    {
     "data": {
      "text/plain": [
       "['TCS\\nData Scientist Salary',\n",
       " 'Accenture\\nData Scientist Salary',\n",
       " 'IBM\\nData Scientist Salary',\n",
       " 'Cognizant\\nData Scientist Salary',\n",
       " 'Capgemini\\nData Scientist Salary',\n",
       " 'Infosys\\nData Scientist Salary',\n",
       " 'Wipro\\nData Scientist Salary',\n",
       " 'Tech Mahindra\\nData Scientist Salary',\n",
       " 'Fractal Analytics\\nData Scientist Salary',\n",
       " 'Deloitte\\nData Scientist Salary']"
      ]
     },
     "execution_count": 506,
     "metadata": {},
     "output_type": "execute_result"
    }
   ],
   "source": [
    "name_titles"
   ]
  },
  {
   "cell_type": "code",
   "execution_count": 1,
   "id": "aaec280c",
   "metadata": {},
   "outputs": [
    {
     "ename": "NameError",
     "evalue": "name 'driver' is not defined",
     "output_type": "error",
     "traceback": [
      "\u001b[1;31m---------------------------------------------------------------------------\u001b[0m",
      "\u001b[1;31mNameError\u001b[0m                                 Traceback (most recent call last)",
      "Input \u001b[1;32mIn [1]\u001b[0m, in \u001b[0;36m<cell line: 1>\u001b[1;34m()\u001b[0m\n\u001b[1;32m----> 1\u001b[0m data_tags \u001b[38;5;241m=\u001b[39m \u001b[43mdriver\u001b[49m\u001b[38;5;241m.\u001b[39mfind_elements (By\u001b[38;5;241m.\u001b[39mXPATH,\u001b[38;5;124m'\u001b[39m\u001b[38;5;124m//[@class=\u001b[39m\u001b[38;5;124m\"\u001b[39m\u001b[38;5;124msalary-datapoints\u001b[39m\u001b[38;5;124m\"\u001b[39m\u001b[38;5;124m]\u001b[39m\u001b[38;5;124m'\u001b[39m)\n\u001b[0;32m      2\u001b[0m \u001b[38;5;28mlen\u001b[39m (data_tags)\n",
      "\u001b[1;31mNameError\u001b[0m: name 'driver' is not defined"
     ]
    }
   ],
   "source": [
    "data_tags = driver.find_elements (By.XPATH,'//[@class=\"salary-datapoints\"]')\n",
    "len (data_tags)"
   ]
  },
  {
   "cell_type": "code",
   "execution_count": 508,
   "id": "bdc443e4",
   "metadata": {},
   "outputs": [
    {
     "data": {
      "text/plain": [
       "10"
      ]
     },
     "execution_count": 508,
     "metadata": {},
     "output_type": "execute_result"
    }
   ],
   "source": [
    "record_titles = []\n",
    "for i in data_tags:\n",
    "    record_titles.append(i.text)\n",
    "len (record_titles)"
   ]
  },
  {
   "cell_type": "code",
   "execution_count": 509,
   "id": "81318c24",
   "metadata": {},
   "outputs": [
    {
     "data": {
      "text/plain": [
       "['(841 Salaries)',\n",
       " '(501 Salaries)',\n",
       " '(394 Salaries)',\n",
       " '(318 Salaries)',\n",
       " '(300 Salaries)',\n",
       " '(228 Salaries)',\n",
       " '(225 Salaries)',\n",
       " '(218 Salaries)',\n",
       " '(166 Salaries)',\n",
       " '(163 Salaries)']"
      ]
     },
     "execution_count": 509,
     "metadata": {},
     "output_type": "execute_result"
    }
   ],
   "source": [
    "record_titles"
   ]
  },
  {
   "cell_type": "code",
   "execution_count": 510,
   "id": "2b5d6298",
   "metadata": {},
   "outputs": [
    {
     "data": {
      "text/plain": [
       "10"
      ]
     },
     "execution_count": 510,
     "metadata": {},
     "output_type": "execute_result"
    }
   ],
   "source": [
    "sal_tags = driver.find_elements (By.XPATH,'//div[@class=\"result-col salary-range\"]')\n",
    "len (sal_tags)\n"
   ]
  },
  {
   "cell_type": "code",
   "execution_count": 511,
   "id": "55883e42",
   "metadata": {},
   "outputs": [
    {
     "data": {
      "text/plain": [
       "10"
      ]
     },
     "execution_count": 511,
     "metadata": {},
     "output_type": "execute_result"
    }
   ],
   "source": [
    "salary_tags = []\n",
    "for i in sal_tags:\n",
    "    salary_tags.append(i.text)\n",
    "len (salary_tags)"
   ]
  },
  {
   "cell_type": "code",
   "execution_count": 512,
   "id": "9c71636a",
   "metadata": {},
   "outputs": [
    {
     "data": {
      "text/plain": [
       "['₹ 7.8L\\n₹ 4.5L\\n₹ 16.0L',\n",
       " '₹ 12.8L\\n₹ 5.8L\\n₹ 23.0L',\n",
       " '₹ 13.4L\\n₹ 5.3L\\n₹ 25.0L',\n",
       " '₹ 9.8L\\n₹ 5.0L\\n₹ 18.0L',\n",
       " '₹ 8.6L\\n₹ 4.8L\\n₹ 14.6L',\n",
       " '₹ 9.3L\\n₹ 4.5L\\n₹ 24.0L',\n",
       " '₹ 9.7L\\n₹ 4.5L\\n₹ 18.2L',\n",
       " '₹ 7.6L\\n₹ 4.1L\\n₹ 15.4L',\n",
       " '₹ 15.9L\\n₹ 10.0L\\n₹ 23.0L',\n",
       " '₹ 14.2L\\n₹ 7.0L\\n₹ 25.0L']"
      ]
     },
     "execution_count": 512,
     "metadata": {},
     "output_type": "execute_result"
    }
   ],
   "source": [
    "salary_tags"
   ]
  },
  {
   "cell_type": "code",
   "execution_count": 513,
   "id": "fb003298",
   "metadata": {},
   "outputs": [
    {
     "data": {
      "text/plain": [
       "(10, 10, 10)"
      ]
     },
     "execution_count": 513,
     "metadata": {},
     "output_type": "execute_result"
    }
   ],
   "source": [
    "len(name_titles),len(record_titles),len(salary_tags)"
   ]
  },
  {
   "cell_type": "code",
   "execution_count": 514,
   "id": "35a433d5",
   "metadata": {},
   "outputs": [
    {
     "data": {
      "text/html": [
       "<div>\n",
       "<style scoped>\n",
       "    .dataframe tbody tr th:only-of-type {\n",
       "        vertical-align: middle;\n",
       "    }\n",
       "\n",
       "    .dataframe tbody tr th {\n",
       "        vertical-align: top;\n",
       "    }\n",
       "\n",
       "    .dataframe thead th {\n",
       "        text-align: right;\n",
       "    }\n",
       "</style>\n",
       "<table border=\"1\" class=\"dataframe\">\n",
       "  <thead>\n",
       "    <tr style=\"text-align: right;\">\n",
       "      <th></th>\n",
       "      <th>Company Name</th>\n",
       "      <th>Total Record</th>\n",
       "      <th>Salary</th>\n",
       "    </tr>\n",
       "  </thead>\n",
       "  <tbody>\n",
       "    <tr>\n",
       "      <th>0</th>\n",
       "      <td>TCS\\nData Scientist Salary</td>\n",
       "      <td>(841 Salaries)</td>\n",
       "      <td>₹ 7.8L\\n₹ 4.5L\\n₹ 16.0L</td>\n",
       "    </tr>\n",
       "    <tr>\n",
       "      <th>1</th>\n",
       "      <td>Accenture\\nData Scientist Salary</td>\n",
       "      <td>(501 Salaries)</td>\n",
       "      <td>₹ 12.8L\\n₹ 5.8L\\n₹ 23.0L</td>\n",
       "    </tr>\n",
       "    <tr>\n",
       "      <th>2</th>\n",
       "      <td>IBM\\nData Scientist Salary</td>\n",
       "      <td>(394 Salaries)</td>\n",
       "      <td>₹ 13.4L\\n₹ 5.3L\\n₹ 25.0L</td>\n",
       "    </tr>\n",
       "    <tr>\n",
       "      <th>3</th>\n",
       "      <td>Cognizant\\nData Scientist Salary</td>\n",
       "      <td>(318 Salaries)</td>\n",
       "      <td>₹ 9.8L\\n₹ 5.0L\\n₹ 18.0L</td>\n",
       "    </tr>\n",
       "    <tr>\n",
       "      <th>4</th>\n",
       "      <td>Capgemini\\nData Scientist Salary</td>\n",
       "      <td>(300 Salaries)</td>\n",
       "      <td>₹ 8.6L\\n₹ 4.8L\\n₹ 14.6L</td>\n",
       "    </tr>\n",
       "    <tr>\n",
       "      <th>5</th>\n",
       "      <td>Infosys\\nData Scientist Salary</td>\n",
       "      <td>(228 Salaries)</td>\n",
       "      <td>₹ 9.3L\\n₹ 4.5L\\n₹ 24.0L</td>\n",
       "    </tr>\n",
       "    <tr>\n",
       "      <th>6</th>\n",
       "      <td>Wipro\\nData Scientist Salary</td>\n",
       "      <td>(225 Salaries)</td>\n",
       "      <td>₹ 9.7L\\n₹ 4.5L\\n₹ 18.2L</td>\n",
       "    </tr>\n",
       "    <tr>\n",
       "      <th>7</th>\n",
       "      <td>Tech Mahindra\\nData Scientist Salary</td>\n",
       "      <td>(218 Salaries)</td>\n",
       "      <td>₹ 7.6L\\n₹ 4.1L\\n₹ 15.4L</td>\n",
       "    </tr>\n",
       "    <tr>\n",
       "      <th>8</th>\n",
       "      <td>Fractal Analytics\\nData Scientist Salary</td>\n",
       "      <td>(166 Salaries)</td>\n",
       "      <td>₹ 15.9L\\n₹ 10.0L\\n₹ 23.0L</td>\n",
       "    </tr>\n",
       "    <tr>\n",
       "      <th>9</th>\n",
       "      <td>Deloitte\\nData Scientist Salary</td>\n",
       "      <td>(163 Salaries)</td>\n",
       "      <td>₹ 14.2L\\n₹ 7.0L\\n₹ 25.0L</td>\n",
       "    </tr>\n",
       "  </tbody>\n",
       "</table>\n",
       "</div>"
      ],
      "text/plain": [
       "                               Company Name    Total Record  \\\n",
       "0                TCS\\nData Scientist Salary  (841 Salaries)   \n",
       "1          Accenture\\nData Scientist Salary  (501 Salaries)   \n",
       "2                IBM\\nData Scientist Salary  (394 Salaries)   \n",
       "3          Cognizant\\nData Scientist Salary  (318 Salaries)   \n",
       "4          Capgemini\\nData Scientist Salary  (300 Salaries)   \n",
       "5            Infosys\\nData Scientist Salary  (228 Salaries)   \n",
       "6              Wipro\\nData Scientist Salary  (225 Salaries)   \n",
       "7      Tech Mahindra\\nData Scientist Salary  (218 Salaries)   \n",
       "8  Fractal Analytics\\nData Scientist Salary  (166 Salaries)   \n",
       "9           Deloitte\\nData Scientist Salary  (163 Salaries)   \n",
       "\n",
       "                      Salary  \n",
       "0    ₹ 7.8L\\n₹ 4.5L\\n₹ 16.0L  \n",
       "1   ₹ 12.8L\\n₹ 5.8L\\n₹ 23.0L  \n",
       "2   ₹ 13.4L\\n₹ 5.3L\\n₹ 25.0L  \n",
       "3    ₹ 9.8L\\n₹ 5.0L\\n₹ 18.0L  \n",
       "4    ₹ 8.6L\\n₹ 4.8L\\n₹ 14.6L  \n",
       "5    ₹ 9.3L\\n₹ 4.5L\\n₹ 24.0L  \n",
       "6    ₹ 9.7L\\n₹ 4.5L\\n₹ 18.2L  \n",
       "7    ₹ 7.6L\\n₹ 4.1L\\n₹ 15.4L  \n",
       "8  ₹ 15.9L\\n₹ 10.0L\\n₹ 23.0L  \n",
       "9   ₹ 14.2L\\n₹ 7.0L\\n₹ 25.0L  "
      ]
     },
     "execution_count": 514,
     "metadata": {},
     "output_type": "execute_result"
    }
   ],
   "source": [
    "jobs =  pd.DataFrame()\n",
    "jobs['Company Name']=name_titles\n",
    "jobs['Total Record'] =record_titles\n",
    "jobs['Salary'] =salary_tags\n",
    "jobs"
   ]
  },
  {
   "cell_type": "code",
   "execution_count": 1,
   "id": "030baf85",
   "metadata": {},
   "outputs": [],
   "source": [
    "#QUES NO 05\n",
    "import selenium\n",
    "from selenium import webdriver\n",
    "import pandas as pd\n",
    "import warnings\n",
    "warnings.filterwarnings('ignore')"
   ]
  },
  {
   "cell_type": "code",
   "execution_count": 2,
   "id": "52b745da",
   "metadata": {},
   "outputs": [],
   "source": [
    "driver = webdriver.Chrome(r'C:\\Users\\BHAVYA OJHA\\OneDrive\\Documents\\Downloads\\chromedriver_win32 (2)\\chromedriver.exe')"
   ]
  },
  {
   "cell_type": "code",
   "execution_count": 3,
   "id": "eb832fdd",
   "metadata": {},
   "outputs": [],
   "source": [
    "url='https://www.flipkart.com/'\n",
    "driver.get(url)"
   ]
  },
  {
   "cell_type": "code",
   "execution_count": 6,
   "id": "ed3705ae",
   "metadata": {},
   "outputs": [],
   "source": [
    "from selenium.webdriver.common.by import By"
   ]
  },
  {
   "cell_type": "code",
   "execution_count": 7,
   "id": "6a90cdf8",
   "metadata": {},
   "outputs": [
    {
     "data": {
      "text/plain": [
       "<selenium.webdriver.remote.webelement.WebElement (session=\"7cc37afdc4b4ee712028be7a515c7210\", element=\"9544c951-56c1-4c8b-a58f-6209cf1c25ce\")>"
      ]
     },
     "execution_count": 7,
     "metadata": {},
     "output_type": "execute_result"
    }
   ],
   "source": [
    "search_phone = driver.find_element(By.XPATH,'/html/body/div[1]/div/div[1]/div[1]/div[2]/div[2]/form/div/div/input')\n",
    "search_phone"
   ]
  },
  {
   "cell_type": "code",
   "execution_count": 10,
   "id": "0f83a321",
   "metadata": {},
   "outputs": [],
   "source": [
    "search_phone.send_keys('iphone 11 ')"
   ]
  },
  {
   "cell_type": "code",
   "execution_count": 13,
   "id": "14d9a30c",
   "metadata": {},
   "outputs": [
    {
     "data": {
      "text/plain": [
       "<selenium.webdriver.remote.webelement.WebElement (session=\"7cc37afdc4b4ee712028be7a515c7210\", element=\"1b53c0ba-af68-445e-8d3e-602603d8814a\")>"
      ]
     },
     "execution_count": 13,
     "metadata": {},
     "output_type": "execute_result"
    }
   ],
   "source": [
    "search_btn= driver.find_element (By.XPATH,'/html/body/div[1]/div/div[1]/div[1]/div[2]/div[2]/form/div/button')\n",
    "search_btn"
   ]
  },
  {
   "cell_type": "code",
   "execution_count": 14,
   "id": "213367b6",
   "metadata": {},
   "outputs": [],
   "source": [
    "search_btn.click()"
   ]
  },
  {
   "cell_type": "code",
   "execution_count": 31,
   "id": "6f67dc89",
   "metadata": {},
   "outputs": [
    {
     "data": {
      "text/plain": [
       "1"
      ]
     },
     "execution_count": 31,
     "metadata": {},
     "output_type": "execute_result"
    }
   ],
   "source": [
    "title_tags = driver.find_elements (By.XPATH,'//div[@class=\"row\"]')\n",
    "len (title_tags)"
   ]
  },
  {
   "cell_type": "code",
   "execution_count": null,
   "id": "362998ad",
   "metadata": {},
   "outputs": [],
   "source": []
  },
  {
   "cell_type": "code",
   "execution_count": null,
   "id": "383733e1",
   "metadata": {},
   "outputs": [],
   "source": []
  },
  {
   "cell_type": "code",
   "execution_count": null,
   "id": "7636881c",
   "metadata": {},
   "outputs": [],
   "source": []
  },
  {
   "cell_type": "code",
   "execution_count": null,
   "id": "eddfa32c",
   "metadata": {},
   "outputs": [],
   "source": []
  },
  {
   "cell_type": "code",
   "execution_count": null,
   "id": "737e95b7",
   "metadata": {},
   "outputs": [],
   "source": []
  },
  {
   "cell_type": "code",
   "execution_count": null,
   "id": "84be1dce",
   "metadata": {},
   "outputs": [],
   "source": []
  }
 ],
 "metadata": {
  "kernelspec": {
   "display_name": "Python 3 (ipykernel)",
   "language": "python",
   "name": "python3"
  },
  "language_info": {
   "codemirror_mode": {
    "name": "ipython",
    "version": 3
   },
   "file_extension": ".py",
   "mimetype": "text/x-python",
   "name": "python",
   "nbconvert_exporter": "python",
   "pygments_lexer": "ipython3",
   "version": "3.9.12"
  }
 },
 "nbformat": 4,
 "nbformat_minor": 5
}
