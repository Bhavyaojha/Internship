{
 "cells": [
  {
   "cell_type": "code",
   "execution_count": 3,
   "id": "f0d710c5",
   "metadata": {},
   "outputs": [
    {
     "name": "stdout",
     "output_type": "stream",
     "text": [
      "Requirement already satisfied: selenium in c:\\users\\bhavya ojha\\.ipython\\extensions\\lib\\site-packages (4.3.0)\n",
      "Requirement already satisfied: trio-websocket~=0.9 in c:\\users\\bhavya ojha\\.ipython\\extensions\\lib\\site-packages (from selenium) (0.9.2)\n",
      "Requirement already satisfied: trio~=0.17 in c:\\users\\bhavya ojha\\.ipython\\extensions\\lib\\site-packages (from selenium) (0.21.0)\n",
      "Requirement already satisfied: urllib3[secure,socks]~=1.26 in c:\\users\\bhavya ojha\\.ipython\\extensions\\lib\\site-packages (from selenium) (1.26.9)\n",
      "Requirement already satisfied: cffi>=1.14 in c:\\users\\bhavya ojha\\.ipython\\extensions\\lib\\site-packages (from trio~=0.17->selenium) (1.15.0)\n",
      "Requirement already satisfied: idna in c:\\users\\bhavya ojha\\.ipython\\extensions\\lib\\site-packages (from trio~=0.17->selenium) (3.3)\n",
      "Requirement already satisfied: outcome in c:\\users\\bhavya ojha\\.ipython\\extensions\\lib\\site-packages (from trio~=0.17->selenium) (1.2.0)\n",
      "Requirement already satisfied: async-generator>=1.9 in c:\\users\\bhavya ojha\\.ipython\\extensions\\lib\\site-packages (from trio~=0.17->selenium) (1.10)\n",
      "Requirement already satisfied: sortedcontainers in c:\\users\\bhavya ojha\\.ipython\\extensions\\lib\\site-packages (from trio~=0.17->selenium) (2.4.0)\n",
      "Requirement already satisfied: attrs>=19.2.0 in c:\\users\\bhavya ojha\\.ipython\\extensions\\lib\\site-packages (from trio~=0.17->selenium) (21.4.0)\n",
      "Requirement already satisfied: sniffio in c:\\users\\bhavya ojha\\.ipython\\extensions\\lib\\site-packages (from trio~=0.17->selenium) (1.2.0)\n",
      "Requirement already satisfied: pycparser in c:\\users\\bhavya ojha\\.ipython\\extensions\\lib\\site-packages (from cffi>=1.14->trio~=0.17->selenium) (2.21)\n",
      "Requirement already satisfied: wsproto>=0.14 in c:\\users\\bhavya ojha\\.ipython\\extensions\\lib\\site-packages (from trio-websocket~=0.9->selenium) (1.1.0)\n",
      "Requirement already satisfied: certifi in c:\\users\\bhavya ojha\\.ipython\\extensions\\lib\\site-packages (from urllib3[secure,socks]~=1.26->selenium) (2021.10.8)\n",
      "Requirement already satisfied: cryptography>=1.3.4 in c:\\users\\bhavya ojha\\.ipython\\extensions\\lib\\site-packages (from urllib3[secure,socks]~=1.26->selenium) (3.4.8)\n",
      "Requirement already satisfied: pyOpenSSL>=0.14 in c:\\users\\bhavya ojha\\.ipython\\extensions\\lib\\site-packages (from urllib3[secure,socks]~=1.26->selenium) (21.0.0)\n",
      "Requirement already satisfied: PySocks!=1.5.7,<2.0,>=1.5.6 in c:\\users\\bhavya ojha\\.ipython\\extensions\\lib\\site-packages (from urllib3[secure,socks]~=1.26->selenium) (1.7.1)\n",
      "Requirement already satisfied: six>=1.5.2 in c:\\users\\bhavya ojha\\.ipython\\extensions\\lib\\site-packages (from pyOpenSSL>=0.14->urllib3[secure,socks]~=1.26->selenium) (1.16.0)\n",
      "Requirement already satisfied: h11<1,>=0.9.0 in c:\\users\\bhavya ojha\\.ipython\\extensions\\lib\\site-packages (from wsproto>=0.14->trio-websocket~=0.9->selenium) (0.13.0)\n"
     ]
    }
   ],
   "source": [
    "!pip install selenium"
   ]
  },
  {
   "cell_type": "code",
   "execution_count": 1,
   "id": "6a9f954f",
   "metadata": {},
   "outputs": [],
   "source": [
    "import selenium\n",
    "from selenium import webdriver\n",
    "import pandas as pd\n",
    "import warnings\n",
    "warnings.filterwarnings('ignore')"
   ]
  },
  {
   "cell_type": "code",
   "execution_count": 2,
   "id": "bbca3bc7",
   "metadata": {},
   "outputs": [],
   "source": [
    "driver = webdriver.Chrome(r'C:\\Users\\BHAVYA OJHA\\OneDrive\\Documents\\Downloads\\chromedriver_win32 (2)\\chromedriver.exe')"
   ]
  },
  {
   "cell_type": "code",
   "execution_count": 3,
   "id": "28d79c15",
   "metadata": {},
   "outputs": [],
   "source": [
    "url='https://www.naukri.com/'\n",
    "driver.get(url)"
   ]
  },
  {
   "cell_type": "code",
   "execution_count": 4,
   "id": "bab678a6",
   "metadata": {},
   "outputs": [],
   "source": [
    "from selenium.webdriver.common.by import By"
   ]
  },
  {
   "cell_type": "markdown",
   "id": "9bcb0a9f",
   "metadata": {},
   "source": []
  },
  {
   "cell_type": "code",
   "execution_count": 5,
   "id": "fcb5d186",
   "metadata": {},
   "outputs": [
    {
     "data": {
      "text/plain": [
       "<selenium.webdriver.remote.webelement.WebElement (session=\"2dd0270b166164b06cdaf3803b92af87\", element=\"567b4ea9-fd61-47a2-a0ea-62c941a69d9f\")>"
      ]
     },
     "execution_count": 5,
     "metadata": {},
     "output_type": "execute_result"
    }
   ],
   "source": [
    "search_jobs = driver.find_element(By.CLASS_NAME,'suggestor-input')\n",
    "search_jobs"
   ]
  },
  {
   "cell_type": "code",
   "execution_count": 6,
   "id": "6d905ed6",
   "metadata": {},
   "outputs": [],
   "source": [
    "search_jobs.send_keys('Data Scientist')"
   ]
  },
  {
   "cell_type": "code",
   "execution_count": 8,
   "id": "f181313c",
   "metadata": {},
   "outputs": [
    {
     "data": {
      "text/plain": [
       "<selenium.webdriver.remote.webelement.WebElement (session=\"2d0015a4b3841997e03fe4728fcd5448\", element=\"09ee59f1-fbf6-4ef2-a4e2-72d681fe4689\")>"
      ]
     },
     "execution_count": 8,
     "metadata": {},
     "output_type": "execute_result"
    }
   ],
   "source": [
    "search_locn= driver.find_element(By.XPATH,'/html/body/div[1]/div[2]/div[3]/div/div/div[5]/div/div/div/input')\n",
    "search_locn"
   ]
  },
  {
   "cell_type": "code",
   "execution_count": 9,
   "id": "546c5975",
   "metadata": {},
   "outputs": [],
   "source": [
    "search_locn.send_keys(' New Delhi')"
   ]
  },
  {
   "cell_type": "code",
   "execution_count": 10,
   "id": "15c18e81",
   "metadata": {},
   "outputs": [
    {
     "data": {
      "text/plain": [
       "<selenium.webdriver.remote.webelement.WebElement (session=\"2d0015a4b3841997e03fe4728fcd5448\", element=\"31cbf5f6-7295-4dea-981c-b99197175bc5\")>"
      ]
     },
     "execution_count": 10,
     "metadata": {},
     "output_type": "execute_result"
    }
   ],
   "source": [
    "search_btn= driver.find_element (By.XPATH,'/html/body/div[1]/div[2]/div[3]/div/div/div[6]')\n",
    "search_btn"
   ]
  },
  {
   "cell_type": "code",
   "execution_count": 11,
   "id": "6520bf61",
   "metadata": {},
   "outputs": [],
   "source": [
    "search_btn.click()"
   ]
  },
  {
   "cell_type": "code",
   "execution_count": 13,
   "id": "13a09881",
   "metadata": {},
   "outputs": [
    {
     "data": {
      "text/plain": [
       "<selenium.webdriver.remote.webelement.WebElement (session=\"2d0015a4b3841997e03fe4728fcd5448\", element=\"10cbbcee-d4d2-4c4c-b371-40601eba001d\")>"
      ]
     },
     "execution_count": 13,
     "metadata": {},
     "output_type": "execute_result"
    }
   ],
   "source": [
    "salary_check = driver.find_element(By.XPATH,'/html/body/div[1]/div[3]/div[2]/section[1]/div[2]/div[5]/div[1]/span')\n",
    "salary_check"
   ]
  },
  {
   "cell_type": "code",
   "execution_count": 24,
   "id": "0fa2bbe1",
   "metadata": {},
   "outputs": [
    {
     "data": {
      "text/plain": [
       "18"
      ]
     },
     "execution_count": 24,
     "metadata": {},
     "output_type": "execute_result"
    }
   ],
   "source": [
    "title_tags = driver.find_elements (By.XPATH,'//a[@Class=\"title fw500 ellipsis\"]')\n",
    "len (title_tags)"
   ]
  },
  {
   "cell_type": "code",
   "execution_count": 25,
   "id": "eb16753e",
   "metadata": {},
   "outputs": [
    {
     "data": {
      "text/plain": [
       "18"
      ]
     },
     "execution_count": 25,
     "metadata": {},
     "output_type": "execute_result"
    }
   ],
   "source": [
    "job_titles = []\n",
    "for i in title_tags:\n",
    "    job_titles.append(i.text)\n",
    "len (job_titles)"
   ]
  },
  {
   "cell_type": "code",
   "execution_count": 26,
   "id": "6ab9a259",
   "metadata": {},
   "outputs": [
    {
     "data": {
      "text/plain": [
       "['Data Scientist',\n",
       " 'Research Analyst',\n",
       " 'Data Scientist',\n",
       " 'Hiring For Data Science Intern- DataTrained Education',\n",
       " 'Data Scientist SME',\n",
       " 'Research Associate - Data Science',\n",
       " 'Process Trainer',\n",
       " 'Hiring For Python Developer',\n",
       " 'Data Scientist - Experienced/fresher | Kolkata',\n",
       " 'Data Scientist',\n",
       " 'Data Science Consultant/Trainer',\n",
       " 'Data Scientist with R',\n",
       " 'Data Scientist',\n",
       " 'Data Scientist',\n",
       " 'Database Analyst',\n",
       " 'Chemistry / QC',\n",
       " 'Data Scientist',\n",
       " 'Data Scientist']"
      ]
     },
     "execution_count": 26,
     "metadata": {},
     "output_type": "execute_result"
    }
   ],
   "source": [
    "job_titles"
   ]
  },
  {
   "cell_type": "code",
   "execution_count": 28,
   "id": "5f8acf59",
   "metadata": {},
   "outputs": [
    {
     "data": {
      "text/plain": [
       "18"
      ]
     },
     "execution_count": 28,
     "metadata": {},
     "output_type": "execute_result"
    }
   ],
   "source": [
    "comp_name = driver.find_elements(By.XPATH,'//a[@]')\n",
    "len(comp_name)"
   ]
  },
  {
   "cell_type": "code",
   "execution_count": 29,
   "id": "39d5d058",
   "metadata": {},
   "outputs": [
    {
     "data": {
      "text/plain": [
       "18"
      ]
     },
     "execution_count": 29,
     "metadata": {},
     "output_type": "execute_result"
    }
   ],
   "source": [
    "company_name = []\n",
    "for i in company_tags:\n",
    "    company_name.append(i.text)\n",
    "len (company_name)"
   ]
  },
  {
   "cell_type": "code",
   "execution_count": 30,
   "id": "020a5c73",
   "metadata": {},
   "outputs": [
    {
     "data": {
      "text/plain": [
       "['Genpact',\n",
       " 'Xsys Software Technologies',\n",
       " 'Eversana',\n",
       " 'DataTrained',\n",
       " 'AMSI TECHNOLOGIES PVT LIMITED',\n",
       " 'Recodeminds Pvt Ltd',\n",
       " 'IB Business Services',\n",
       " 'ANBLICKS CLOUD DATA ENGG PRIVATE LIMITED',\n",
       " 'SIBIA Analytics and Consulting Services Pvt Ltd',\n",
       " 'cliqhr.com',\n",
       " 'Beeja Academy (Satvat Group of Companies)',\n",
       " 'Aaum Research and Analytics Private Limited',\n",
       " 'TotalAI Systems India LLP',\n",
       " 'Hanu Software Solutions',\n",
       " 'Freelancer Varsha Abhijeet Kakde',\n",
       " 'Jobjunctioninfo Pvt. Ltd.',\n",
       " 'Reed and Willow ( a unit of Talright Technologies Pvt. Ltd.)',\n",
       " 'Ignire Recruitment']"
      ]
     },
     "execution_count": 30,
     "metadata": {},
     "output_type": "execute_result"
    }
   ],
   "source": [
    "company_name"
   ]
  },
  {
   "cell_type": "code",
   "execution_count": 31,
   "id": "d8db719f",
   "metadata": {},
   "outputs": [
    {
     "data": {
      "text/plain": [
       "18"
      ]
     },
     "execution_count": 31,
     "metadata": {},
     "output_type": "execute_result"
    }
   ],
   "source": [
    "exp_tags = driver.find_elements (By.XPATH,'//li[@class=\"fleft grey-text br2 placeHolderLi experience\"]')\n",
    "len(exp_tags)"
   ]
  },
  {
   "cell_type": "code",
   "execution_count": 32,
   "id": "1cb20cf3",
   "metadata": {},
   "outputs": [
    {
     "data": {
      "text/plain": [
       "18"
      ]
     },
     "execution_count": 32,
     "metadata": {},
     "output_type": "execute_result"
    }
   ],
   "source": [
    "expiernce = []\n",
    "for i in exp_tags:\n",
    "    expiernce.append(i.text)\n",
    "len (expiernce)"
   ]
  },
  {
   "cell_type": "code",
   "execution_count": 33,
   "id": "705cf504",
   "metadata": {},
   "outputs": [
    {
     "data": {
      "text/plain": [
       "['7-12 Yrs',\n",
       " '0-5 Yrs',\n",
       " '3-7 Yrs',\n",
       " '0-2 Yrs',\n",
       " '4-9 Yrs',\n",
       " '1-3 Yrs',\n",
       " '2-5 Yrs',\n",
       " '3-6 Yrs',\n",
       " '0-4 Yrs',\n",
       " '5-8 Yrs',\n",
       " '2-3 Yrs',\n",
       " '1-3 Yrs',\n",
       " '4-7 Yrs',\n",
       " '6-9 Yrs',\n",
       " '0-2 Yrs',\n",
       " '0-1 Yrs',\n",
       " '9-12 Yrs',\n",
       " '2-7 Yrs']"
      ]
     },
     "execution_count": 33,
     "metadata": {},
     "output_type": "execute_result"
    }
   ],
   "source": [
    "expiernce"
   ]
  },
  {
   "cell_type": "code",
   "execution_count": 34,
   "id": "c6afbddb",
   "metadata": {},
   "outputs": [
    {
     "data": {
      "text/plain": [
       "18"
      ]
     },
     "execution_count": 34,
     "metadata": {},
     "output_type": "execute_result"
    }
   ],
   "source": [
    "loc_tags = driver.find_elements (By.XPATH,'//li[@class=\"fleft grey-text br2 placeHolderLi location\"]')\n",
    "len(loc_tags)"
   ]
  },
  {
   "cell_type": "code",
   "execution_count": 35,
   "id": "24cba90f",
   "metadata": {},
   "outputs": [
    {
     "data": {
      "text/plain": [
       "18"
      ]
     },
     "execution_count": 35,
     "metadata": {},
     "output_type": "execute_result"
    }
   ],
   "source": [
    "Location = []\n",
    "for i in loc_tags:\n",
    "    Location.append(i.text)\n",
    "len (Location)"
   ]
  },
  {
   "cell_type": "code",
   "execution_count": 36,
   "id": "dec8cfcc",
   "metadata": {},
   "outputs": [
    {
     "data": {
      "text/plain": [
       "['Bangalore/Bengaluru',\n",
       " 'Bangalore/Bengaluru(Mathikere +11)',\n",
       " 'Pune(Koregaon Park), Bangalore/Bengaluru(Bellandur)',\n",
       " 'Gurgaon/Gurugram, Bangalore/Bengaluru, Delhi / NCR',\n",
       " 'Chennai, Bangalore/Bengaluru\\n(WFH during Covid)',\n",
       " 'Hyderabad/Secunderabad',\n",
       " 'Tirunelveli, Chennai, Bangalore/Bengaluru(Vidyaranyapura), Vellore',\n",
       " 'Hyderabad/Secunderabad, Ahmedabad',\n",
       " 'Kolkata',\n",
       " 'Bangalore/Bengaluru',\n",
       " 'Chennai(Adyar)',\n",
       " 'Chennai\\n(WFH during Covid)',\n",
       " 'Remote',\n",
       " 'Gurgaon/Gurugram',\n",
       " 'Pune',\n",
       " 'Bangalore/Bengaluru',\n",
       " 'Pune',\n",
       " 'Nagpur']"
      ]
     },
     "execution_count": 36,
     "metadata": {},
     "output_type": "execute_result"
    }
   ],
   "source": [
    "Location"
   ]
  },
  {
   "cell_type": "code",
   "execution_count": 37,
   "id": "ab238318",
   "metadata": {},
   "outputs": [
    {
     "data": {
      "text/plain": [
       "(18, 18, 18, 18)"
      ]
     },
     "execution_count": 37,
     "metadata": {},
     "output_type": "execute_result"
    }
   ],
   "source": [
    "len(job_titles),len(company_name),len(expiernce),len(Location)"
   ]
  },
  {
   "cell_type": "code",
   "execution_count": 39,
   "id": "6fdbf6a9",
   "metadata": {},
   "outputs": [
    {
     "data": {
      "text/html": [
       "<div>\n",
       "<style scoped>\n",
       "    .dataframe tbody tr th:only-of-type {\n",
       "        vertical-align: middle;\n",
       "    }\n",
       "\n",
       "    .dataframe tbody tr th {\n",
       "        vertical-align: top;\n",
       "    }\n",
       "\n",
       "    .dataframe thead th {\n",
       "        text-align: right;\n",
       "    }\n",
       "</style>\n",
       "<table border=\"1\" class=\"dataframe\">\n",
       "  <thead>\n",
       "    <tr style=\"text-align: right;\">\n",
       "      <th></th>\n",
       "      <th>Job Titles</th>\n",
       "      <th>Company</th>\n",
       "      <th>Experince</th>\n",
       "      <th>Location</th>\n",
       "    </tr>\n",
       "  </thead>\n",
       "  <tbody>\n",
       "    <tr>\n",
       "      <th>0</th>\n",
       "      <td>Data Scientist</td>\n",
       "      <td>Genpact</td>\n",
       "      <td>7-12 Yrs</td>\n",
       "      <td>Bangalore/Bengaluru</td>\n",
       "    </tr>\n",
       "    <tr>\n",
       "      <th>1</th>\n",
       "      <td>Research Analyst</td>\n",
       "      <td>Xsys Software Technologies</td>\n",
       "      <td>0-5 Yrs</td>\n",
       "      <td>Bangalore/Bengaluru(Mathikere +11)</td>\n",
       "    </tr>\n",
       "    <tr>\n",
       "      <th>2</th>\n",
       "      <td>Data Scientist</td>\n",
       "      <td>Eversana</td>\n",
       "      <td>3-7 Yrs</td>\n",
       "      <td>Pune(Koregaon Park), Bangalore/Bengaluru(Bella...</td>\n",
       "    </tr>\n",
       "    <tr>\n",
       "      <th>3</th>\n",
       "      <td>Hiring For Data Science Intern- DataTrained Ed...</td>\n",
       "      <td>DataTrained</td>\n",
       "      <td>0-2 Yrs</td>\n",
       "      <td>Gurgaon/Gurugram, Bangalore/Bengaluru, Delhi /...</td>\n",
       "    </tr>\n",
       "    <tr>\n",
       "      <th>4</th>\n",
       "      <td>Data Scientist SME</td>\n",
       "      <td>AMSI TECHNOLOGIES PVT LIMITED</td>\n",
       "      <td>4-9 Yrs</td>\n",
       "      <td>Chennai, Bangalore/Bengaluru\\n(WFH during Covid)</td>\n",
       "    </tr>\n",
       "    <tr>\n",
       "      <th>5</th>\n",
       "      <td>Research Associate - Data Science</td>\n",
       "      <td>Recodeminds Pvt Ltd</td>\n",
       "      <td>1-3 Yrs</td>\n",
       "      <td>Hyderabad/Secunderabad</td>\n",
       "    </tr>\n",
       "    <tr>\n",
       "      <th>6</th>\n",
       "      <td>Process Trainer</td>\n",
       "      <td>IB Business Services</td>\n",
       "      <td>2-5 Yrs</td>\n",
       "      <td>Tirunelveli, Chennai, Bangalore/Bengaluru(Vidy...</td>\n",
       "    </tr>\n",
       "    <tr>\n",
       "      <th>7</th>\n",
       "      <td>Hiring For Python Developer</td>\n",
       "      <td>ANBLICKS CLOUD DATA ENGG PRIVATE LIMITED</td>\n",
       "      <td>3-6 Yrs</td>\n",
       "      <td>Hyderabad/Secunderabad, Ahmedabad</td>\n",
       "    </tr>\n",
       "    <tr>\n",
       "      <th>8</th>\n",
       "      <td>Data Scientist - Experienced/fresher | Kolkata</td>\n",
       "      <td>SIBIA Analytics and Consulting Services Pvt Ltd</td>\n",
       "      <td>0-4 Yrs</td>\n",
       "      <td>Kolkata</td>\n",
       "    </tr>\n",
       "    <tr>\n",
       "      <th>9</th>\n",
       "      <td>Data Scientist</td>\n",
       "      <td>cliqhr.com</td>\n",
       "      <td>5-8 Yrs</td>\n",
       "      <td>Bangalore/Bengaluru</td>\n",
       "    </tr>\n",
       "    <tr>\n",
       "      <th>10</th>\n",
       "      <td>Data Science Consultant/Trainer</td>\n",
       "      <td>Beeja Academy (Satvat Group of Companies)</td>\n",
       "      <td>2-3 Yrs</td>\n",
       "      <td>Chennai(Adyar)</td>\n",
       "    </tr>\n",
       "    <tr>\n",
       "      <th>11</th>\n",
       "      <td>Data Scientist with R</td>\n",
       "      <td>Aaum Research and Analytics Private Limited</td>\n",
       "      <td>1-3 Yrs</td>\n",
       "      <td>Chennai\\n(WFH during Covid)</td>\n",
       "    </tr>\n",
       "    <tr>\n",
       "      <th>12</th>\n",
       "      <td>Data Scientist</td>\n",
       "      <td>TotalAI Systems India LLP</td>\n",
       "      <td>4-7 Yrs</td>\n",
       "      <td>Remote</td>\n",
       "    </tr>\n",
       "    <tr>\n",
       "      <th>13</th>\n",
       "      <td>Data Scientist</td>\n",
       "      <td>Hanu Software Solutions</td>\n",
       "      <td>6-9 Yrs</td>\n",
       "      <td>Gurgaon/Gurugram</td>\n",
       "    </tr>\n",
       "    <tr>\n",
       "      <th>14</th>\n",
       "      <td>Database Analyst</td>\n",
       "      <td>Freelancer Varsha Abhijeet Kakde</td>\n",
       "      <td>0-2 Yrs</td>\n",
       "      <td>Pune</td>\n",
       "    </tr>\n",
       "    <tr>\n",
       "      <th>15</th>\n",
       "      <td>Chemistry / QC</td>\n",
       "      <td>Jobjunctioninfo Pvt. Ltd.</td>\n",
       "      <td>0-1 Yrs</td>\n",
       "      <td>Bangalore/Bengaluru</td>\n",
       "    </tr>\n",
       "    <tr>\n",
       "      <th>16</th>\n",
       "      <td>Data Scientist</td>\n",
       "      <td>Reed and Willow ( a unit of Talright Technolog...</td>\n",
       "      <td>9-12 Yrs</td>\n",
       "      <td>Pune</td>\n",
       "    </tr>\n",
       "    <tr>\n",
       "      <th>17</th>\n",
       "      <td>Data Scientist</td>\n",
       "      <td>Ignire Recruitment</td>\n",
       "      <td>2-7 Yrs</td>\n",
       "      <td>Nagpur</td>\n",
       "    </tr>\n",
       "  </tbody>\n",
       "</table>\n",
       "</div>"
      ],
      "text/plain": [
       "                                           Job Titles  \\\n",
       "0                                      Data Scientist   \n",
       "1                                    Research Analyst   \n",
       "2                                      Data Scientist   \n",
       "3   Hiring For Data Science Intern- DataTrained Ed...   \n",
       "4                                  Data Scientist SME   \n",
       "5                   Research Associate - Data Science   \n",
       "6                                     Process Trainer   \n",
       "7                         Hiring For Python Developer   \n",
       "8      Data Scientist - Experienced/fresher | Kolkata   \n",
       "9                                      Data Scientist   \n",
       "10                    Data Science Consultant/Trainer   \n",
       "11                              Data Scientist with R   \n",
       "12                                     Data Scientist   \n",
       "13                                     Data Scientist   \n",
       "14                                   Database Analyst   \n",
       "15                                     Chemistry / QC   \n",
       "16                                     Data Scientist   \n",
       "17                                     Data Scientist   \n",
       "\n",
       "                                              Company Experince  \\\n",
       "0                                             Genpact  7-12 Yrs   \n",
       "1                          Xsys Software Technologies   0-5 Yrs   \n",
       "2                                            Eversana   3-7 Yrs   \n",
       "3                                         DataTrained   0-2 Yrs   \n",
       "4                       AMSI TECHNOLOGIES PVT LIMITED   4-9 Yrs   \n",
       "5                                 Recodeminds Pvt Ltd   1-3 Yrs   \n",
       "6                                IB Business Services   2-5 Yrs   \n",
       "7            ANBLICKS CLOUD DATA ENGG PRIVATE LIMITED   3-6 Yrs   \n",
       "8     SIBIA Analytics and Consulting Services Pvt Ltd   0-4 Yrs   \n",
       "9                                          cliqhr.com   5-8 Yrs   \n",
       "10          Beeja Academy (Satvat Group of Companies)   2-3 Yrs   \n",
       "11        Aaum Research and Analytics Private Limited   1-3 Yrs   \n",
       "12                          TotalAI Systems India LLP   4-7 Yrs   \n",
       "13                            Hanu Software Solutions   6-9 Yrs   \n",
       "14                   Freelancer Varsha Abhijeet Kakde   0-2 Yrs   \n",
       "15                          Jobjunctioninfo Pvt. Ltd.   0-1 Yrs   \n",
       "16  Reed and Willow ( a unit of Talright Technolog...  9-12 Yrs   \n",
       "17                                 Ignire Recruitment   2-7 Yrs   \n",
       "\n",
       "                                             Location  \n",
       "0                                 Bangalore/Bengaluru  \n",
       "1                  Bangalore/Bengaluru(Mathikere +11)  \n",
       "2   Pune(Koregaon Park), Bangalore/Bengaluru(Bella...  \n",
       "3   Gurgaon/Gurugram, Bangalore/Bengaluru, Delhi /...  \n",
       "4    Chennai, Bangalore/Bengaluru\\n(WFH during Covid)  \n",
       "5                              Hyderabad/Secunderabad  \n",
       "6   Tirunelveli, Chennai, Bangalore/Bengaluru(Vidy...  \n",
       "7                   Hyderabad/Secunderabad, Ahmedabad  \n",
       "8                                             Kolkata  \n",
       "9                                 Bangalore/Bengaluru  \n",
       "10                                     Chennai(Adyar)  \n",
       "11                        Chennai\\n(WFH during Covid)  \n",
       "12                                             Remote  \n",
       "13                                   Gurgaon/Gurugram  \n",
       "14                                               Pune  \n",
       "15                                Bangalore/Bengaluru  \n",
       "16                                               Pune  \n",
       "17                                             Nagpur  "
      ]
     },
     "execution_count": 39,
     "metadata": {},
     "output_type": "execute_result"
    }
   ],
   "source": [
    "jobs =  pd.DataFrame()\n",
    "jobs['Job Titles'] =job_titles\n",
    "jobs['Company'] =company_name\n",
    "jobs['Experince'] =expiernce\n",
    "jobs['Location'] = Location\n",
    "jobs"
   ]
  },
  {
   "cell_type": "code",
   "execution_count": null,
   "id": "9a55d8db",
   "metadata": {},
   "outputs": [],
   "source": []
  },
  {
   "cell_type": "code",
   "execution_count": null,
   "id": "00b9314a",
   "metadata": {},
   "outputs": [],
   "source": []
  },
  {
   "cell_type": "code",
   "execution_count": null,
   "id": "a8ff6777",
   "metadata": {},
   "outputs": [],
   "source": []
  },
  {
   "cell_type": "code",
   "execution_count": null,
   "id": "6ce8ed69",
   "metadata": {},
   "outputs": [],
   "source": []
  },
  {
   "cell_type": "code",
   "execution_count": null,
   "id": "c4d04cd5",
   "metadata": {},
   "outputs": [],
   "source": []
  },
  {
   "cell_type": "code",
   "execution_count": null,
   "id": "3124bbe2",
   "metadata": {},
   "outputs": [],
   "source": []
  },
  {
   "cell_type": "code",
   "execution_count": null,
   "id": "6ed509e4",
   "metadata": {},
   "outputs": [],
   "source": []
  },
  {
   "cell_type": "code",
   "execution_count": null,
   "id": "96d1a139",
   "metadata": {},
   "outputs": [],
   "source": []
  },
  {
   "cell_type": "code",
   "execution_count": null,
   "id": "914669bc",
   "metadata": {},
   "outputs": [],
   "source": []
  }
 ],
 "metadata": {
  "kernelspec": {
   "display_name": "Python 3 (ipykernel)",
   "language": "python",
   "name": "python3"
  },
  "language_info": {
   "codemirror_mode": {
    "name": "ipython",
    "version": 3
   },
   "file_extension": ".py",
   "mimetype": "text/x-python",
   "name": "python",
   "nbconvert_exporter": "python",
   "pygments_lexer": "ipython3",
   "version": "3.9.12"
  }
 },
 "nbformat": 4,
 "nbformat_minor": 5
}
